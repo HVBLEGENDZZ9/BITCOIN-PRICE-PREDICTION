{
 "cells": [
  {
   "cell_type": "code",
   "execution_count": 1,
   "metadata": {},
   "outputs": [],
   "source": [
    "import numpy as np\n",
    "import pandas as pd\n",
    "import tensorflow as tf\n",
    "import matplotlib.pyplot as plt\n",
    "import seaborn as sns"
   ]
  },
  {
   "cell_type": "markdown",
   "metadata": {},
   "source": [
    "# PREPARING THE DATA"
   ]
  },
  {
   "cell_type": "code",
   "execution_count": 2,
   "metadata": {},
   "outputs": [
    {
     "data": {
      "text/html": [
       "<div>\n",
       "<style scoped>\n",
       "    .dataframe tbody tr th:only-of-type {\n",
       "        vertical-align: middle;\n",
       "    }\n",
       "\n",
       "    .dataframe tbody tr th {\n",
       "        vertical-align: top;\n",
       "    }\n",
       "\n",
       "    .dataframe thead th {\n",
       "        text-align: right;\n",
       "    }\n",
       "</style>\n",
       "<table border=\"1\" class=\"dataframe\">\n",
       "  <thead>\n",
       "    <tr style=\"text-align: right;\">\n",
       "      <th></th>\n",
       "      <th>Currency</th>\n",
       "      <th>Closing Price (USD)</th>\n",
       "      <th>24h Open (USD)</th>\n",
       "      <th>24h High (USD)</th>\n",
       "      <th>24h Low (USD)</th>\n",
       "    </tr>\n",
       "    <tr>\n",
       "      <th>Date</th>\n",
       "      <th></th>\n",
       "      <th></th>\n",
       "      <th></th>\n",
       "      <th></th>\n",
       "      <th></th>\n",
       "    </tr>\n",
       "  </thead>\n",
       "  <tbody>\n",
       "    <tr>\n",
       "      <th>2014-11-04</th>\n",
       "      <td>BTC</td>\n",
       "      <td>324.467934</td>\n",
       "      <td>323.826186</td>\n",
       "      <td>333.539527</td>\n",
       "      <td>323.106623</td>\n",
       "    </tr>\n",
       "    <tr>\n",
       "      <th>2014-11-05</th>\n",
       "      <td>BTC</td>\n",
       "      <td>328.644408</td>\n",
       "      <td>324.424164</td>\n",
       "      <td>330.671610</td>\n",
       "      <td>320.902900</td>\n",
       "    </tr>\n",
       "    <tr>\n",
       "      <th>2014-11-06</th>\n",
       "      <td>BTC</td>\n",
       "      <td>337.921358</td>\n",
       "      <td>328.653046</td>\n",
       "      <td>342.384170</td>\n",
       "      <td>328.597125</td>\n",
       "    </tr>\n",
       "    <tr>\n",
       "      <th>2014-11-07</th>\n",
       "      <td>BTC</td>\n",
       "      <td>348.992860</td>\n",
       "      <td>337.921358</td>\n",
       "      <td>352.585895</td>\n",
       "      <td>336.236830</td>\n",
       "    </tr>\n",
       "    <tr>\n",
       "      <th>2014-11-08</th>\n",
       "      <td>BTC</td>\n",
       "      <td>341.459753</td>\n",
       "      <td>348.992860</td>\n",
       "      <td>351.651854</td>\n",
       "      <td>340.196145</td>\n",
       "    </tr>\n",
       "    <tr>\n",
       "      <th>...</th>\n",
       "      <td>...</td>\n",
       "      <td>...</td>\n",
       "      <td>...</td>\n",
       "      <td>...</td>\n",
       "      <td>...</td>\n",
       "    </tr>\n",
       "    <tr>\n",
       "      <th>2021-11-29</th>\n",
       "      <td>BTC</td>\n",
       "      <td>57303.185972</td>\n",
       "      <td>54784.900000</td>\n",
       "      <td>57461.551028</td>\n",
       "      <td>53359.800000</td>\n",
       "    </tr>\n",
       "    <tr>\n",
       "      <th>2021-11-30</th>\n",
       "      <td>BTC</td>\n",
       "      <td>57834.357549</td>\n",
       "      <td>57305.932502</td>\n",
       "      <td>58890.733509</td>\n",
       "      <td>56770.710000</td>\n",
       "    </tr>\n",
       "    <tr>\n",
       "      <th>2021-12-01</th>\n",
       "      <td>BTC</td>\n",
       "      <td>56973.182042</td>\n",
       "      <td>57834.367211</td>\n",
       "      <td>59223.380063</td>\n",
       "      <td>55948.430857</td>\n",
       "    </tr>\n",
       "    <tr>\n",
       "      <th>2021-12-02</th>\n",
       "      <td>BTC</td>\n",
       "      <td>57237.271634</td>\n",
       "      <td>56974.120000</td>\n",
       "      <td>59096.879231</td>\n",
       "      <td>56519.767749</td>\n",
       "    </tr>\n",
       "    <tr>\n",
       "      <th>2021-12-03</th>\n",
       "      <td>BTC</td>\n",
       "      <td>56524.829562</td>\n",
       "      <td>57236.861498</td>\n",
       "      <td>57405.500000</td>\n",
       "      <td>55858.300000</td>\n",
       "    </tr>\n",
       "  </tbody>\n",
       "</table>\n",
       "<p>2587 rows × 5 columns</p>\n",
       "</div>"
      ],
      "text/plain": [
       "           Currency  Closing Price (USD)  24h Open (USD)  24h High (USD)  \\\n",
       "Date                                                                       \n",
       "2014-11-04      BTC           324.467934      323.826186      333.539527   \n",
       "2014-11-05      BTC           328.644408      324.424164      330.671610   \n",
       "2014-11-06      BTC           337.921358      328.653046      342.384170   \n",
       "2014-11-07      BTC           348.992860      337.921358      352.585895   \n",
       "2014-11-08      BTC           341.459753      348.992860      351.651854   \n",
       "...             ...                  ...             ...             ...   \n",
       "2021-11-29      BTC         57303.185972    54784.900000    57461.551028   \n",
       "2021-11-30      BTC         57834.357549    57305.932502    58890.733509   \n",
       "2021-12-01      BTC         56973.182042    57834.367211    59223.380063   \n",
       "2021-12-02      BTC         57237.271634    56974.120000    59096.879231   \n",
       "2021-12-03      BTC         56524.829562    57236.861498    57405.500000   \n",
       "\n",
       "            24h Low (USD)  \n",
       "Date                       \n",
       "2014-11-04     323.106623  \n",
       "2014-11-05     320.902900  \n",
       "2014-11-06     328.597125  \n",
       "2014-11-07     336.236830  \n",
       "2014-11-08     340.196145  \n",
       "...                   ...  \n",
       "2021-11-29   53359.800000  \n",
       "2021-11-30   56770.710000  \n",
       "2021-12-01   55948.430857  \n",
       "2021-12-02   56519.767749  \n",
       "2021-12-03   55858.300000  \n",
       "\n",
       "[2587 rows x 5 columns]"
      ]
     },
     "execution_count": 2,
     "metadata": {},
     "output_type": "execute_result"
    }
   ],
   "source": [
    "df = pd.read_csv(\"BTC_USD_2014-11-04_2021-12-03-CoinDesk.csv\",\n",
    "                 parse_dates = [\"Date\"],\n",
    "                 index_col = [\"Date\"])\n",
    "df"
   ]
  },
  {
   "cell_type": "code",
   "execution_count": 5,
   "metadata": {},
   "outputs": [
    {
     "data": {
      "text/html": [
       "<div>\n",
       "<style scoped>\n",
       "    .dataframe tbody tr th:only-of-type {\n",
       "        vertical-align: middle;\n",
       "    }\n",
       "\n",
       "    .dataframe tbody tr th {\n",
       "        vertical-align: top;\n",
       "    }\n",
       "\n",
       "    .dataframe thead th {\n",
       "        text-align: right;\n",
       "    }\n",
       "</style>\n",
       "<table border=\"1\" class=\"dataframe\">\n",
       "  <thead>\n",
       "    <tr style=\"text-align: right;\">\n",
       "      <th></th>\n",
       "      <th>Price</th>\n",
       "    </tr>\n",
       "    <tr>\n",
       "      <th>Date</th>\n",
       "      <th></th>\n",
       "    </tr>\n",
       "  </thead>\n",
       "  <tbody>\n",
       "    <tr>\n",
       "      <th>2014-11-04</th>\n",
       "      <td>324.467934</td>\n",
       "    </tr>\n",
       "    <tr>\n",
       "      <th>2014-11-05</th>\n",
       "      <td>328.644408</td>\n",
       "    </tr>\n",
       "    <tr>\n",
       "      <th>2014-11-06</th>\n",
       "      <td>337.921358</td>\n",
       "    </tr>\n",
       "    <tr>\n",
       "      <th>2014-11-07</th>\n",
       "      <td>348.992860</td>\n",
       "    </tr>\n",
       "    <tr>\n",
       "      <th>2014-11-08</th>\n",
       "      <td>341.459753</td>\n",
       "    </tr>\n",
       "    <tr>\n",
       "      <th>...</th>\n",
       "      <td>...</td>\n",
       "    </tr>\n",
       "    <tr>\n",
       "      <th>2021-11-29</th>\n",
       "      <td>57303.185972</td>\n",
       "    </tr>\n",
       "    <tr>\n",
       "      <th>2021-11-30</th>\n",
       "      <td>57834.357549</td>\n",
       "    </tr>\n",
       "    <tr>\n",
       "      <th>2021-12-01</th>\n",
       "      <td>56973.182042</td>\n",
       "    </tr>\n",
       "    <tr>\n",
       "      <th>2021-12-02</th>\n",
       "      <td>57237.271634</td>\n",
       "    </tr>\n",
       "    <tr>\n",
       "      <th>2021-12-03</th>\n",
       "      <td>56524.829562</td>\n",
       "    </tr>\n",
       "  </tbody>\n",
       "</table>\n",
       "<p>2587 rows × 1 columns</p>\n",
       "</div>"
      ],
      "text/plain": [
       "                   Price\n",
       "Date                    \n",
       "2014-11-04    324.467934\n",
       "2014-11-05    328.644408\n",
       "2014-11-06    337.921358\n",
       "2014-11-07    348.992860\n",
       "2014-11-08    341.459753\n",
       "...                  ...\n",
       "2021-11-29  57303.185972\n",
       "2021-11-30  57834.357549\n",
       "2021-12-01  56973.182042\n",
       "2021-12-02  57237.271634\n",
       "2021-12-03  56524.829562\n",
       "\n",
       "[2587 rows x 1 columns]"
      ]
     },
     "execution_count": 5,
     "metadata": {},
     "output_type": "execute_result"
    }
   ],
   "source": [
    "df_cp = pd.DataFrame(df[\"Closing Price (USD)\"]).rename(columns = {\"Closing Price (USD)\":\"Price\"})\n",
    "df_cp"
   ]
  },
  {
   "cell_type": "code",
   "execution_count": 11,
   "metadata": {},
   "outputs": [
    {
     "data": {
      "text/html": [
       "<div>\n",
       "<style scoped>\n",
       "    .dataframe tbody tr th:only-of-type {\n",
       "        vertical-align: middle;\n",
       "    }\n",
       "\n",
       "    .dataframe tbody tr th {\n",
       "        vertical-align: top;\n",
       "    }\n",
       "\n",
       "    .dataframe thead th {\n",
       "        text-align: right;\n",
       "    }\n",
       "</style>\n",
       "<table border=\"1\" class=\"dataframe\">\n",
       "  <thead>\n",
       "    <tr style=\"text-align: right;\">\n",
       "      <th></th>\n",
       "      <th>Price</th>\n",
       "      <th>Price + 1</th>\n",
       "      <th>Price + 2</th>\n",
       "      <th>Price + 3</th>\n",
       "      <th>Price + 4</th>\n",
       "      <th>Price + 5</th>\n",
       "      <th>Price + 6</th>\n",
       "      <th>Price + 7</th>\n",
       "    </tr>\n",
       "    <tr>\n",
       "      <th>Date</th>\n",
       "      <th></th>\n",
       "      <th></th>\n",
       "      <th></th>\n",
       "      <th></th>\n",
       "      <th></th>\n",
       "      <th></th>\n",
       "      <th></th>\n",
       "      <th></th>\n",
       "    </tr>\n",
       "  </thead>\n",
       "  <tbody>\n",
       "    <tr>\n",
       "      <th>2014-11-04</th>\n",
       "      <td>324.467934</td>\n",
       "      <td>NaN</td>\n",
       "      <td>NaN</td>\n",
       "      <td>NaN</td>\n",
       "      <td>NaN</td>\n",
       "      <td>NaN</td>\n",
       "      <td>NaN</td>\n",
       "      <td>NaN</td>\n",
       "    </tr>\n",
       "    <tr>\n",
       "      <th>2014-11-05</th>\n",
       "      <td>328.644408</td>\n",
       "      <td>324.467934</td>\n",
       "      <td>NaN</td>\n",
       "      <td>NaN</td>\n",
       "      <td>NaN</td>\n",
       "      <td>NaN</td>\n",
       "      <td>NaN</td>\n",
       "      <td>NaN</td>\n",
       "    </tr>\n",
       "    <tr>\n",
       "      <th>2014-11-06</th>\n",
       "      <td>337.921358</td>\n",
       "      <td>328.644408</td>\n",
       "      <td>324.467934</td>\n",
       "      <td>NaN</td>\n",
       "      <td>NaN</td>\n",
       "      <td>NaN</td>\n",
       "      <td>NaN</td>\n",
       "      <td>NaN</td>\n",
       "    </tr>\n",
       "    <tr>\n",
       "      <th>2014-11-07</th>\n",
       "      <td>348.992860</td>\n",
       "      <td>337.921358</td>\n",
       "      <td>328.644408</td>\n",
       "      <td>324.467934</td>\n",
       "      <td>NaN</td>\n",
       "      <td>NaN</td>\n",
       "      <td>NaN</td>\n",
       "      <td>NaN</td>\n",
       "    </tr>\n",
       "    <tr>\n",
       "      <th>2014-11-08</th>\n",
       "      <td>341.459753</td>\n",
       "      <td>348.992860</td>\n",
       "      <td>337.921358</td>\n",
       "      <td>328.644408</td>\n",
       "      <td>324.467934</td>\n",
       "      <td>NaN</td>\n",
       "      <td>NaN</td>\n",
       "      <td>NaN</td>\n",
       "    </tr>\n",
       "    <tr>\n",
       "      <th>2014-11-09</th>\n",
       "      <td>344.745289</td>\n",
       "      <td>341.459753</td>\n",
       "      <td>348.992860</td>\n",
       "      <td>337.921358</td>\n",
       "      <td>328.644408</td>\n",
       "      <td>324.467934</td>\n",
       "      <td>NaN</td>\n",
       "      <td>NaN</td>\n",
       "    </tr>\n",
       "    <tr>\n",
       "      <th>2014-11-10</th>\n",
       "      <td>357.239982</td>\n",
       "      <td>344.745289</td>\n",
       "      <td>341.459753</td>\n",
       "      <td>348.992860</td>\n",
       "      <td>337.921358</td>\n",
       "      <td>328.644408</td>\n",
       "      <td>324.467934</td>\n",
       "      <td>NaN</td>\n",
       "    </tr>\n",
       "    <tr>\n",
       "      <th>2014-11-11</th>\n",
       "      <td>371.116917</td>\n",
       "      <td>357.239982</td>\n",
       "      <td>344.745289</td>\n",
       "      <td>341.459753</td>\n",
       "      <td>348.992860</td>\n",
       "      <td>337.921358</td>\n",
       "      <td>328.644408</td>\n",
       "      <td>324.467934</td>\n",
       "    </tr>\n",
       "    <tr>\n",
       "      <th>2014-11-12</th>\n",
       "      <td>366.664633</td>\n",
       "      <td>371.116917</td>\n",
       "      <td>357.239982</td>\n",
       "      <td>344.745289</td>\n",
       "      <td>341.459753</td>\n",
       "      <td>348.992860</td>\n",
       "      <td>337.921358</td>\n",
       "      <td>328.644408</td>\n",
       "    </tr>\n",
       "    <tr>\n",
       "      <th>2014-11-13</th>\n",
       "      <td>428.882925</td>\n",
       "      <td>366.664633</td>\n",
       "      <td>371.116917</td>\n",
       "      <td>357.239982</td>\n",
       "      <td>344.745289</td>\n",
       "      <td>341.459753</td>\n",
       "      <td>348.992860</td>\n",
       "      <td>337.921358</td>\n",
       "    </tr>\n",
       "  </tbody>\n",
       "</table>\n",
       "</div>"
      ],
      "text/plain": [
       "                 Price   Price + 1   Price + 2   Price + 3   Price + 4  \\\n",
       "Date                                                                     \n",
       "2014-11-04  324.467934         NaN         NaN         NaN         NaN   \n",
       "2014-11-05  328.644408  324.467934         NaN         NaN         NaN   \n",
       "2014-11-06  337.921358  328.644408  324.467934         NaN         NaN   \n",
       "2014-11-07  348.992860  337.921358  328.644408  324.467934         NaN   \n",
       "2014-11-08  341.459753  348.992860  337.921358  328.644408  324.467934   \n",
       "2014-11-09  344.745289  341.459753  348.992860  337.921358  328.644408   \n",
       "2014-11-10  357.239982  344.745289  341.459753  348.992860  337.921358   \n",
       "2014-11-11  371.116917  357.239982  344.745289  341.459753  348.992860   \n",
       "2014-11-12  366.664633  371.116917  357.239982  344.745289  341.459753   \n",
       "2014-11-13  428.882925  366.664633  371.116917  357.239982  344.745289   \n",
       "\n",
       "             Price + 5   Price + 6   Price + 7  \n",
       "Date                                            \n",
       "2014-11-04         NaN         NaN         NaN  \n",
       "2014-11-05         NaN         NaN         NaN  \n",
       "2014-11-06         NaN         NaN         NaN  \n",
       "2014-11-07         NaN         NaN         NaN  \n",
       "2014-11-08         NaN         NaN         NaN  \n",
       "2014-11-09  324.467934         NaN         NaN  \n",
       "2014-11-10  328.644408  324.467934         NaN  \n",
       "2014-11-11  337.921358  328.644408  324.467934  \n",
       "2014-11-12  348.992860  337.921358  328.644408  \n",
       "2014-11-13  341.459753  348.992860  337.921358  "
      ]
     },
     "execution_count": 11,
     "metadata": {},
     "output_type": "execute_result"
    }
   ],
   "source": [
    "window_size = 7\n",
    "horizon_size = 1\n",
    "df_cp_win = df_cp.copy()\n",
    "for i in range(window_size):\n",
    "    df_cp_win[f\"Price + {i+1}\"] = df_cp[\"Price\"].shift(periods = i+1)\n",
    "df_cp_win.head(10)"
   ]
  },
  {
   "cell_type": "code",
   "execution_count": 66,
   "metadata": {},
   "outputs": [
    {
     "data": {
      "text/plain": [
       "(2580, 2580)"
      ]
     },
     "execution_count": 66,
     "metadata": {},
     "output_type": "execute_result"
    }
   ],
   "source": [
    "df_features = df_cp_win.dropna().drop(\"Price\", axis = 1).to_numpy()\n",
    "df_labels = df_cp_win.dropna()[\"Price\"]\n",
    "len(df_features),len(df_labels)"
   ]
  },
  {
   "cell_type": "code",
   "execution_count": 67,
   "metadata": {},
   "outputs": [],
   "source": [
    "x = df_features\n",
    "y = df_labels"
   ]
  },
  {
   "cell_type": "code",
   "execution_count": 21,
   "metadata": {},
   "outputs": [],
   "source": [
    "df_features = tf.data.Dataset.from_tensor_slices(x)\n",
    "df_labels = tf.data.Dataset.from_tensor_slices(y)"
   ]
  },
  {
   "cell_type": "code",
   "execution_count": 22,
   "metadata": {},
   "outputs": [
    {
     "data": {
      "text/plain": [
       "<PrefetchDataset shapes: ((None, 7), (None,)), types: (tf.float64, tf.float64)>"
      ]
     },
     "execution_count": 22,
     "metadata": {},
     "output_type": "execute_result"
    }
   ],
   "source": [
    "df_train = tf.data.Dataset.zip((df_features, df_labels))\n",
    "df_train = df_train.batch(128).prefetch(tf.data.AUTOTUNE)\n",
    "df_train"
   ]
  },
  {
   "cell_type": "markdown",
   "metadata": {},
   "source": [
    "# BUILDING THE FUTURE PREDICTION MODEL"
   ]
  },
  {
   "cell_type": "markdown",
   "metadata": {},
   "source": [
    "![](future_preds_diagram.PNG)"
   ]
  },
  {
   "cell_type": "code",
   "execution_count": 25,
   "metadata": {},
   "outputs": [],
   "source": [
    "model = tf.keras.Sequential([\n",
    "    tf.keras.layers.Dense(128, activation=\"relu\"),\n",
    "    tf.keras.layers.Dense(128, activation=\"relu\"),\n",
    "    tf.keras.layers.Dense(1,activation=\"linear\")\n",
    "])\n",
    "model.compile(loss = \"mae\", optimizer = tf.keras.optimizers.Adam(), metrics = [\"mae\", \"mse\"])\n",
    "history = model.fit(df_train, epochs = 1000, verbose = 0)"
   ]
  },
  {
   "cell_type": "code",
   "execution_count": 27,
   "metadata": {},
   "outputs": [
    {
     "name": "stdout",
     "output_type": "stream",
     "text": [
      "21/21 [==============================] - 0s 3ms/step - loss: 326.2764 - mae: 326.2764 - mse: 574947.3750\n"
     ]
    },
    {
     "data": {
      "text/plain": [
       "[326.2763977050781, 326.2763977050781, 574947.375]"
      ]
     },
     "execution_count": 27,
     "metadata": {},
     "output_type": "execute_result"
    }
   ],
   "source": [
    "model.evaluate(df_train)"
   ]
  },
  {
   "cell_type": "code",
   "execution_count": 53,
   "metadata": {},
   "outputs": [],
   "source": [
    "days = 14\n",
    "def future_preds(window_size = 7,\n",
    "                 model = model,\n",
    "                 days = days,\n",
    "                 values = y):\n",
    "    final_preds = []\n",
    "    last_window = list(values[-window_size:])\n",
    "    for i in range(days):\n",
    "        preds = model.predict(tf.expand_dims(last_window,axis=0))\n",
    "        final_preds.append(tf.squeeze(preds).numpy())\n",
    "        last_window.append(tf.squeeze(preds).numpy())\n",
    "        last_window = last_window[-window_size:]\n",
    "    return final_preds"
   ]
  },
  {
   "cell_type": "code",
   "execution_count": 55,
   "metadata": {},
   "outputs": [],
   "source": [
    "final_preds = future_preds()"
   ]
  },
  {
   "cell_type": "markdown",
   "metadata": {},
   "source": [
    "# PLOTTING THE PREDICTIONS "
   ]
  },
  {
   "cell_type": "code",
   "execution_count": 68,
   "metadata": {},
   "outputs": [
    {
     "data": {
      "text/plain": [
       "array(['2014-11-11T00:00:00.000000000', '2014-11-12T00:00:00.000000000',\n",
       "       '2014-11-13T00:00:00.000000000', ...,\n",
       "       '2021-12-01T00:00:00.000000000', '2021-12-02T00:00:00.000000000',\n",
       "       '2021-12-03T00:00:00.000000000'], dtype='datetime64[ns]')"
      ]
     },
     "execution_count": 68,
     "metadata": {},
     "output_type": "execute_result"
    }
   ],
   "source": [
    "timesteps = y.index.to_numpy()\n",
    "timesteps"
   ]
  },
  {
   "cell_type": "code",
   "execution_count": 74,
   "metadata": {},
   "outputs": [],
   "source": [
    "def extend_dates(start,days,offset=1):\n",
    "    start = start + np.timedelta64(offset, \"D\")\n",
    "    end = start + np.timedelta64(days, \"D\")\n",
    "    return np.arange(start,end,dtype=\"datetime64[D]\")"
   ]
  },
  {
   "cell_type": "code",
   "execution_count": 78,
   "metadata": {},
   "outputs": [
    {
     "data": {
      "text/plain": [
       "(array(['2021-12-03', '2021-12-04', '2021-12-05', '2021-12-06',\n",
       "        '2021-12-07', '2021-12-08', '2021-12-09', '2021-12-10',\n",
       "        '2021-12-11', '2021-12-12', '2021-12-13', '2021-12-14',\n",
       "        '2021-12-15', '2021-12-16', '2021-12-17'], dtype='datetime64[D]'),\n",
       " array([56524.83 , 54183.457, 55493.004, 57513.836, 57465.59 , 56667.547,\n",
       "        57069.754, 56363.816, 54619.355, 56026.72 , 57566.21 , 57113.   ,\n",
       "        56492.82 , 56982.215, 56277.223], dtype=float32))"
      ]
     },
     "execution_count": 78,
     "metadata": {},
     "output_type": "execute_result"
    }
   ],
   "source": [
    "next_timesteps = extend_dates(timesteps[-1], 14)\n",
    "next_timesteps = np.insert(next_timesteps, 0, timesteps[-1])\n",
    "forecast = np.insert(final_preds,0,y[-1])\n",
    "next_timesteps, forecast"
   ]
  },
  {
   "cell_type": "code",
   "execution_count": 83,
   "metadata": {},
   "outputs": [
    {
     "data": {
      "text/plain": [
       "<matplotlib.legend.Legend at 0x20f712db940>"
      ]
     },
     "execution_count": 83,
     "metadata": {},
     "output_type": "execute_result"
    },
    {
     "data": {
      "image/png": "[encoded data removed]",
      "text/plain": [
       "<Figure size 720x504 with 1 Axes>"
      ]
     },
     "metadata": {
      "needs_background": "light"
     },
     "output_type": "display_data"
    }
   ],
   "source": [
    "plt.figure(figsize=(10,7))\n",
    "plt.plot(timesteps[2500:],y[2500:], label = \"ACTUAL PRICES\")\n",
    "plt.plot(next_timesteps, forecast, label = \"FORECAST\")\n",
    "plt.legend()"
   ]
  },
  {
   "cell_type": "code",
   "execution_count": null,
   "metadata": {},
   "outputs": [],
   "source": []
  },
  {
   "cell_type": "code",
   "execution_count": null,
   "metadata": {},
   "outputs": [],
   "source": []
  },
  {
   "cell_type": "code",
   "execution_count": null,
   "metadata": {},
   "outputs": [],
   "source": []
  },
  {
   "cell_type": "code",
   "execution_count": null,
   "metadata": {},
   "outputs": [],
   "source": []
  },
  {
   "cell_type": "code",
   "execution_count": null,
   "metadata": {},
   "outputs": [],
   "source": []
  },
  {
   "cell_type": "code",
   "execution_count": null,
   "metadata": {},
   "outputs": [],
   "source": []
  },
  {
   "cell_type": "code",
   "execution_count": null,
   "metadata": {},
   "outputs": [],
   "source": []
  }
 ],
 "metadata": {
  "kernelspec": {
   "display_name": "Python 3",
   "language": "python",
   "name": "python3"
  },
  "language_info": {
   "codemirror_mode": {
    "name": "ipython",
    "version": 3
   },
   "file_extension": ".py",
   "mimetype": "text/x-python",
   "name": "python",
   "nbconvert_exporter": "python",
   "pygments_lexer": "ipython3",
   "version": "3.9.0"
  }
 },
 "nbformat": 4,
 "nbformat_minor": 4
}
