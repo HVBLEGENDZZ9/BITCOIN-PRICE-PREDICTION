{
 "cells": [
  {
   "cell_type": "code",
   "execution_count": 1,
   "metadata": {},
   "outputs": [],
   "source": [
    "import tensorflow as tf\n",
    "import numpy as np"
   ]
  },
  {
   "cell_type": "markdown",
   "metadata": {},
   "source": [
    "# GETTING THE DATA"
   ]
  },
  {
   "cell_type": "code",
   "execution_count": 2,
   "metadata": {},
   "outputs": [],
   "source": [
    "import pandas as pd\n",
    "df = pd.read_csv('BTC_USD_2014-11-04_2021-12-03-CoinDesk.csv',\n",
    "                parse_dates = [\"Date\"],\n",
    "                index_col = [\"Date\"])"
   ]
  },
  {
   "cell_type": "code",
   "execution_count": 3,
   "metadata": {},
   "outputs": [
    {
     "data": {
      "text/html": [
       "<div>\n",
       "<style scoped>\n",
       "    .dataframe tbody tr th:only-of-type {\n",
       "        vertical-align: middle;\n",
       "    }\n",
       "\n",
       "    .dataframe tbody tr th {\n",
       "        vertical-align: top;\n",
       "    }\n",
       "\n",
       "    .dataframe thead th {\n",
       "        text-align: right;\n",
       "    }\n",
       "</style>\n",
       "<table border=\"1\" class=\"dataframe\">\n",
       "  <thead>\n",
       "    <tr style=\"text-align: right;\">\n",
       "      <th></th>\n",
       "      <th>Currency</th>\n",
       "      <th>Closing Price (USD)</th>\n",
       "      <th>24h Open (USD)</th>\n",
       "      <th>24h High (USD)</th>\n",
       "      <th>24h Low (USD)</th>\n",
       "    </tr>\n",
       "    <tr>\n",
       "      <th>Date</th>\n",
       "      <th></th>\n",
       "      <th></th>\n",
       "      <th></th>\n",
       "      <th></th>\n",
       "      <th></th>\n",
       "    </tr>\n",
       "  </thead>\n",
       "  <tbody>\n",
       "    <tr>\n",
       "      <th>2014-11-04</th>\n",
       "      <td>BTC</td>\n",
       "      <td>324.467934</td>\n",
       "      <td>323.826186</td>\n",
       "      <td>333.539527</td>\n",
       "      <td>323.106623</td>\n",
       "    </tr>\n",
       "    <tr>\n",
       "      <th>2014-11-05</th>\n",
       "      <td>BTC</td>\n",
       "      <td>328.644408</td>\n",
       "      <td>324.424164</td>\n",
       "      <td>330.671610</td>\n",
       "      <td>320.902900</td>\n",
       "    </tr>\n",
       "    <tr>\n",
       "      <th>2014-11-06</th>\n",
       "      <td>BTC</td>\n",
       "      <td>337.921358</td>\n",
       "      <td>328.653046</td>\n",
       "      <td>342.384170</td>\n",
       "      <td>328.597125</td>\n",
       "    </tr>\n",
       "    <tr>\n",
       "      <th>2014-11-07</th>\n",
       "      <td>BTC</td>\n",
       "      <td>348.992860</td>\n",
       "      <td>337.921358</td>\n",
       "      <td>352.585895</td>\n",
       "      <td>336.236830</td>\n",
       "    </tr>\n",
       "    <tr>\n",
       "      <th>2014-11-08</th>\n",
       "      <td>BTC</td>\n",
       "      <td>341.459753</td>\n",
       "      <td>348.992860</td>\n",
       "      <td>351.651854</td>\n",
       "      <td>340.196145</td>\n",
       "    </tr>\n",
       "    <tr>\n",
       "      <th>2014-11-09</th>\n",
       "      <td>BTC</td>\n",
       "      <td>344.745289</td>\n",
       "      <td>341.459753</td>\n",
       "      <td>346.475560</td>\n",
       "      <td>340.357542</td>\n",
       "    </tr>\n",
       "    <tr>\n",
       "      <th>2014-11-10</th>\n",
       "      <td>BTC</td>\n",
       "      <td>357.239982</td>\n",
       "      <td>344.745289</td>\n",
       "      <td>357.986991</td>\n",
       "      <td>342.082083</td>\n",
       "    </tr>\n",
       "    <tr>\n",
       "      <th>2014-11-11</th>\n",
       "      <td>BTC</td>\n",
       "      <td>371.116917</td>\n",
       "      <td>371.116917</td>\n",
       "      <td>371.116917</td>\n",
       "      <td>371.116917</td>\n",
       "    </tr>\n",
       "    <tr>\n",
       "      <th>2014-11-12</th>\n",
       "      <td>BTC</td>\n",
       "      <td>366.664633</td>\n",
       "      <td>367.921363</td>\n",
       "      <td>370.800015</td>\n",
       "      <td>361.225098</td>\n",
       "    </tr>\n",
       "    <tr>\n",
       "      <th>2014-11-13</th>\n",
       "      <td>BTC</td>\n",
       "      <td>428.882925</td>\n",
       "      <td>366.789056</td>\n",
       "      <td>435.484664</td>\n",
       "      <td>366.598986</td>\n",
       "    </tr>\n",
       "  </tbody>\n",
       "</table>\n",
       "</div>"
      ],
      "text/plain": [
       "           Currency  Closing Price (USD)  24h Open (USD)  24h High (USD)  \\\n",
       "Date                                                                       \n",
       "2014-11-04      BTC           324.467934      323.826186      333.539527   \n",
       "2014-11-05      BTC           328.644408      324.424164      330.671610   \n",
       "2014-11-06      BTC           337.921358      328.653046      342.384170   \n",
       "2014-11-07      BTC           348.992860      337.921358      352.585895   \n",
       "2014-11-08      BTC           341.459753      348.992860      351.651854   \n",
       "2014-11-09      BTC           344.745289      341.459753      346.475560   \n",
       "2014-11-10      BTC           357.239982      344.745289      357.986991   \n",
       "2014-11-11      BTC           371.116917      371.116917      371.116917   \n",
       "2014-11-12      BTC           366.664633      367.921363      370.800015   \n",
       "2014-11-13      BTC           428.882925      366.789056      435.484664   \n",
       "\n",
       "            24h Low (USD)  \n",
       "Date                       \n",
       "2014-11-04     323.106623  \n",
       "2014-11-05     320.902900  \n",
       "2014-11-06     328.597125  \n",
       "2014-11-07     336.236830  \n",
       "2014-11-08     340.196145  \n",
       "2014-11-09     340.357542  \n",
       "2014-11-10     342.082083  \n",
       "2014-11-11     371.116917  \n",
       "2014-11-12     361.225098  \n",
       "2014-11-13     366.598986  "
      ]
     },
     "execution_count": 3,
     "metadata": {},
     "output_type": "execute_result"
    }
   ],
   "source": [
    "df.head(10)"
   ]
  },
  {
   "cell_type": "code",
   "execution_count": 4,
   "metadata": {},
   "outputs": [
    {
     "data": {
      "text/html": [
       "<div>\n",
       "<style scoped>\n",
       "    .dataframe tbody tr th:only-of-type {\n",
       "        vertical-align: middle;\n",
       "    }\n",
       "\n",
       "    .dataframe tbody tr th {\n",
       "        vertical-align: top;\n",
       "    }\n",
       "\n",
       "    .dataframe thead th {\n",
       "        text-align: right;\n",
       "    }\n",
       "</style>\n",
       "<table border=\"1\" class=\"dataframe\">\n",
       "  <thead>\n",
       "    <tr style=\"text-align: right;\">\n",
       "      <th></th>\n",
       "      <th>Closing Price (USD)</th>\n",
       "      <th>24h Open (USD)</th>\n",
       "      <th>24h High (USD)</th>\n",
       "      <th>24h Low (USD)</th>\n",
       "    </tr>\n",
       "  </thead>\n",
       "  <tbody>\n",
       "    <tr>\n",
       "      <th>count</th>\n",
       "      <td>2587.000000</td>\n",
       "      <td>2587.000000</td>\n",
       "      <td>2587.000000</td>\n",
       "      <td>2587.000000</td>\n",
       "    </tr>\n",
       "    <tr>\n",
       "      <th>mean</th>\n",
       "      <td>10506.981786</td>\n",
       "      <td>10485.620695</td>\n",
       "      <td>10795.323022</td>\n",
       "      <td>10140.408762</td>\n",
       "    </tr>\n",
       "    <tr>\n",
       "      <th>std</th>\n",
       "      <td>15358.759450</td>\n",
       "      <td>15333.933630</td>\n",
       "      <td>15782.180264</td>\n",
       "      <td>14824.926480</td>\n",
       "    </tr>\n",
       "    <tr>\n",
       "      <th>min</th>\n",
       "      <td>178.016008</td>\n",
       "      <td>178.016008</td>\n",
       "      <td>211.673245</td>\n",
       "      <td>169.146791</td>\n",
       "    </tr>\n",
       "    <tr>\n",
       "      <th>25%</th>\n",
       "      <td>612.405587</td>\n",
       "      <td>611.768016</td>\n",
       "      <td>615.590685</td>\n",
       "      <td>607.477402</td>\n",
       "    </tr>\n",
       "    <tr>\n",
       "      <th>50%</th>\n",
       "      <td>6193.620000</td>\n",
       "      <td>6189.560458</td>\n",
       "      <td>6346.690000</td>\n",
       "      <td>6016.419870</td>\n",
       "    </tr>\n",
       "    <tr>\n",
       "      <th>75%</th>\n",
       "      <td>10142.146805</td>\n",
       "      <td>10134.557348</td>\n",
       "      <td>10377.445994</td>\n",
       "      <td>9739.233235</td>\n",
       "    </tr>\n",
       "    <tr>\n",
       "      <th>max</th>\n",
       "      <td>67553.948930</td>\n",
       "      <td>67554.840000</td>\n",
       "      <td>68990.900000</td>\n",
       "      <td>66316.000000</td>\n",
       "    </tr>\n",
       "  </tbody>\n",
       "</table>\n",
       "</div>"
      ],
      "text/plain": [
       "       Closing Price (USD)  24h Open (USD)  24h High (USD)  24h Low (USD)\n",
       "count          2587.000000     2587.000000     2587.000000    2587.000000\n",
       "mean          10506.981786    10485.620695    10795.323022   10140.408762\n",
       "std           15358.759450    15333.933630    15782.180264   14824.926480\n",
       "min             178.016008      178.016008      211.673245     169.146791\n",
       "25%             612.405587      611.768016      615.590685     607.477402\n",
       "50%            6193.620000     6189.560458     6346.690000    6016.419870\n",
       "75%           10142.146805    10134.557348    10377.445994    9739.233235\n",
       "max           67553.948930    67554.840000    68990.900000   66316.000000"
      ]
     },
     "execution_count": 4,
     "metadata": {},
     "output_type": "execute_result"
    }
   ],
   "source": [
    "df.describe()"
   ]
  },
  {
   "cell_type": "code",
   "execution_count": 5,
   "metadata": {},
   "outputs": [
    {
     "name": "stdout",
     "output_type": "stream",
     "text": [
      "<class 'pandas.core.frame.DataFrame'>\n",
      "DatetimeIndex: 2587 entries, 2014-11-04 to 2021-12-03\n",
      "Data columns (total 5 columns):\n",
      " #   Column               Non-Null Count  Dtype  \n",
      "---  ------               --------------  -----  \n",
      " 0   Currency             2587 non-null   object \n",
      " 1   Closing Price (USD)  2587 non-null   float64\n",
      " 2   24h Open (USD)       2587 non-null   float64\n",
      " 3   24h High (USD)       2587 non-null   float64\n",
      " 4   24h Low (USD)        2587 non-null   float64\n",
      "dtypes: float64(4), object(1)\n",
      "memory usage: 121.3+ KB\n"
     ]
    }
   ],
   "source": [
    "df.info()"
   ]
  },
  {
   "cell_type": "code",
   "execution_count": 6,
   "metadata": {},
   "outputs": [],
   "source": [
    "# we will only predict the closing price\n",
    "df_cp = pd.DataFrame(df['Closing Price (USD)']).rename(columns = {'Closing Price (USD)':'Price'})"
   ]
  },
  {
   "cell_type": "code",
   "execution_count": 7,
   "metadata": {},
   "outputs": [
    {
     "data": {
      "text/html": [
       "<div>\n",
       "<style scoped>\n",
       "    .dataframe tbody tr th:only-of-type {\n",
       "        vertical-align: middle;\n",
       "    }\n",
       "\n",
       "    .dataframe tbody tr th {\n",
       "        vertical-align: top;\n",
       "    }\n",
       "\n",
       "    .dataframe thead th {\n",
       "        text-align: right;\n",
       "    }\n",
       "</style>\n",
       "<table border=\"1\" class=\"dataframe\">\n",
       "  <thead>\n",
       "    <tr style=\"text-align: right;\">\n",
       "      <th></th>\n",
       "      <th>Price</th>\n",
       "    </tr>\n",
       "    <tr>\n",
       "      <th>Date</th>\n",
       "      <th></th>\n",
       "    </tr>\n",
       "  </thead>\n",
       "  <tbody>\n",
       "    <tr>\n",
       "      <th>2014-11-04</th>\n",
       "      <td>324.467934</td>\n",
       "    </tr>\n",
       "    <tr>\n",
       "      <th>2014-11-05</th>\n",
       "      <td>328.644408</td>\n",
       "    </tr>\n",
       "    <tr>\n",
       "      <th>2014-11-06</th>\n",
       "      <td>337.921358</td>\n",
       "    </tr>\n",
       "    <tr>\n",
       "      <th>2014-11-07</th>\n",
       "      <td>348.992860</td>\n",
       "    </tr>\n",
       "    <tr>\n",
       "      <th>2014-11-08</th>\n",
       "      <td>341.459753</td>\n",
       "    </tr>\n",
       "  </tbody>\n",
       "</table>\n",
       "</div>"
      ],
      "text/plain": [
       "                 Price\n",
       "Date                  \n",
       "2014-11-04  324.467934\n",
       "2014-11-05  328.644408\n",
       "2014-11-06  337.921358\n",
       "2014-11-07  348.992860\n",
       "2014-11-08  341.459753"
      ]
     },
     "execution_count": 7,
     "metadata": {},
     "output_type": "execute_result"
    }
   ],
   "source": [
    "df_cp.head()"
   ]
  },
  {
   "cell_type": "markdown",
   "metadata": {},
   "source": [
    "# PLOTTING OUR DATA"
   ]
  },
  {
   "cell_type": "code",
   "execution_count": 8,
   "metadata": {},
   "outputs": [
    {
     "data": {
      "text/plain": [
       "<AxesSubplot:xlabel='Date'>"
      ]
     },
     "execution_count": 8,
     "metadata": {},
     "output_type": "execute_result"
    },
    {
     "data": {
      "image/png": "[encoded data removed]",
      "text/plain": [
       "<Figure size 720x504 with 1 Axes>"
      ]
     },
     "metadata": {
      "needs_background": "light"
     },
     "output_type": "display_data"
    }
   ],
   "source": [
    "import matplotlib.pyplot as plt\n",
    "df_cp.plot(figsize=(10,7))"
   ]
  },
  {
   "cell_type": "markdown",
   "metadata": {},
   "source": [
    "# CREATING TRAINING AND TEST DATA (the incorrect way)"
   ]
  },
  {
   "cell_type": "code",
   "execution_count": 9,
   "metadata": {},
   "outputs": [
    {
     "data": {
      "text/plain": [
       "(array([324.467934, 328.644408, 337.921358, 348.99286 , 341.459753,\n",
       "        344.745289, 357.239982, 371.116917, 366.664633, 428.882925]),\n",
       " array(['2014-11-04T00:00:00.000000000', '2014-11-05T00:00:00.000000000',\n",
       "        '2014-11-06T00:00:00.000000000', '2014-11-07T00:00:00.000000000',\n",
       "        '2014-11-08T00:00:00.000000000', '2014-11-09T00:00:00.000000000',\n",
       "        '2014-11-10T00:00:00.000000000', '2014-11-11T00:00:00.000000000',\n",
       "        '2014-11-12T00:00:00.000000000', '2014-11-13T00:00:00.000000000'],\n",
       "       dtype='datetime64[ns]'))"
      ]
     },
     "execution_count": 9,
     "metadata": {},
     "output_type": "execute_result"
    }
   ],
   "source": [
    "prices = df_cp['Price'].to_numpy()\n",
    "timesteps = df_cp.index.to_numpy()\n",
    "prices[:10],timesteps[:10]"
   ]
  },
  {
   "cell_type": "code",
   "execution_count": 10,
   "metadata": {},
   "outputs": [],
   "source": [
    "from sklearn.model_selection import train_test_split\n",
    "xtrain,xtest,ytrain,ytest = train_test_split(timesteps,\n",
    "                                             prices,\n",
    "                                            test_size = 0.2,\n",
    "                                            random_state = 42)"
   ]
  },
  {
   "cell_type": "code",
   "execution_count": 11,
   "metadata": {},
   "outputs": [
    {
     "data": {
      "image/png": "[encoded data removed]",
      "text/plain": [
       "<Figure size 720x504 with 1 Axes>"
      ]
     },
     "metadata": {
      "needs_background": "light"
     },
     "output_type": "display_data"
    }
   ],
   "source": [
    "plt.figure(figsize=(10,7))\n",
    "plt.title(\"TRAIN AND TEST DATA POINTS\")\n",
    "plt.scatter(xtrain,ytrain,s=10)\n",
    "plt.scatter(xtest,ytest,s=10)\n",
    "plt.legend([\"TRAIN\",\"TEST\"])\n",
    "plt.grid(True)\n",
    "#WE CAN SEE THAT THERE IS A SLIGHT DATA LEAK SINCE WE WILL BE MISSING OUT ON A FEW TRAINING POINTS SINCE THEY HAVE BECOME A \n",
    "#PART OF THE TEST DATA"
   ]
  },
  {
   "cell_type": "markdown",
   "metadata": {},
   "source": [
    "# CREATING TRAINING AND TEST DATA (the correct way)"
   ]
  },
  {
   "cell_type": "code",
   "execution_count": 12,
   "metadata": {},
   "outputs": [
    {
     "data": {
      "text/plain": [
       "(2069, 2069, 518, 518)"
      ]
     },
     "execution_count": 12,
     "metadata": {},
     "output_type": "execute_result"
    }
   ],
   "source": [
    "trainlen = int(len(timesteps)*0.8)\n",
    "xtrain = timesteps[:trainlen]\n",
    "xtest = timesteps[trainlen:]\n",
    "ytrain = prices[:trainlen]\n",
    "ytest = prices[trainlen:]\n",
    "len(xtrain),len(ytrain),len(xtest),len(ytest)"
   ]
  },
  {
   "cell_type": "markdown",
   "metadata": {},
   "source": [
    "# CREATING FUNCTION TO VISUALIZE TIME SERIES DATA"
   ]
  },
  {
   "cell_type": "code",
   "execution_count": 13,
   "metadata": {},
   "outputs": [],
   "source": [
    "def plot_timeseries(timesteps,values,label = None,format = '.',start = 0):\n",
    "    plt.plot(timesteps[start:],values[start:],format,label=label)\n",
    "    plt.xlabel(\"TIMESTEPS\")\n",
    "    plt.ylabel(\"VALUES\")\n",
    "    plt.legend()"
   ]
  },
  {
   "cell_type": "code",
   "execution_count": 14,
   "metadata": {},
   "outputs": [
    {
     "data": {
      "image/png": "[encoded data removed]",
      "text/plain": [
       "<Figure size 720x504 with 1 Axes>"
      ]
     },
     "metadata": {
      "needs_background": "light"
     },
     "output_type": "display_data"
    }
   ],
   "source": [
    "plt.figure(figsize=(10,7))\n",
    "plot_timeseries(xtrain,ytrain,label=\"TRAIN\",format='-')\n",
    "plot_timeseries(xtest,ytest,label=\"TEST\",format='-')"
   ]
  },
  {
   "cell_type": "markdown",
   "metadata": {},
   "source": [
    "# LIST OF MODELLING EXPERIMENTS:\n",
    "| EXPERIMENT NUMBER | EXPERIMENT NAME \n",
    "| :- | :-:\n",
    "| 0 | NAIVE MODEL(BASELINE) \n",
    "| 1 | DENSE MODEL HORIZON = 1, WINDOW SIZE = 7 \n",
    "| 2 | DENSE MODEL 2 HORIZON = 1, WINDOW SIZE = 30\n",
    "| 3 | DENSE MODEL 3 HORIZON = 7, WINDOW SIZE = 30\n",
    "| 4 | CONV-1D \n",
    "| 5 | LSTM \n",
    "| 6 | DENSE MODEL 4 \n",
    "| 7 | N-BEATS ALGORITHM \n",
    "| 8 | ENSEMBLE \n"
   ]
  },
  {
   "cell_type": "markdown",
   "metadata": {},
   "source": [
    "# NAIVE MODEL "
   ]
  },
  {
   "cell_type": "code",
   "execution_count": 15,
   "metadata": {},
   "outputs": [
    {
     "data": {
      "text/plain": [
       "(array([57576.849631, 57193.709727, 58959.315555, 53712.21    ,\n",
       "        54784.9     , 57303.185972, 57834.357549, 56973.182042,\n",
       "        57237.271634, 56524.829562]),\n",
       " array([56309.762162, 57576.849631, 57193.709727, 58959.315555,\n",
       "        53712.21    , 54784.9     , 57303.185972, 57834.357549,\n",
       "        56973.182042, 57237.271634]))"
      ]
     },
     "execution_count": 15,
     "metadata": {},
     "output_type": "execute_result"
    }
   ],
   "source": [
    "# the naive model forecasts the current value as the next value and it is very difficult to beat the results of the \n",
    "# baseline naive model\n",
    "naive_forecast = ytest[:-1]\n",
    "ytest[-10:],naive_forecast[-10:]"
   ]
  },
  {
   "cell_type": "markdown",
   "metadata": {},
   "source": [
    "# PLOTTING THE PREDICTIONS OF THE NAIVE MODEL"
   ]
  },
  {
   "cell_type": "code",
   "execution_count": 16,
   "metadata": {},
   "outputs": [
    {
     "data": {
      "image/png": "[encoded data removed]",
      "text/plain": [
       "<Figure size 720x504 with 1 Axes>"
      ]
     },
     "metadata": {
      "needs_background": "light"
     },
     "output_type": "display_data"
    }
   ],
   "source": [
    "plt.figure(figsize=(10,7))\n",
    "plot_timeseries(xtest[1:],naive_forecast,label=\"PREDICTIONS\",format='-')\n",
    "plot_timeseries(xtest,ytest,label=\"TEST\",format='-')"
   ]
  },
  {
   "cell_type": "code",
   "execution_count": 17,
   "metadata": {},
   "outputs": [
    {
     "data": {
      "image/png": "[encoded data removed]",
      "text/plain": [
       "<Figure size 720x504 with 1 Axes>"
      ]
     },
     "metadata": {
      "needs_background": "light"
     },
     "output_type": "display_data"
    }
   ],
   "source": [
    "plt.figure(figsize=(10,7))\n",
    "plot_timeseries(xtest[1:],naive_forecast,label=\"PREDICTIONS\",format='-',start=500)\n",
    "plot_timeseries(xtest,ytest,label=\"TEST\",format='-',start=500)"
   ]
  },
  {
   "cell_type": "markdown",
   "metadata": {},
   "source": [
    "# EVALUATING NAIVE MODEL"
   ]
  },
  {
   "cell_type": "code",
   "execution_count": 18,
   "metadata": {},
   "outputs": [],
   "source": [
    "from sklearn.metrics import mean_absolute_error\n",
    "def mean_absolute_scaled_error(y_true, y_pred, y_train):\n",
    "    import numpy as np\n",
    "    e_t = y_true - y_pred\n",
    "    scale = mean_absolute_error(y_train[1:], y_train[:-1])\n",
    "    return np.mean(np.abs(e_t / scale))"
   ]
  },
  {
   "cell_type": "code",
   "execution_count": 19,
   "metadata": {},
   "outputs": [],
   "source": [
    "def model_report(ytest,forecast):\n",
    "    \n",
    "    mae = tf.keras.losses.MeanAbsoluteError()\n",
    "    mae = mae(ytest,forecast).numpy()\n",
    "    mse = tf.keras.losses.MeanSquaredError()\n",
    "    mse = mse(ytest,forecast).numpy()\n",
    "    rmse = tf.sqrt(mse).numpy()\n",
    "    mape = tf.keras.losses.mean_absolute_percentage_error(ytest,forecast).numpy()\n",
    "    if mape.ndim>0:\n",
    "        mape = tf.reduce_mean(mape).numpy()\n",
    "    dict = {\n",
    "        \"MEAN ABSOLUTE ERROR\":mae,\n",
    "        \"MEAN SQUARED ERROR\":mse,\n",
    "        \"ROOT MEAN SQUARED ERROR\":rmse,\n",
    "        \"MEAN ABSOLUTE PERCENTAGE ERROR\":mape,\n",
    "    }\n",
    "    return dict"
   ]
  },
  {
   "cell_type": "code",
   "execution_count": 20,
   "metadata": {},
   "outputs": [
    {
     "data": {
      "text/plain": [
       "{'MEAN ABSOLUTE ERROR': 1053.4937744140625,\n",
       " 'MEAN SQUARED ERROR': 2533305.0,\n",
       " 'ROOT MEAN SQUARED ERROR': 1591.6359508380049,\n",
       " 'MEAN ABSOLUTE PERCENTAGE ERROR': 2.783683044788772}"
      ]
     },
     "execution_count": 20,
     "metadata": {},
     "output_type": "execute_result"
    }
   ],
   "source": [
    "model0_report = model_report(ytest[1:],naive_forecast)\n",
    "model0_report"
   ]
  },
  {
   "cell_type": "markdown",
   "metadata": {},
   "source": [
    "# DIVIDING DATA INTO WINDOWS"
   ]
  },
  {
   "cell_type": "code",
   "execution_count": 21,
   "metadata": {},
   "outputs": [],
   "source": [
    "def make_windows(window_size,horizon_size,data):\n",
    "    i = 0\n",
    "    windowed_data = []\n",
    "    horizon = []\n",
    "    while(i+window_size+horizon_size<=len(data)):\n",
    "        lab_data = []\n",
    "        lab_label = []\n",
    "        for j in range(i,i+window_size):\n",
    "            lab_data.append(data[j])\n",
    "        for j in range(i+window_size,i+window_size+horizon_size):\n",
    "            lab_label.append(data[j])\n",
    "        windowed_data.append(lab_data)\n",
    "        horizon.append(lab_label)\n",
    "        i+=1\n",
    "    return np.array(windowed_data),tf.squeeze(np.array(horizon)).numpy()"
   ]
  },
  {
   "cell_type": "code",
   "execution_count": 22,
   "metadata": {},
   "outputs": [],
   "source": [
    "windows,horizon = make_windows(7,1,prices)"
   ]
  },
  {
   "cell_type": "markdown",
   "metadata": {},
   "source": [
    "# SPLITTING WINDOWS AND HORIZONS INTO TRAINING AND TESTING DATA"
   ]
  },
  {
   "cell_type": "code",
   "execution_count": 23,
   "metadata": {},
   "outputs": [
    {
     "data": {
      "text/plain": [
       "((2193, 7), (387, 7), (2193,), (387,))"
      ]
     },
     "execution_count": 23,
     "metadata": {},
     "output_type": "execute_result"
    }
   ],
   "source": [
    "train_win = windows[:int(len(windows)*0.85)]\n",
    "train_hor = horizon[:int(len(windows)*0.85)]\n",
    "test_win = windows[int(len(windows)*0.85):]\n",
    "test_hor = horizon[int(len(windows)*0.85):]\n",
    "train_win.shape,test_win.shape,train_hor.shape,test_hor.shape"
   ]
  },
  {
   "cell_type": "markdown",
   "metadata": {},
   "source": [
    "# CREATING MODELLING CALLBACK"
   ]
  },
  {
   "cell_type": "code",
   "execution_count": 24,
   "metadata": {},
   "outputs": [],
   "source": [
    "def create_model_checkpoint(filename):\n",
    "    import tensorflow as tf\n",
    "    return tf.keras.callbacks.ModelCheckpoint(filename, \n",
    "                                              save_best_only=True)"
   ]
  },
  {
   "cell_type": "markdown",
   "metadata": {},
   "source": [
    "# MODEL1"
   ]
  },
  {
   "cell_type": "code",
   "execution_count": 25,
   "metadata": {},
   "outputs": [
    {
     "name": "stdout",
     "output_type": "stream",
     "text": [
      "Epoch 1/100\n",
      " 1/18 [>.............................] - ETA: 28s - loss: 4275.4541 - mae: 4275.4541 - mse: 34044756.0000INFO:tensorflow:Assets written to: model1.ckpt\\assets\n",
      "18/18 [==============================] - 2s 35ms/step - loss: 2201.6301 - mae: 2201.6301 - mse: 12182351.0000 - val_loss: 4293.6694 - val_mae: 4293.6694 - val_mse: 28050654.0000\n",
      "Epoch 2/100\n",
      " 1/18 [>.............................] - ETA: 0s - loss: 542.4119 - mae: 542.4119 - mse: 713640.3750INFO:tensorflow:Assets written to: model1.ckpt\\assets\n",
      "18/18 [==============================] - 1s 29ms/step - loss: 476.6562 - mae: 476.6562 - mse: 634767.1875 - val_loss: 3406.0513 - val_mae: 3406.0513 - val_mse: 16868348.0000\n",
      "Epoch 3/100\n",
      "18/18 [==============================] - ETA: 0s - loss: 276.3743 - mae: 276.3743 - mse: 269228.0938INFO:tensorflow:Assets written to: model1.ckpt\\assets\n",
      "18/18 [==============================] - 0s 21ms/step - loss: 276.3743 - mae: 276.3743 - mse: 269228.0938 - val_loss: 2498.4617 - val_mae: 2498.4617 - val_mse: 9735941.0000\n",
      "Epoch 4/100\n",
      "18/18 [==============================] - ETA: 0s - loss: 220.7973 - mae: 220.7973 - mse: 188386.7344INFO:tensorflow:Assets written to: model1.ckpt\\assets\n",
      "18/18 [==============================] - 0s 23ms/step - loss: 220.7973 - mae: 220.7973 - mse: 188386.7344 - val_loss: 1993.4421 - val_mae: 1993.4421 - val_mse: 6711238.5000\n",
      "Epoch 5/100\n",
      "15/18 [========================>.....] - ETA: 0s - loss: 203.2307 - mae: 203.2307 - mse: 160910.8906INFO:tensorflow:Assets written to: model1.ckpt\\assets\n",
      "18/18 [==============================] - 0s 23ms/step - loss: 205.1697 - mae: 205.1697 - mse: 169871.7344 - val_loss: 1974.7706 - val_mae: 1974.7706 - val_mse: 6368405.0000\n",
      "Epoch 6/100\n",
      " 1/18 [>.............................] - ETA: 0s - loss: 146.2934 - mae: 146.2934 - mse: 72475.7031INFO:tensorflow:Assets written to: model1.ckpt\\assets\n",
      "18/18 [==============================] - 0s 20ms/step - loss: 199.2116 - mae: 199.2116 - mse: 158233.8438 - val_loss: 1898.1459 - val_mae: 1898.1459 - val_mse: 6017486.5000\n",
      "Epoch 7/100\n",
      "18/18 [==============================] - ETA: 0s - loss: 197.3689 - mae: 197.3689 - mse: 154634.6406INFO:tensorflow:Assets written to: model1.ckpt\\assets\n",
      "18/18 [==============================] - 0s 23ms/step - loss: 197.3689 - mae: 197.3689 - mse: 154634.6406 - val_loss: 1877.2122 - val_mae: 1877.2122 - val_mse: 5753872.5000\n",
      "Epoch 8/100\n",
      "18/18 [==============================] - ETA: 0s - loss: 188.6392 - mae: 188.6392 - mse: 145972.9219INFO:tensorflow:Assets written to: model1.ckpt\\assets\n",
      "18/18 [==============================] - 0s 23ms/step - loss: 188.6392 - mae: 188.6392 - mse: 145972.9219 - val_loss: 1801.1859 - val_mae: 1801.1859 - val_mse: 5375127.0000\n",
      "Epoch 9/100\n",
      "18/18 [==============================] - 0s 5ms/step - loss: 180.9065 - mae: 180.9065 - mse: 137313.8750 - val_loss: 1833.6914 - val_mae: 1833.6914 - val_mse: 5424725.5000\n",
      "Epoch 10/100\n",
      "17/18 [===========================>..] - ETA: 0s - loss: 179.2549 - mae: 179.2549 - mse: 133727.1250INFO:tensorflow:Assets written to: model1.ckpt\\assets\n",
      "18/18 [==============================] - 0s 22ms/step - loss: 179.1850 - mae: 179.1850 - mse: 133131.2812 - val_loss: 1716.4388 - val_mae: 1716.4388 - val_mse: 4897448.5000\n",
      "Epoch 11/100\n",
      "18/18 [==============================] - 0s 6ms/step - loss: 173.3201 - mae: 173.3201 - mse: 125613.7188 - val_loss: 1719.8007 - val_mae: 1719.8007 - val_mse: 4857727.5000\n",
      "Epoch 12/100\n",
      "15/18 [========================>.....] - ETA: 0s - loss: 176.9672 - mae: 176.9672 - mse: 130419.7031INFO:tensorflow:Assets written to: model1.ckpt\\assets\n",
      "18/18 [==============================] - 0s 24ms/step - loss: 172.0693 - mae: 172.0693 - mse: 124989.9609 - val_loss: 1645.9238 - val_mae: 1645.9238 - val_mse: 4609220.5000\n",
      "Epoch 13/100\n",
      "16/18 [=========================>....] - ETA: 0s - loss: 165.9005 - mae: 165.9005 - mse: 117680.6094INFO:tensorflow:Assets written to: model1.ckpt\\assets\n",
      "18/18 [==============================] - 0s 23ms/step - loss: 168.2921 - mae: 168.2921 - mse: 120420.7344 - val_loss: 1640.5204 - val_mae: 1640.5204 - val_mse: 4705565.0000\n",
      "Epoch 14/100\n",
      "18/18 [==============================] - 0s 5ms/step - loss: 165.8638 - mae: 165.8638 - mse: 117308.8516 - val_loss: 1679.9170 - val_mae: 1679.9170 - val_mse: 4661201.0000\n",
      "Epoch 15/100\n",
      "18/18 [==============================] - 0s 5ms/step - loss: 171.4549 - mae: 171.4549 - mse: 117724.0234 - val_loss: 1765.1191 - val_mae: 1765.1191 - val_mse: 5078027.0000\n",
      "Epoch 16/100\n",
      "15/18 [========================>.....] - ETA: 0s - loss: 168.1667 - mae: 168.1667 - mse: 118153.2734INFO:tensorflow:Assets written to: model1.ckpt\\assets\n",
      "18/18 [==============================] - 0s 24ms/step - loss: 165.6861 - mae: 165.6861 - mse: 114005.8047 - val_loss: 1620.2122 - val_mae: 1620.2122 - val_mse: 4416562.5000\n",
      "Epoch 17/100\n",
      "16/18 [=========================>....] - ETA: 0s - loss: 165.2129 - mae: 165.2129 - mse: 113292.6875INFO:tensorflow:Assets written to: model1.ckpt\\assets\n",
      "18/18 [==============================] - 0s 23ms/step - loss: 166.6996 - mae: 166.6996 - mse: 114317.4609 - val_loss: 1615.0544 - val_mae: 1615.0544 - val_mse: 4392783.5000\n",
      "Epoch 18/100\n",
      "15/18 [========================>.....] - ETA: 0s - loss: 159.6549 - mae: 159.6549 - mse: 109105.2344INFO:tensorflow:Assets written to: model1.ckpt\\assets\n",
      "18/18 [==============================] - 0s 23ms/step - loss: 161.5782 - mae: 161.5782 - mse: 111368.8828 - val_loss: 1518.5719 - val_mae: 1518.5719 - val_mse: 4046192.5000\n",
      "Epoch 19/100\n",
      "18/18 [==============================] - 0s 6ms/step - loss: 156.3145 - mae: 156.3145 - mse: 105678.1562 - val_loss: 1523.7980 - val_mae: 1523.7980 - val_mse: 4034951.0000\n",
      "Epoch 20/100\n",
      "16/18 [=========================>....] - ETA: 0s - loss: 154.5059 - mae: 154.5059 - mse: 103545.9688INFO:tensorflow:Assets written to: model1.ckpt\\assets\n",
      "18/18 [==============================] - 0s 23ms/step - loss: 154.8201 - mae: 154.8201 - mse: 103023.7109 - val_loss: 1495.1211 - val_mae: 1495.1211 - val_mse: 3931238.5000\n",
      "Epoch 21/100\n",
      "18/18 [==============================] - 0s 6ms/step - loss: 154.3938 - mae: 154.3938 - mse: 102968.4766 - val_loss: 1514.0229 - val_mae: 1514.0229 - val_mse: 3985326.2500\n",
      "Epoch 22/100\n",
      "17/18 [===========================>..] - ETA: 0s - loss: 156.0096 - mae: 156.0096 - mse: 103470.3906INFO:tensorflow:Assets written to: model1.ckpt\\assets\n",
      "18/18 [==============================] - 0s 23ms/step - loss: 156.0705 - mae: 156.0705 - mse: 103792.1172 - val_loss: 1479.8649 - val_mae: 1479.8649 - val_mse: 3866421.2500\n",
      "Epoch 23/100\n",
      "18/18 [==============================] - 0s 6ms/step - loss: 152.1913 - mae: 152.1913 - mse: 101539.7031 - val_loss: 1530.0161 - val_mae: 1530.0161 - val_mse: 4046939.2500\n",
      "Epoch 24/100\n",
      "18/18 [==============================] - 0s 5ms/step - loss: 154.5411 - mae: 154.5411 - mse: 103760.6094 - val_loss: 1516.7134 - val_mae: 1516.7134 - val_mse: 4098902.0000\n",
      "Epoch 25/100\n",
      "18/18 [==============================] - 0s 6ms/step - loss: 150.0092 - mae: 150.0092 - mse: 98177.2500 - val_loss: 1542.7852 - val_mae: 1542.7852 - val_mse: 4094621.7500\n",
      "Epoch 26/100\n",
      "15/18 [========================>.....] - ETA: 0s - loss: 155.3457 - mae: 155.3457 - mse: 99893.5703INFO:tensorflow:Assets written to: model1.ckpt\\assets\n",
      "18/18 [==============================] - 0s 23ms/step - loss: 155.7501 - mae: 155.7501 - mse: 98902.0625 - val_loss: 1454.3469 - val_mae: 1454.3469 - val_mse: 3764548.7500\n",
      "Epoch 27/100\n",
      "18/18 [==============================] - 0s 5ms/step - loss: 148.4428 - mae: 148.4428 - mse: 97964.7578 - val_loss: 1458.3700 - val_mae: 1458.3700 - val_mse: 3805538.5000\n",
      "Epoch 28/100\n",
      "18/18 [==============================] - 0s 6ms/step - loss: 146.9140 - mae: 146.9140 - mse: 97115.9688 - val_loss: 1500.8303 - val_mae: 1500.8303 - val_mse: 4031744.7500\n",
      "Epoch 29/100\n",
      "18/18 [==============================] - 0s 5ms/step - loss: 149.7340 - mae: 149.7340 - mse: 97565.6641 - val_loss: 1521.3850 - val_mae: 1521.3850 - val_mse: 4011929.2500\n",
      "Epoch 30/100\n",
      "15/18 [========================>.....] - ETA: 0s - loss: 145.4731 - mae: 145.4731 - mse: 94593.4062INFO:tensorflow:Assets written to: model1.ckpt\\assets\n",
      "18/18 [==============================] - 1s 31ms/step - loss: 146.6593 - mae: 146.6593 - mse: 94509.8203 - val_loss: 1451.7645 - val_mae: 1451.7645 - val_mse: 3740925.2500\n"
     ]
    },
    {
     "name": "stdout",
     "output_type": "stream",
     "text": [
      "Epoch 31/100\n",
      "17/18 [===========================>..] - ETA: 0s - loss: 148.6915 - mae: 148.6915 - mse: 95120.4609 INFO:tensorflow:Assets written to: model1.ckpt\\assets\n",
      "18/18 [==============================] - 0s 22ms/step - loss: 148.4706 - mae: 148.4706 - mse: 94699.6562 - val_loss: 1424.8947 - val_mae: 1424.8947 - val_mse: 3651019.5000\n",
      "Epoch 32/100\n",
      "18/18 [==============================] - 0s 4ms/step - loss: 146.4527 - mae: 146.4527 - mse: 94499.7812 - val_loss: 1426.8932 - val_mae: 1426.8932 - val_mse: 3666150.2500\n",
      "Epoch 33/100\n",
      "18/18 [==============================] - 0s 5ms/step - loss: 149.7677 - mae: 149.7677 - mse: 95429.2031 - val_loss: 1530.8440 - val_mae: 1530.8440 - val_mse: 4044360.0000\n",
      "Epoch 34/100\n",
      "15/18 [========================>.....] - ETA: 0s - loss: 159.0733 - mae: 159.0733 - mse: 99916.1406 INFO:tensorflow:Assets written to: model1.ckpt\\assets\n",
      "18/18 [==============================] - 0s 25ms/step - loss: 158.3769 - mae: 158.3769 - mse: 99319.0391 - val_loss: 1423.4951 - val_mae: 1423.4951 - val_mse: 3667313.0000\n",
      "Epoch 35/100\n",
      " 1/18 [>.............................] - ETA: 0s - loss: 117.6756 - mae: 117.6756 - mse: 65124.9023INFO:tensorflow:Assets written to: model1.ckpt\\assets\n",
      "18/18 [==============================] - 0s 20ms/step - loss: 147.6066 - mae: 147.6066 - mse: 92476.4531 - val_loss: 1407.8987 - val_mae: 1407.8987 - val_mse: 3589393.2500\n",
      "Epoch 36/100\n",
      "18/18 [==============================] - 0s 4ms/step - loss: 145.1210 - mae: 145.1210 - mse: 92704.9844 - val_loss: 1412.6029 - val_mae: 1412.6029 - val_mse: 3621312.2500\n",
      "Epoch 37/100\n",
      " 1/18 [>.............................] - ETA: 0s - loss: 209.5292 - mae: 209.5292 - mse: 178935.3906INFO:tensorflow:Assets written to: model1.ckpt\\assets\n",
      "18/18 [==============================] - 0s 21ms/step - loss: 144.6219 - mae: 144.6219 - mse: 92376.0859 - val_loss: 1406.2413 - val_mae: 1406.2413 - val_mse: 3593980.0000\n",
      "Epoch 38/100\n",
      "18/18 [==============================] - 0s 4ms/step - loss: 143.8573 - mae: 143.8573 - mse: 92317.4062 - val_loss: 1455.7971 - val_mae: 1455.7971 - val_mse: 3816015.0000\n",
      "Epoch 39/100\n",
      "18/18 [==============================] - 0s 4ms/step - loss: 152.0869 - mae: 152.0869 - mse: 94753.9922 - val_loss: 1618.1232 - val_mae: 1618.1232 - val_mse: 4398093.0000\n",
      "Epoch 40/100\n",
      "18/18 [==============================] - 0s 4ms/step - loss: 153.6370 - mae: 153.6370 - mse: 97976.0859 - val_loss: 1430.9963 - val_mae: 1430.9963 - val_mse: 3711163.7500\n",
      "Epoch 41/100\n",
      " 1/18 [>.............................] - ETA: 0s - loss: 166.9911 - mae: 166.9911 - mse: 110389.6250INFO:tensorflow:Assets written to: model1.ckpt\\assets\n",
      "18/18 [==============================] - 0s 21ms/step - loss: 144.2017 - mae: 144.2017 - mse: 91394.7188 - val_loss: 1389.9138 - val_mae: 1389.9138 - val_mse: 3535898.7500\n",
      "Epoch 42/100\n",
      "18/18 [==============================] - 0s 4ms/step - loss: 143.6674 - mae: 143.6674 - mse: 89819.9219 - val_loss: 1405.2449 - val_mae: 1405.2449 - val_mse: 3604167.7500\n",
      "Epoch 43/100\n",
      "18/18 [==============================] - 0s 4ms/step - loss: 146.0457 - mae: 146.0457 - mse: 91225.3672 - val_loss: 1396.3376 - val_mae: 1396.3376 - val_mse: 3548914.0000\n",
      "Epoch 44/100\n",
      " 1/18 [>.............................] - ETA: 0s - loss: 128.1753 - mae: 128.1753 - mse: 73501.3594INFO:tensorflow:Assets written to: model1.ckpt\\assets\n",
      "18/18 [==============================] - 0s 21ms/step - loss: 140.9549 - mae: 140.9549 - mse: 88335.7188 - val_loss: 1379.8879 - val_mae: 1379.8879 - val_mse: 3504507.7500\n",
      "Epoch 45/100\n",
      "18/18 [==============================] - 0s 4ms/step - loss: 142.7077 - mae: 142.7077 - mse: 88443.1172 - val_loss: 1433.3372 - val_mae: 1433.3372 - val_mse: 3709402.2500\n",
      "Epoch 46/100\n",
      "18/18 [==============================] - 0s 4ms/step - loss: 148.0443 - mae: 148.0443 - mse: 91148.6641 - val_loss: 1623.6378 - val_mae: 1623.6378 - val_mse: 4415572.0000\n",
      "Epoch 47/100\n",
      "18/18 [==============================] - 0s 4ms/step - loss: 146.1018 - mae: 146.1018 - mse: 93478.4219 - val_loss: 1386.7609 - val_mae: 1386.7609 - val_mse: 3533221.7500\n",
      "Epoch 48/100\n",
      "18/18 [==============================] - 0s 4ms/step - loss: 140.5777 - mae: 140.5777 - mse: 88911.3594 - val_loss: 1386.8384 - val_mae: 1386.8384 - val_mse: 3533691.2500\n",
      "Epoch 49/100\n",
      " 1/18 [>.............................] - ETA: 0s - loss: 121.7887 - mae: 121.7887 - mse: 50715.4922INFO:tensorflow:Assets written to: model1.ckpt\\assets\n",
      "18/18 [==============================] - 0s 20ms/step - loss: 142.6773 - mae: 142.6773 - mse: 89534.5547 - val_loss: 1368.6021 - val_mae: 1368.6021 - val_mse: 3462338.2500\n",
      "Epoch 50/100\n",
      "18/18 [==============================] - 0s 4ms/step - loss: 148.9702 - mae: 148.9702 - mse: 91254.0156 - val_loss: 1370.0254 - val_mae: 1370.0254 - val_mse: 3468196.0000\n",
      "Epoch 51/100\n",
      "18/18 [==============================] - 0s 4ms/step - loss: 144.3276 - mae: 144.3276 - mse: 91205.4688 - val_loss: 1897.2260 - val_mae: 1897.2260 - val_mse: 5647237.0000\n",
      "Epoch 52/100\n",
      "18/18 [==============================] - 0s 4ms/step - loss: 175.4300 - mae: 175.4300 - mse: 109080.4453 - val_loss: 1444.6069 - val_mae: 1444.6069 - val_mse: 3720237.7500\n",
      "Epoch 53/100\n",
      "18/18 [==============================] - 0s 4ms/step - loss: 150.9842 - mae: 150.9842 - mse: 94313.6094 - val_loss: 1502.7324 - val_mae: 1502.7324 - val_mse: 4003941.0000\n",
      "Epoch 54/100\n",
      "18/18 [==============================] - 0s 4ms/step - loss: 152.3061 - mae: 152.3061 - mse: 93437.8047 - val_loss: 1492.6099 - val_mae: 1492.6099 - val_mse: 3897786.7500\n",
      "Epoch 55/100\n",
      "18/18 [==============================] - 0s 4ms/step - loss: 146.4415 - mae: 146.4415 - mse: 91843.0312 - val_loss: 1547.8075 - val_mae: 1547.8075 - val_mse: 4213747.0000\n",
      "Epoch 56/100\n",
      " 1/18 [>.............................] - ETA: 0s - loss: 156.0701 - mae: 156.0701 - mse: 69462.8438INFO:tensorflow:Assets written to: model1.ckpt\\assets\n",
      "18/18 [==============================] - 0s 21ms/step - loss: 147.7307 - mae: 147.7307 - mse: 91667.8203 - val_loss: 1361.2971 - val_mae: 1361.2971 - val_mse: 3454411.7500\n",
      "Epoch 57/100\n",
      "18/18 [==============================] - 0s 4ms/step - loss: 148.0118 - mae: 148.0118 - mse: 91422.0781 - val_loss: 1372.8319 - val_mae: 1372.8319 - val_mse: 3479105.7500\n",
      "Epoch 58/100\n",
      "18/18 [==============================] - 0s 4ms/step - loss: 144.4701 - mae: 144.4701 - mse: 90259.5938 - val_loss: 1363.7256 - val_mae: 1363.7256 - val_mse: 3457612.5000\n",
      "Epoch 59/100\n",
      "18/18 [==============================] - 0s 4ms/step - loss: 143.5257 - mae: 143.5257 - mse: 89046.5859 - val_loss: 1418.5570 - val_mae: 1418.5570 - val_mse: 3631120.2500\n",
      "Epoch 60/100\n",
      "18/18 [==============================] - 0s 4ms/step - loss: 152.5605 - mae: 152.5605 - mse: 94224.9297 - val_loss: 1703.2910 - val_mae: 1703.2910 - val_mse: 4976060.0000\n",
      "Epoch 61/100\n",
      "18/18 [==============================] - 0s 4ms/step - loss: 147.8245 - mae: 147.8245 - mse: 90993.4922 - val_loss: 1369.1439 - val_mae: 1369.1439 - val_mse: 3468350.7500\n",
      "Epoch 62/100\n",
      " 1/18 [>.............................] - ETA: 0s - loss: 106.1278 - mae: 106.1278 - mse: 55251.1172INFO:tensorflow:Assets written to: model1.ckpt\\assets\n",
      "18/18 [==============================] - 0s 21ms/step - loss: 151.2966 - mae: 151.2966 - mse: 93194.1094 - val_loss: 1353.5726 - val_mae: 1353.5726 - val_mse: 3420594.5000\n",
      "Epoch 63/100\n",
      "18/18 [==============================] - 0s 4ms/step - loss: 139.6267 - mae: 139.6267 - mse: 85613.0938 - val_loss: 1354.9469 - val_mae: 1354.9469 - val_mse: 3424868.5000\n",
      "Epoch 64/100\n",
      "18/18 [==============================] - 0s 4ms/step - loss: 137.6818 - mae: 137.6818 - mse: 86047.0625 - val_loss: 1407.4935 - val_mae: 1407.4935 - val_mse: 3592088.7500\n",
      "Epoch 65/100\n",
      "18/18 [==============================] - 0s 4ms/step - loss: 138.6571 - mae: 138.6571 - mse: 86563.7266 - val_loss: 1379.8997 - val_mae: 1379.8997 - val_mse: 3500165.0000\n",
      "Epoch 66/100\n",
      "18/18 [==============================] - 0s 4ms/step - loss: 139.4757 - mae: 139.4757 - mse: 86678.0156 - val_loss: 1358.6440 - val_mae: 1358.6440 - val_mse: 3435198.5000\n",
      "Epoch 67/100\n",
      "18/18 [==============================] - 0s 4ms/step - loss: 141.2921 - mae: 141.2921 - mse: 87416.8594 - val_loss: 1379.3043 - val_mae: 1379.3043 - val_mse: 3497071.2500\n"
     ]
    },
    {
     "name": "stdout",
     "output_type": "stream",
     "text": [
      "Epoch 68/100\n",
      "18/18 [==============================] - 0s 4ms/step - loss: 141.2533 - mae: 141.2533 - mse: 86845.9922 - val_loss: 1368.0861 - val_mae: 1368.0861 - val_mse: 3461239.0000\n",
      "Epoch 69/100\n",
      "18/18 [==============================] - 0s 4ms/step - loss: 138.4368 - mae: 138.4368 - mse: 84363.5312 - val_loss: 1635.8141 - val_mae: 1635.8141 - val_mse: 4457844.5000\n",
      "Epoch 70/100\n",
      "18/18 [==============================] - 0s 4ms/step - loss: 157.5022 - mae: 157.5022 - mse: 96686.2812 - val_loss: 1471.1719 - val_mae: 1471.1719 - val_mse: 3847531.2500\n",
      "Epoch 71/100\n",
      " 1/18 [>.............................] - ETA: 0s - loss: 165.0580 - mae: 165.0580 - mse: 100465.8750INFO:tensorflow:Assets written to: model1.ckpt\\assets\n",
      "18/18 [==============================] - 0s 20ms/step - loss: 147.1678 - mae: 147.1678 - mse: 90902.6562 - val_loss: 1353.3154 - val_mae: 1353.3154 - val_mse: 3420009.2500\n",
      "Epoch 72/100\n",
      " 1/18 [>.............................] - ETA: 0s - loss: 146.7081 - mae: 146.7081 - mse: 84659.8516INFO:tensorflow:Assets written to: model1.ckpt\\assets\n",
      "18/18 [==============================] - 0s 20ms/step - loss: 146.8835 - mae: 146.8835 - mse: 92234.7891 - val_loss: 1345.2660 - val_mae: 1345.2660 - val_mse: 3397888.7500\n",
      "Epoch 73/100\n",
      "18/18 [==============================] - 0s 4ms/step - loss: 139.3223 - mae: 139.3223 - mse: 87336.7031 - val_loss: 1403.4257 - val_mae: 1403.4257 - val_mse: 3575281.0000\n",
      "Epoch 74/100\n",
      "18/18 [==============================] - 0s 4ms/step - loss: 136.8233 - mae: 136.8233 - mse: 84194.5391 - val_loss: 1347.3778 - val_mae: 1347.3778 - val_mse: 3402871.0000\n",
      "Epoch 75/100\n",
      "18/18 [==============================] - 0s 4ms/step - loss: 138.0259 - mae: 138.0259 - mse: 84631.0938 - val_loss: 1351.8458 - val_mae: 1351.8458 - val_mse: 3413868.7500\n",
      "Epoch 76/100\n",
      "18/18 [==============================] - 0s 4ms/step - loss: 137.9851 - mae: 137.9851 - mse: 84338.1641 - val_loss: 1368.9891 - val_mae: 1368.9891 - val_mse: 3463736.5000\n",
      "Epoch 77/100\n",
      "18/18 [==============================] - 0s 4ms/step - loss: 137.8913 - mae: 137.8913 - mse: 85576.6562 - val_loss: 1346.4821 - val_mae: 1346.4821 - val_mse: 3398050.5000\n",
      "Epoch 78/100\n",
      " 1/18 [>.............................] - ETA: 0s - loss: 137.9645 - mae: 137.9645 - mse: 74473.2109INFO:tensorflow:Assets written to: model1.ckpt\\assets\n",
      "18/18 [==============================] - 0s 20ms/step - loss: 137.6242 - mae: 137.6242 - mse: 84943.9844 - val_loss: 1343.6382 - val_mae: 1343.6382 - val_mse: 3393729.7500\n",
      "Epoch 79/100\n",
      "18/18 [==============================] - 0s 4ms/step - loss: 135.7324 - mae: 135.7324 - mse: 84147.0391 - val_loss: 1345.5298 - val_mae: 1345.5298 - val_mse: 3398131.5000\n",
      "Epoch 80/100\n",
      "18/18 [==============================] - 0s 4ms/step - loss: 139.5836 - mae: 139.5836 - mse: 85816.2266 - val_loss: 1444.3102 - val_mae: 1444.3102 - val_mse: 3734153.5000\n",
      "Epoch 81/100\n",
      "18/18 [==============================] - 0s 4ms/step - loss: 140.3520 - mae: 140.3520 - mse: 87151.6016 - val_loss: 1404.6420 - val_mae: 1404.6420 - val_mse: 3583338.7500\n",
      "Epoch 82/100\n",
      "18/18 [==============================] - 0s 4ms/step - loss: 138.9682 - mae: 138.9682 - mse: 84221.4297 - val_loss: 1643.3773 - val_mae: 1643.3773 - val_mse: 4648644.0000\n",
      "Epoch 83/100\n",
      "18/18 [==============================] - 0s 4ms/step - loss: 156.8558 - mae: 156.8558 - mse: 96098.6406 - val_loss: 1344.8882 - val_mae: 1344.8882 - val_mse: 3393442.5000\n",
      "Epoch 84/100\n",
      " 1/18 [>.............................] - ETA: 0s - loss: 131.1274 - mae: 131.1274 - mse: 71172.2188INFO:tensorflow:Assets written to: model1.ckpt\\assets\n",
      "18/18 [==============================] - 0s 21ms/step - loss: 141.0954 - mae: 141.0954 - mse: 87063.2656 - val_loss: 1342.8090 - val_mae: 1342.8090 - val_mse: 3386376.5000\n",
      "Epoch 85/100\n",
      "18/18 [==============================] - 0s 4ms/step - loss: 149.3679 - mae: 149.3679 - mse: 91540.8438 - val_loss: 1524.6366 - val_mae: 1524.6366 - val_mse: 4024165.7500\n",
      "Epoch 86/100\n",
      " 1/18 [>.............................] - ETA: 0s - loss: 152.0298 - mae: 152.0298 - mse: 74790.1875INFO:tensorflow:Assets written to: model1.ckpt\\assets\n",
      "18/18 [==============================] - 0s 21ms/step - loss: 143.3997 - mae: 143.3997 - mse: 88371.0234 - val_loss: 1341.4036 - val_mae: 1341.4036 - val_mse: 3381786.5000\n",
      "Epoch 87/100\n",
      "18/18 [==============================] - 0s 4ms/step - loss: 139.7747 - mae: 139.7747 - mse: 86124.7500 - val_loss: 1408.9471 - val_mae: 1408.9471 - val_mse: 3601892.0000\n",
      "Epoch 88/100\n",
      "18/18 [==============================] - 0s 4ms/step - loss: 136.4423 - mae: 136.4423 - mse: 83064.5312 - val_loss: 1358.7379 - val_mae: 1358.7379 - val_mse: 3428731.0000\n",
      "Epoch 89/100\n",
      "18/18 [==============================] - 0s 4ms/step - loss: 138.2805 - mae: 138.2805 - mse: 85139.6016 - val_loss: 1345.7589 - val_mae: 1345.7589 - val_mse: 3395200.7500\n",
      "Epoch 90/100\n",
      " 1/18 [>.............................] - ETA: 0s - loss: 116.1498 - mae: 116.1498 - mse: 53066.5391INFO:tensorflow:Assets written to: model1.ckpt\\assets\n",
      "18/18 [==============================] - 0s 20ms/step - loss: 139.7915 - mae: 139.7915 - mse: 85143.0312 - val_loss: 1340.3390 - val_mae: 1340.3390 - val_mse: 3377424.5000\n",
      "Epoch 91/100\n",
      "18/18 [==============================] - 0s 4ms/step - loss: 137.4673 - mae: 137.4673 - mse: 84266.3281 - val_loss: 1378.0953 - val_mae: 1378.0953 - val_mse: 3490002.2500\n",
      "Epoch 92/100\n",
      "18/18 [==============================] - 0s 4ms/step - loss: 136.7309 - mae: 136.7309 - mse: 84598.7500 - val_loss: 1341.0425 - val_mae: 1341.0425 - val_mse: 3376653.5000\n",
      "Epoch 93/100\n",
      "18/18 [==============================] - 0s 4ms/step - loss: 135.4791 - mae: 135.4791 - mse: 83426.6797 - val_loss: 1356.5325 - val_mae: 1356.5325 - val_mse: 3423834.0000\n",
      "Epoch 94/100\n",
      "18/18 [==============================] - 0s 4ms/step - loss: 143.0155 - mae: 143.0155 - mse: 87560.3984 - val_loss: 1429.9664 - val_mae: 1429.9664 - val_mse: 3677391.0000\n",
      "Epoch 95/100\n",
      "18/18 [==============================] - 0s 4ms/step - loss: 139.8285 - mae: 139.8285 - mse: 85422.8828 - val_loss: 1425.3262 - val_mae: 1425.3262 - val_mse: 3656261.7500\n",
      "Epoch 96/100\n",
      "18/18 [==============================] - 0s 4ms/step - loss: 139.5632 - mae: 139.5632 - mse: 85644.7109 - val_loss: 1344.8086 - val_mae: 1344.8086 - val_mse: 3384981.7500\n",
      "Epoch 97/100\n",
      "18/18 [==============================] - 0s 4ms/step - loss: 134.8731 - mae: 134.8731 - mse: 82149.5391 - val_loss: 1347.4083 - val_mae: 1347.4083 - val_mse: 3395370.2500\n",
      "Epoch 98/100\n",
      "18/18 [==============================] - 0s 4ms/step - loss: 141.1685 - mae: 141.1685 - mse: 86808.9062 - val_loss: 1399.3839 - val_mae: 1399.3839 - val_mse: 3564312.7500\n",
      "Epoch 99/100\n",
      " 1/18 [>.............................] - ETA: 0s - loss: 149.5877 - mae: 149.5877 - mse: 68097.8047INFO:tensorflow:Assets written to: model1.ckpt\\assets\n",
      "18/18 [==============================] - 0s 25ms/step - loss: 147.2445 - mae: 147.2445 - mse: 88799.1250 - val_loss: 1339.2301 - val_mae: 1339.2301 - val_mse: 3366368.2500\n",
      "Epoch 100/100\n",
      "18/18 [==============================] - 0s 4ms/step - loss: 139.0859 - mae: 139.0859 - mse: 84787.7969 - val_loss: 1453.7532 - val_mae: 1453.7532 - val_mse: 3773933.2500\n"
     ]
    }
   ],
   "source": [
    "# window = 7, horizon = 1\n",
    "model1 = tf.keras.Sequential([\n",
    "    tf.keras.layers.Dense(128,activation=\"relu\"),\n",
    "    tf.keras.layers.Dense(1,activation=\"linear\")\n",
    "],name=\"model1\")\n",
    "model1.compile(optimizer = tf.keras.optimizers.Adam(), loss = \"mae\", metrics=[\"mae\", \"mse\"])\n",
    "history1 = model1.fit(train_win, \n",
    "                    train_hor, \n",
    "                    epochs = 100,\n",
    "                    batch_size = 128,\n",
    "                    validation_data = (test_win,test_hor),\n",
    "                    callbacks = [create_model_checkpoint(\"model1.ckpt\")])"
   ]
  },
  {
   "cell_type": "code",
   "execution_count": 26,
   "metadata": {},
   "outputs": [],
   "source": [
    "model1 = tf.keras.models.load_model(\"model1.ckpt\")"
   ]
  },
  {
   "cell_type": "markdown",
   "metadata": {},
   "source": [
    "# EVALUATING MODEL1"
   ]
  },
  {
   "cell_type": "code",
   "execution_count": 27,
   "metadata": {},
   "outputs": [
    {
     "name": "stdout",
     "output_type": "stream",
     "text": [
      "13/13 [==============================] - 0s 2ms/step - loss: 1339.2299 - mae: 1339.2299 - mse: 3366366.2500\n"
     ]
    },
    {
     "data": {
      "text/plain": [
       "[1339.2298583984375, 1339.2298583984375, 3366366.25]"
      ]
     },
     "execution_count": 27,
     "metadata": {},
     "output_type": "execute_result"
    }
   ],
   "source": [
    "model1.evaluate(test_win,test_hor)"
   ]
  },
  {
   "cell_type": "code",
   "execution_count": 28,
   "metadata": {
    "scrolled": true
   },
   "outputs": [],
   "source": [
    "pred1 = model1.predict(test_win)\n",
    "pred1 = tf.squeeze(pred1).numpy()"
   ]
  },
  {
   "cell_type": "code",
   "execution_count": 29,
   "metadata": {},
   "outputs": [
    {
     "data": {
      "text/plain": [
       "{'MEAN ABSOLUTE ERROR': 1339.2299,\n",
       " 'MEAN SQUARED ERROR': 3366366.5,\n",
       " 'ROOT MEAN SQUARED ERROR': 1834.766,\n",
       " 'MEAN ABSOLUTE PERCENTAGE ERROR': 3.1417484}"
      ]
     },
     "execution_count": 29,
     "metadata": {},
     "output_type": "execute_result"
    }
   ],
   "source": [
    "model1_report = model_report(test_hor,pred1)\n",
    "model1_report"
   ]
  },
  {
   "cell_type": "markdown",
   "metadata": {},
   "source": [
    "# PLOTTING THE PREDICTIONS OF MODEL1"
   ]
  },
  {
   "cell_type": "code",
   "execution_count": 30,
   "metadata": {},
   "outputs": [
    {
     "data": {
      "image/png": "[encoded data removed]",
      "text/plain": [
       "<Figure size 432x288 with 1 Axes>"
      ]
     },
     "metadata": {
      "needs_background": "light"
     },
     "output_type": "display_data"
    }
   ],
   "source": [
    "plot_timeseries(timesteps[-int(len(test_hor)):],test_hor,label=\"TEST DATA\")\n",
    "plot_timeseries(timesteps[-int(len(test_hor)):],pred1,format = '-',label=\"PREDICTIONS\")"
   ]
  },
  {
   "cell_type": "markdown",
   "metadata": {},
   "source": [
    "# MODEL2"
   ]
  },
  {
   "cell_type": "code",
   "execution_count": 31,
   "metadata": {},
   "outputs": [
    {
     "data": {
      "text/plain": [
       "((2557, 30), (2557,))"
      ]
     },
     "execution_count": 31,
     "metadata": {},
     "output_type": "execute_result"
    }
   ],
   "source": [
    "#preparing the data\n",
    "windows,horizons = make_windows(30,1,prices)\n",
    "windows.shape,horizons.shape"
   ]
  },
  {
   "cell_type": "code",
   "execution_count": 32,
   "metadata": {},
   "outputs": [
    {
     "data": {
      "text/plain": [
       "2045"
      ]
     },
     "execution_count": 32,
     "metadata": {},
     "output_type": "execute_result"
    }
   ],
   "source": [
    "train_win = windows[:int(len(windows)*0.8)]\n",
    "train_hor = horizons[:int(len(windows)*0.8)]\n",
    "test_win = windows[int(len(windows)*0.8):]\n",
    "test_hor = horizons[int(len(windows)*0.8):]\n",
    "len(train_win)"
   ]
  },
  {
   "cell_type": "code",
   "execution_count": 33,
   "metadata": {},
   "outputs": [
    {
     "name": "stdout",
     "output_type": "stream",
     "text": [
      "Epoch 1/100\n",
      " 1/16 [>.............................] - ETA: 3s - loss: 6419.9717 - mae: 6419.9717 - mse: 77963792.0000INFO:tensorflow:Assets written to: model2.ckpt\\assets\n",
      "16/16 [==============================] - 1s 29ms/step - loss: 2265.8096 - mae: 2265.8096 - mse: 15660358.0000 - val_loss: 4915.5635 - val_mae: 4915.5635 - val_mse: 48315872.0000\n",
      "Epoch 2/100\n",
      "16/16 [==============================] - 0s 4ms/step - loss: 758.6044 - mae: 758.6044 - mse: 1855104.8750 - val_loss: 5126.7427 - val_mae: 5126.7427 - val_mse: 52544340.0000\n",
      "Epoch 3/100\n",
      " 1/16 [>.............................] - ETA: 0s - loss: 804.1373 - mae: 804.1373 - mse: 2338178.5000INFO:tensorflow:Assets written to: model2.ckpt\\assets\n",
      "16/16 [==============================] - 0s 23ms/step - loss: 602.2100 - mae: 602.2100 - mse: 1328852.2500 - val_loss: 3567.5144 - val_mae: 3567.5144 - val_mse: 25155268.0000\n",
      "Epoch 4/100\n",
      " 1/16 [>.............................] - ETA: 0s - loss: 625.9070 - mae: 625.9070 - mse: 1611951.0000INFO:tensorflow:Assets written to: model2.ckpt\\assets\n",
      "16/16 [==============================] - 0s 24ms/step - loss: 443.4994 - mae: 443.4994 - mse: 771452.7500 - val_loss: 3324.5388 - val_mae: 3324.5388 - val_mse: 19574594.0000\n",
      "Epoch 5/100\n",
      " 1/16 [>.............................] - ETA: 0s - loss: 497.0929 - mae: 497.0929 - mse: 1203842.5000INFO:tensorflow:Assets written to: model2.ckpt\\assets\n",
      "16/16 [==============================] - 0s 23ms/step - loss: 352.6012 - mae: 352.6012 - mse: 488376.0625 - val_loss: 2313.2388 - val_mae: 2313.2388 - val_mse: 10638668.0000\n",
      "Epoch 6/100\n",
      " 1/16 [>.............................] - ETA: 0s - loss: 364.5532 - mae: 364.5532 - mse: 436006.0938INFO:tensorflow:Assets written to: model2.ckpt\\assets\n",
      "16/16 [==============================] - 0s 23ms/step - loss: 296.2726 - mae: 296.2726 - mse: 352119.3750 - val_loss: 2006.1335 - val_mae: 2006.1335 - val_mse: 8192838.0000\n",
      "Epoch 7/100\n",
      " 1/16 [>.............................] - ETA: 0s - loss: 326.0186 - mae: 326.0186 - mse: 412698.5625INFO:tensorflow:Assets written to: model2.ckpt\\assets\n",
      "16/16 [==============================] - 0s 23ms/step - loss: 263.4776 - mae: 263.4776 - mse: 278081.4688 - val_loss: 1854.9058 - val_mae: 1854.9058 - val_mse: 7191730.0000\n",
      "Epoch 8/100\n",
      " 1/16 [>.............................] - ETA: 0s - loss: 199.3846 - mae: 199.3846 - mse: 171419.4375INFO:tensorflow:Assets written to: model2.ckpt\\assets\n",
      "16/16 [==============================] - 0s 23ms/step - loss: 256.5334 - mae: 256.5334 - mse: 264992.9062 - val_loss: 1798.3558 - val_mae: 1798.3558 - val_mse: 6907196.0000\n",
      "Epoch 9/100\n",
      "16/16 [==============================] - 0s 4ms/step - loss: 235.8185 - mae: 235.8185 - mse: 220066.3594 - val_loss: 1886.4287 - val_mae: 1886.4287 - val_mse: 6928989.0000\n",
      "Epoch 10/100\n",
      "16/16 [==============================] - 0s 4ms/step - loss: 232.4897 - mae: 232.4897 - mse: 213282.1719 - val_loss: 1853.7524 - val_mae: 1853.7524 - val_mse: 7319672.0000\n",
      "Epoch 11/100\n",
      " 1/16 [>.............................] - ETA: 0s - loss: 262.8713 - mae: 262.8713 - mse: 258934.6562INFO:tensorflow:Assets written to: model2.ckpt\\assets\n",
      "16/16 [==============================] - 0s 23ms/step - loss: 231.6158 - mae: 231.6158 - mse: 214376.2344 - val_loss: 1634.0312 - val_mae: 1634.0312 - val_mse: 5467126.5000\n",
      "Epoch 12/100\n",
      "16/16 [==============================] - 0s 5ms/step - loss: 224.4690 - mae: 224.4690 - mse: 199376.1406 - val_loss: 1768.5592 - val_mae: 1768.5592 - val_mse: 6674367.5000\n",
      "Epoch 13/100\n",
      " 1/16 [>.............................] - ETA: 0s - loss: 240.5768 - mae: 240.5768 - mse: 205885.0781INFO:tensorflow:Assets written to: model2.ckpt\\assets\n",
      "16/16 [==============================] - 0s 23ms/step - loss: 224.0007 - mae: 224.0007 - mse: 195327.1719 - val_loss: 1552.1963 - val_mae: 1552.1963 - val_mse: 4910312.5000\n",
      "Epoch 14/100\n",
      "16/16 [==============================] - 0s 4ms/step - loss: 199.8270 - mae: 199.8270 - mse: 163649.0625 - val_loss: 1757.7942 - val_mae: 1757.7942 - val_mse: 6562739.0000\n",
      "Epoch 15/100\n",
      " 1/16 [>.............................] - ETA: 0s - loss: 257.2132 - mae: 257.2132 - mse: 188859.3125INFO:tensorflow:Assets written to: model2.ckpt\\assets\n",
      "16/16 [==============================] - 0s 24ms/step - loss: 203.7009 - mae: 203.7009 - mse: 165734.5156 - val_loss: 1463.4097 - val_mae: 1463.4097 - val_mse: 4465965.5000\n",
      "Epoch 16/100\n",
      "16/16 [==============================] - 0s 4ms/step - loss: 189.1649 - mae: 189.1649 - mse: 147055.3750 - val_loss: 1530.6040 - val_mae: 1530.6040 - val_mse: 4570121.0000\n",
      "Epoch 17/100\n",
      " 1/16 [>.............................] - ETA: 0s - loss: 165.0544 - mae: 165.0544 - mse: 112799.3828INFO:tensorflow:Assets written to: model2.ckpt\\assets\n",
      "16/16 [==============================] - 0s 30ms/step - loss: 196.5724 - mae: 196.5724 - mse: 154681.1094 - val_loss: 1411.5138 - val_mae: 1411.5138 - val_mse: 4092671.7500\n",
      "Epoch 18/100\n",
      " 1/16 [>.............................] - ETA: 0s - loss: 109.1147 - mae: 109.1147 - mse: 42485.2969INFO:tensorflow:Assets written to: model2.ckpt\\assets\n",
      "16/16 [==============================] - 0s 23ms/step - loss: 181.6467 - mae: 181.6467 - mse: 138245.3438 - val_loss: 1399.0491 - val_mae: 1399.0491 - val_mse: 3984561.0000\n",
      "Epoch 19/100\n",
      " 1/16 [>.............................] - ETA: 0s - loss: 178.0102 - mae: 178.0102 - mse: 108495.8125INFO:tensorflow:Assets written to: model2.ckpt\\assets\n",
      "16/16 [==============================] - 0s 23ms/step - loss: 188.8637 - mae: 188.8637 - mse: 144398.8750 - val_loss: 1364.9836 - val_mae: 1364.9836 - val_mse: 3907897.5000\n",
      "Epoch 20/100\n",
      " 1/16 [>.............................] - ETA: 0s - loss: 175.2467 - mae: 175.2467 - mse: 142048.3594INFO:tensorflow:Assets written to: model2.ckpt\\assets\n",
      "16/16 [==============================] - 0s 23ms/step - loss: 179.8247 - mae: 179.8247 - mse: 134954.5781 - val_loss: 1342.4788 - val_mae: 1342.4788 - val_mse: 3752983.5000\n",
      "Epoch 21/100\n",
      "16/16 [==============================] - 0s 4ms/step - loss: 176.5897 - mae: 176.5897 - mse: 130342.8359 - val_loss: 1421.1610 - val_mae: 1421.1610 - val_mse: 4252556.0000\n",
      "Epoch 22/100\n",
      "16/16 [==============================] - 0s 4ms/step - loss: 176.2218 - mae: 176.2218 - mse: 128689.1875 - val_loss: 1514.3401 - val_mae: 1514.3401 - val_mse: 4382585.0000\n",
      "Epoch 23/100\n",
      "16/16 [==============================] - 0s 4ms/step - loss: 183.7019 - mae: 183.7019 - mse: 134314.9688 - val_loss: 1393.9351 - val_mae: 1393.9351 - val_mse: 3840707.5000\n",
      "Epoch 24/100\n",
      "16/16 [==============================] - 0s 4ms/step - loss: 176.5775 - mae: 176.5775 - mse: 123799.0781 - val_loss: 1582.5518 - val_mae: 1582.5518 - val_mse: 4706763.0000\n",
      "Epoch 25/100\n",
      "16/16 [==============================] - 0s 4ms/step - loss: 183.9830 - mae: 183.9830 - mse: 134679.5469 - val_loss: 1370.4885 - val_mae: 1370.4885 - val_mse: 3735993.7500\n",
      "Epoch 26/100\n",
      "16/16 [==============================] - 0s 4ms/step - loss: 173.4778 - mae: 173.4778 - mse: 122917.8672 - val_loss: 1354.2263 - val_mae: 1354.2263 - val_mse: 3877518.0000\n",
      "Epoch 27/100\n",
      " 1/16 [>.............................] - ETA: 0s - loss: 172.4227 - mae: 172.4227 - mse: 95664.1406INFO:tensorflow:Assets written to: model2.ckpt\\assets\n",
      "16/16 [==============================] - 0s 22ms/step - loss: 181.3456 - mae: 181.3456 - mse: 130656.2188 - val_loss: 1270.3561 - val_mae: 1270.3561 - val_mse: 3394681.5000\n",
      "Epoch 28/100\n",
      "16/16 [==============================] - 0s 4ms/step - loss: 167.0700 - mae: 167.0700 - mse: 119739.9922 - val_loss: 1359.3123 - val_mae: 1359.3123 - val_mse: 3680189.2500\n",
      "Epoch 29/100\n",
      "16/16 [==============================] - 0s 4ms/step - loss: 169.2270 - mae: 169.2270 - mse: 121018.7578 - val_loss: 1376.2081 - val_mae: 1376.2081 - val_mse: 3747198.0000\n",
      "Epoch 30/100\n",
      "16/16 [==============================] - 0s 4ms/step - loss: 167.2114 - mae: 167.2114 - mse: 114542.6016 - val_loss: 1312.8867 - val_mae: 1312.8867 - val_mse: 3633270.7500\n",
      "Epoch 31/100\n",
      "16/16 [==============================] - 0s 4ms/step - loss: 182.0835 - mae: 182.0835 - mse: 123961.7891 - val_loss: 1417.5305 - val_mae: 1417.5305 - val_mse: 4214249.0000\n",
      "Epoch 32/100\n",
      "16/16 [==============================] - 0s 4ms/step - loss: 176.5193 - mae: 176.5193 - mse: 121265.0859 - val_loss: 1387.4426 - val_mae: 1387.4426 - val_mse: 4042150.5000\n"
     ]
    },
    {
     "name": "stdout",
     "output_type": "stream",
     "text": [
      "Epoch 33/100\n",
      " 1/16 [>.............................] - ETA: 0s - loss: 188.9428 - mae: 188.9428 - mse: 128983.8906INFO:tensorflow:Assets written to: model2.ckpt\\assets\n",
      "16/16 [==============================] - 0s 23ms/step - loss: 184.2105 - mae: 184.2105 - mse: 128563.1406 - val_loss: 1251.4883 - val_mae: 1251.4883 - val_mse: 3337568.0000\n",
      "Epoch 34/100\n",
      " 1/16 [>.............................] - ETA: 0s - loss: 156.6520 - mae: 156.6520 - mse: 154570.9844INFO:tensorflow:Assets written to: model2.ckpt\\assets\n",
      "16/16 [==============================] - 0s 23ms/step - loss: 160.7511 - mae: 160.7511 - mse: 110298.2188 - val_loss: 1228.6995 - val_mae: 1228.6995 - val_mse: 3215351.2500\n",
      "Epoch 35/100\n",
      " 1/16 [>.............................] - ETA: 0s - loss: 148.6432 - mae: 148.6432 - mse: 124248.3750INFO:tensorflow:Assets written to: model2.ckpt\\assets\n",
      "16/16 [==============================] - 0s 23ms/step - loss: 156.8054 - mae: 156.8054 - mse: 106921.0156 - val_loss: 1224.4503 - val_mae: 1224.4503 - val_mse: 3198977.5000\n",
      "Epoch 36/100\n",
      " 1/16 [>.............................] - ETA: 0s - loss: 162.9579 - mae: 162.9579 - mse: 146533.1719INFO:tensorflow:Assets written to: model2.ckpt\\assets\n",
      "16/16 [==============================] - 0s 23ms/step - loss: 159.2620 - mae: 159.2620 - mse: 109931.2109 - val_loss: 1221.4298 - val_mae: 1221.4298 - val_mse: 3182248.2500\n",
      "Epoch 37/100\n",
      "16/16 [==============================] - 0s 4ms/step - loss: 169.4020 - mae: 169.4020 - mse: 117510.5625 - val_loss: 1402.4137 - val_mae: 1402.4137 - val_mse: 3853208.0000\n",
      "Epoch 38/100\n",
      "16/16 [==============================] - 0s 4ms/step - loss: 170.9601 - mae: 170.9601 - mse: 110718.3281 - val_loss: 1430.7842 - val_mae: 1430.7842 - val_mse: 4263259.5000\n",
      "Epoch 39/100\n",
      " 1/16 [>.............................] - ETA: 0s - loss: 139.1254 - mae: 139.1254 - mse: 51697.3516INFO:tensorflow:Assets written to: model2.ckpt\\assets\n",
      "16/16 [==============================] - 0s 22ms/step - loss: 168.7939 - mae: 168.7939 - mse: 111491.3047 - val_loss: 1219.7650 - val_mae: 1219.7650 - val_mse: 3194343.2500\n",
      "Epoch 40/100\n",
      "16/16 [==============================] - 0s 4ms/step - loss: 165.6900 - mae: 165.6900 - mse: 111588.6016 - val_loss: 1686.1262 - val_mae: 1686.1262 - val_mse: 5640010.5000\n",
      "Epoch 41/100\n",
      "16/16 [==============================] - 0s 4ms/step - loss: 180.4950 - mae: 180.4950 - mse: 123521.8516 - val_loss: 1274.4293 - val_mae: 1274.4293 - val_mse: 3439137.2500\n",
      "Epoch 42/100\n",
      " 1/16 [>.............................] - ETA: 0s - loss: 188.4776 - mae: 188.4776 - mse: 191504.7188INFO:tensorflow:Assets written to: model2.ckpt\\assets\n",
      "16/16 [==============================] - 0s 23ms/step - loss: 154.4803 - mae: 154.4803 - mse: 104754.5391 - val_loss: 1206.3135 - val_mae: 1206.3135 - val_mse: 3089138.5000\n",
      "Epoch 43/100\n",
      "16/16 [==============================] - 0s 4ms/step - loss: 155.9691 - mae: 155.9691 - mse: 105031.8203 - val_loss: 1222.3306 - val_mae: 1222.3306 - val_mse: 3202246.5000\n",
      "Epoch 44/100\n",
      "16/16 [==============================] - 0s 4ms/step - loss: 169.3792 - mae: 169.3792 - mse: 116098.4766 - val_loss: 1372.3589 - val_mae: 1372.3589 - val_mse: 3715408.0000\n",
      "Epoch 45/100\n",
      "16/16 [==============================] - 0s 4ms/step - loss: 156.2679 - mae: 156.2679 - mse: 105475.9375 - val_loss: 1207.1934 - val_mae: 1207.1934 - val_mse: 3132015.0000\n",
      "Epoch 46/100\n",
      "16/16 [==============================] - 0s 4ms/step - loss: 156.9507 - mae: 156.9507 - mse: 105229.4531 - val_loss: 1211.7340 - val_mae: 1211.7340 - val_mse: 3096396.0000\n",
      "Epoch 47/100\n",
      "16/16 [==============================] - 0s 4ms/step - loss: 171.9956 - mae: 171.9956 - mse: 115794.5781 - val_loss: 1259.4874 - val_mae: 1259.4874 - val_mse: 3369956.0000\n",
      "Epoch 48/100\n",
      "16/16 [==============================] - 0s 4ms/step - loss: 162.0058 - mae: 162.0058 - mse: 111484.6953 - val_loss: 1292.9149 - val_mae: 1292.9149 - val_mse: 3527980.0000\n",
      "Epoch 49/100\n",
      "16/16 [==============================] - 0s 4ms/step - loss: 175.9291 - mae: 175.9291 - mse: 117118.8594 - val_loss: 1297.9399 - val_mae: 1297.9399 - val_mse: 3546185.5000\n",
      "Epoch 50/100\n",
      "16/16 [==============================] - 0s 4ms/step - loss: 154.6660 - mae: 154.6660 - mse: 103632.4297 - val_loss: 1223.5375 - val_mae: 1223.5375 - val_mse: 3202909.5000\n",
      "Epoch 51/100\n",
      "16/16 [==============================] - 0s 4ms/step - loss: 153.8179 - mae: 153.8179 - mse: 103353.6016 - val_loss: 1468.1216 - val_mae: 1468.1216 - val_mse: 4105223.7500\n",
      "Epoch 52/100\n",
      "16/16 [==============================] - 0s 4ms/step - loss: 169.7093 - mae: 169.7093 - mse: 109993.8750 - val_loss: 1233.1323 - val_mae: 1233.1323 - val_mse: 3253188.0000\n",
      "Epoch 53/100\n",
      "16/16 [==============================] - 0s 4ms/step - loss: 162.4676 - mae: 162.4676 - mse: 107368.5234 - val_loss: 1495.0541 - val_mae: 1495.0541 - val_mse: 4522950.5000\n",
      "Epoch 54/100\n",
      "16/16 [==============================] - 0s 4ms/step - loss: 168.5370 - mae: 168.5370 - mse: 110838.5703 - val_loss: 1243.1250 - val_mae: 1243.1250 - val_mse: 3292967.5000\n",
      "Epoch 55/100\n",
      " 1/16 [>.............................] - ETA: 0s - loss: 193.0482 - mae: 193.0482 - mse: 105651.2344INFO:tensorflow:Assets written to: model2.ckpt\\assets\n",
      "16/16 [==============================] - 0s 23ms/step - loss: 172.9775 - mae: 172.9775 - mse: 116473.4922 - val_loss: 1173.6469 - val_mae: 1173.6469 - val_mse: 2957656.0000\n",
      "Epoch 56/100\n",
      "16/16 [==============================] - 0s 4ms/step - loss: 171.6033 - mae: 171.6033 - mse: 118876.1484 - val_loss: 1202.0756 - val_mae: 1202.0756 - val_mse: 3046873.5000\n",
      "Epoch 57/100\n",
      " 1/16 [>.............................] - ETA: 0s - loss: 131.6668 - mae: 131.6668 - mse: 74860.8672INFO:tensorflow:Assets written to: model2.ckpt\\assets\n",
      "16/16 [==============================] - 0s 23ms/step - loss: 155.7846 - mae: 155.7846 - mse: 103552.6172 - val_loss: 1168.3264 - val_mae: 1168.3264 - val_mse: 2953381.0000\n",
      "Epoch 58/100\n",
      "16/16 [==============================] - 0s 4ms/step - loss: 153.3192 - mae: 153.3192 - mse: 98997.4141 - val_loss: 1213.3251 - val_mae: 1213.3251 - val_mse: 3085574.5000\n",
      "Epoch 59/100\n",
      "16/16 [==============================] - 0s 4ms/step - loss: 151.2690 - mae: 151.2690 - mse: 100996.6484 - val_loss: 1261.9897 - val_mae: 1261.9897 - val_mse: 3256957.2500\n",
      "Epoch 60/100\n",
      "16/16 [==============================] - 0s 4ms/step - loss: 157.5685 - mae: 157.5685 - mse: 103832.2656 - val_loss: 1218.4749 - val_mae: 1218.4749 - val_mse: 3097675.5000\n",
      "Epoch 61/100\n",
      " 1/16 [>.............................] - ETA: 0s - loss: 147.8955 - mae: 147.8955 - mse: 82050.7969INFO:tensorflow:Assets written to: model2.ckpt\\assets\n",
      "16/16 [==============================] - 0s 23ms/step - loss: 148.2154 - mae: 148.2154 - mse: 98113.9219 - val_loss: 1160.3035 - val_mae: 1160.3035 - val_mse: 2912086.5000\n",
      "Epoch 62/100\n",
      "16/16 [==============================] - 0s 4ms/step - loss: 156.3991 - mae: 156.3991 - mse: 102863.2734 - val_loss: 1391.7802 - val_mae: 1391.7802 - val_mse: 3756529.0000\n",
      "Epoch 63/100\n",
      "16/16 [==============================] - 0s 4ms/step - loss: 156.7090 - mae: 156.7090 - mse: 103091.7969 - val_loss: 1173.8496 - val_mae: 1173.8496 - val_mse: 2939509.2500\n",
      "Epoch 64/100\n",
      "16/16 [==============================] - 0s 4ms/step - loss: 148.1836 - mae: 148.1836 - mse: 99421.3047 - val_loss: 1225.6653 - val_mae: 1225.6653 - val_mse: 3192083.5000\n",
      "Epoch 65/100\n",
      " 1/16 [>.............................] - ETA: 0s - loss: 156.8759 - mae: 156.8759 - mse: 107169.2578INFO:tensorflow:Assets written to: model2.ckpt\\assets\n",
      "16/16 [==============================] - 0s 24ms/step - loss: 159.3970 - mae: 159.3970 - mse: 105347.5625 - val_loss: 1155.9546 - val_mae: 1155.9546 - val_mse: 2898139.5000\n",
      "Epoch 66/100\n",
      "16/16 [==============================] - 0s 4ms/step - loss: 152.7987 - mae: 152.7987 - mse: 101006.0938 - val_loss: 1160.5852 - val_mae: 1160.5852 - val_mse: 2930329.7500\n",
      "Epoch 67/100\n",
      "16/16 [==============================] - 0s 4ms/step - loss: 146.5955 - mae: 146.5955 - mse: 97248.5312 - val_loss: 1195.9429 - val_mae: 1195.9429 - val_mse: 3067362.0000\n",
      "Epoch 68/100\n",
      "16/16 [==============================] - 0s 4ms/step - loss: 145.7258 - mae: 145.7258 - mse: 94839.3359 - val_loss: 1177.8118 - val_mae: 1177.8118 - val_mse: 2957229.5000\n"
     ]
    },
    {
     "name": "stdout",
     "output_type": "stream",
     "text": [
      "Epoch 69/100\n",
      "16/16 [==============================] - 0s 4ms/step - loss: 152.8704 - mae: 152.8704 - mse: 98467.2891 - val_loss: 1168.5181 - val_mae: 1168.5181 - val_mse: 2931277.0000\n",
      "Epoch 70/100\n",
      "16/16 [==============================] - 0s 4ms/step - loss: 149.4373 - mae: 149.4373 - mse: 97892.6328 - val_loss: 1475.4193 - val_mae: 1475.4193 - val_mse: 4358379.0000\n",
      "Epoch 71/100\n",
      " 1/16 [>.............................] - ETA: 0s - loss: 201.6863 - mae: 201.6863 - mse: 170209.9062INFO:tensorflow:Assets written to: model2.ckpt\\assets\n",
      "16/16 [==============================] - 0s 23ms/step - loss: 165.1414 - mae: 165.1414 - mse: 106002.7578 - val_loss: 1146.4534 - val_mae: 1146.4534 - val_mse: 2853412.7500\n",
      "Epoch 72/100\n",
      "16/16 [==============================] - 0s 4ms/step - loss: 151.3083 - mae: 151.3083 - mse: 99008.7031 - val_loss: 1202.4961 - val_mae: 1202.4961 - val_mse: 3031476.5000\n",
      "Epoch 73/100\n",
      "16/16 [==============================] - 0s 11ms/step - loss: 152.1765 - mae: 152.1765 - mse: 100886.1250 - val_loss: 1309.4209 - val_mae: 1309.4209 - val_mse: 3557760.5000\n",
      "Epoch 74/100\n",
      "16/16 [==============================] - 0s 4ms/step - loss: 172.2034 - mae: 172.2034 - mse: 109805.8906 - val_loss: 1301.3203 - val_mae: 1301.3203 - val_mse: 3521829.2500\n",
      "Epoch 75/100\n",
      "16/16 [==============================] - 0s 4ms/step - loss: 149.4693 - mae: 149.4693 - mse: 96188.9375 - val_loss: 1252.3572 - val_mae: 1252.3572 - val_mse: 3204467.0000\n",
      "Epoch 76/100\n",
      "16/16 [==============================] - 0s 4ms/step - loss: 152.4000 - mae: 152.4000 - mse: 98014.1562 - val_loss: 1191.4338 - val_mae: 1191.4338 - val_mse: 2992790.0000\n",
      "Epoch 77/100\n",
      " 1/16 [>.............................] - ETA: 0s - loss: 131.9679 - mae: 131.9679 - mse: 79927.1484INFO:tensorflow:Assets written to: model2.ckpt\\assets\n",
      "16/16 [==============================] - 0s 23ms/step - loss: 143.8376 - mae: 143.8376 - mse: 95416.6797 - val_loss: 1135.1644 - val_mae: 1135.1644 - val_mse: 2824976.2500\n",
      "Epoch 78/100\n",
      "16/16 [==============================] - 0s 4ms/step - loss: 144.7286 - mae: 144.7286 - mse: 94184.7734 - val_loss: 1141.0767 - val_mae: 1141.0767 - val_mse: 2832835.0000\n",
      "Epoch 79/100\n",
      "16/16 [==============================] - 0s 4ms/step - loss: 151.9950 - mae: 151.9950 - mse: 97570.7109 - val_loss: 1170.8020 - val_mae: 1170.8020 - val_mse: 2956417.5000\n",
      "Epoch 80/100\n",
      "16/16 [==============================] - 0s 4ms/step - loss: 162.4842 - mae: 162.4842 - mse: 104147.9375 - val_loss: 1402.7278 - val_mae: 1402.7278 - val_mse: 3781422.2500\n",
      "Epoch 81/100\n",
      "16/16 [==============================] - 0s 4ms/step - loss: 159.5977 - mae: 159.5977 - mse: 103721.6016 - val_loss: 1259.9187 - val_mae: 1259.9187 - val_mse: 3321937.2500\n",
      "Epoch 82/100\n",
      "16/16 [==============================] - 0s 4ms/step - loss: 160.1005 - mae: 160.1005 - mse: 105984.3672 - val_loss: 1260.7074 - val_mae: 1260.7074 - val_mse: 3323561.5000\n",
      "Epoch 83/100\n",
      "16/16 [==============================] - 0s 4ms/step - loss: 167.6969 - mae: 167.6969 - mse: 108580.9453 - val_loss: 1414.6624 - val_mae: 1414.6624 - val_mse: 3825843.2500\n",
      "Epoch 84/100\n",
      "16/16 [==============================] - 0s 4ms/step - loss: 199.2854 - mae: 199.2854 - mse: 133727.6875 - val_loss: 1165.7997 - val_mae: 1165.7997 - val_mse: 2933468.5000\n",
      "Epoch 85/100\n",
      " 1/16 [>.............................] - ETA: 0s - loss: 151.5098 - mae: 151.5098 - mse: 219927.5312INFO:tensorflow:Assets written to: model2.ckpt\\assets\n",
      "16/16 [==============================] - 0s 22ms/step - loss: 146.0439 - mae: 146.0439 - mse: 95448.6875 - val_loss: 1134.7985 - val_mae: 1134.7985 - val_mse: 2819835.7500\n",
      "Epoch 86/100\n",
      " 1/16 [>.............................] - ETA: 0s - loss: 200.6142 - mae: 200.6142 - mse: 151159.9688INFO:tensorflow:Assets written to: model2.ckpt\\assets\n",
      "16/16 [==============================] - 0s 24ms/step - loss: 146.4757 - mae: 146.4757 - mse: 96025.1953 - val_loss: 1132.1240 - val_mae: 1132.1240 - val_mse: 2815153.5000\n",
      "Epoch 87/100\n",
      "16/16 [==============================] - 0s 4ms/step - loss: 146.6352 - mae: 146.6352 - mse: 94802.3828 - val_loss: 1139.4033 - val_mae: 1139.4033 - val_mse: 2832847.2500\n",
      "Epoch 88/100\n",
      " 1/16 [>.............................] - ETA: 0s - loss: 160.6594 - mae: 160.6594 - mse: 87635.5625INFO:tensorflow:Assets written to: model2.ckpt\\assets\n",
      "16/16 [==============================] - 0s 23ms/step - loss: 141.9668 - mae: 141.9668 - mse: 93154.9609 - val_loss: 1124.3208 - val_mae: 1124.3208 - val_mse: 2778825.5000\n",
      "Epoch 89/100\n",
      "16/16 [==============================] - 0s 4ms/step - loss: 145.3247 - mae: 145.3247 - mse: 94840.4844 - val_loss: 1144.4814 - val_mae: 1144.4814 - val_mse: 2868037.5000\n",
      "Epoch 90/100\n",
      "16/16 [==============================] - 0s 4ms/step - loss: 160.7422 - mae: 160.7422 - mse: 104134.5156 - val_loss: 1329.1958 - val_mae: 1329.1958 - val_mse: 3623353.5000\n",
      "Epoch 91/100\n",
      "16/16 [==============================] - 0s 4ms/step - loss: 160.9816 - mae: 160.9816 - mse: 102731.0781 - val_loss: 1188.7428 - val_mae: 1188.7428 - val_mse: 3021690.0000\n",
      "Epoch 92/100\n",
      "16/16 [==============================] - 0s 4ms/step - loss: 189.9841 - mae: 189.9841 - mse: 127307.1016 - val_loss: 1621.8643 - val_mae: 1621.8643 - val_mse: 5064480.0000\n",
      "Epoch 93/100\n",
      "16/16 [==============================] - 0s 4ms/step - loss: 205.8616 - mae: 205.8616 - mse: 144013.9531 - val_loss: 1385.5303 - val_mae: 1385.5303 - val_mse: 3703523.2500\n",
      "Epoch 94/100\n",
      "16/16 [==============================] - 0s 4ms/step - loss: 153.8218 - mae: 153.8218 - mse: 96581.3359 - val_loss: 1175.2830 - val_mae: 1175.2830 - val_mse: 2972060.7500\n",
      "Epoch 95/100\n",
      "16/16 [==============================] - 0s 4ms/step - loss: 150.3255 - mae: 150.3255 - mse: 97318.7734 - val_loss: 1391.2791 - val_mae: 1391.2791 - val_mse: 3723121.5000\n",
      "Epoch 96/100\n",
      "16/16 [==============================] - 0s 4ms/step - loss: 163.0702 - mae: 163.0702 - mse: 104286.3516 - val_loss: 1212.6224 - val_mae: 1212.6224 - val_mse: 3048013.0000\n",
      "Epoch 97/100\n",
      "16/16 [==============================] - 0s 4ms/step - loss: 151.7654 - mae: 151.7654 - mse: 99002.1953 - val_loss: 1190.7571 - val_mae: 1190.7571 - val_mse: 3030345.5000\n",
      "Epoch 98/100\n",
      "16/16 [==============================] - 0s 4ms/step - loss: 147.0944 - mae: 147.0944 - mse: 94507.3125 - val_loss: 1141.2310 - val_mae: 1141.2310 - val_mse: 2822248.0000\n",
      "Epoch 99/100\n",
      "16/16 [==============================] - 0s 4ms/step - loss: 141.6292 - mae: 141.6292 - mse: 91801.0625 - val_loss: 1125.3929 - val_mae: 1125.3929 - val_mse: 2782661.0000\n",
      "Epoch 100/100\n",
      "16/16 [==============================] - 0s 4ms/step - loss: 143.4147 - mae: 143.4147 - mse: 93790.7031 - val_loss: 1247.9705 - val_mae: 1247.9705 - val_mse: 3173891.5000\n"
     ]
    }
   ],
   "source": [
    "# window = 30, horizon = 1\n",
    "model2 = tf.keras.Sequential([\n",
    "    tf.keras.layers.Dense(128,activation=\"relu\"),\n",
    "    tf.keras.layers.Dense(1,activation=\"linear\")\n",
    "],name=\"model2\")\n",
    "model2.compile(optimizer = tf.keras.optimizers.Adam(), loss = \"mae\", metrics=[\"mae\", \"mse\"])\n",
    "history2 = model2.fit(train_win, \n",
    "                    train_hor, \n",
    "                    epochs = 100,\n",
    "                    batch_size = 128,\n",
    "                    validation_data = (test_win,test_hor),\n",
    "                    callbacks = [create_model_checkpoint(\"model2.ckpt\")])"
   ]
  },
  {
   "cell_type": "markdown",
   "metadata": {},
   "source": [
    "# EVALUATING MODEL2"
   ]
  },
  {
   "cell_type": "code",
   "execution_count": 34,
   "metadata": {},
   "outputs": [
    {
     "name": "stdout",
     "output_type": "stream",
     "text": [
      "16/16 [==============================] - 0s 2ms/step - loss: 1247.9705 - mae: 1247.9705 - mse: 3173892.0000\n"
     ]
    },
    {
     "data": {
      "text/plain": [
       "[1247.970458984375, 1247.970458984375, 3173892.0]"
      ]
     },
     "execution_count": 34,
     "metadata": {},
     "output_type": "execute_result"
    }
   ],
   "source": [
    "model2.evaluate(test_win,test_hor)"
   ]
  },
  {
   "cell_type": "code",
   "execution_count": 35,
   "metadata": {},
   "outputs": [],
   "source": [
    "pred2 = model2.predict(test_win)\n",
    "pred2 = tf.squeeze(pred2)"
   ]
  },
  {
   "cell_type": "code",
   "execution_count": 36,
   "metadata": {},
   "outputs": [
    {
     "data": {
      "text/plain": [
       "{'MEAN ABSOLUTE ERROR': 1247.9705,\n",
       " 'MEAN SQUARED ERROR': 3173892.0,\n",
       " 'ROOT MEAN SQUARED ERROR': 1781.542,\n",
       " 'MEAN ABSOLUTE PERCENTAGE ERROR': 3.3481154}"
      ]
     },
     "execution_count": 36,
     "metadata": {},
     "output_type": "execute_result"
    }
   ],
   "source": [
    "model2_report = model_report(test_hor,pred2)\n",
    "model2_report"
   ]
  },
  {
   "cell_type": "markdown",
   "metadata": {},
   "source": [
    "# PLOTTING THE PREDICTIONS OF MODEL2"
   ]
  },
  {
   "cell_type": "code",
   "execution_count": 37,
   "metadata": {},
   "outputs": [
    {
     "data": {
      "image/png": "[encoded data removed]",
      "text/plain": [
       "<Figure size 720x504 with 1 Axes>"
      ]
     },
     "metadata": {
      "needs_background": "light"
     },
     "output_type": "display_data"
    }
   ],
   "source": [
    "plt.figure(figsize=(10,7))\n",
    "plot_timeseries(timesteps[-int(len(test_win)):], test_hor,label=\"TEST DATA\",start=300)\n",
    "plot_timeseries(timesteps[-int(len(test_win)):], pred2, format='-', label=\"PREDICTIONS\",start=300)"
   ]
  },
  {
   "cell_type": "markdown",
   "metadata": {},
   "source": [
    "# MODEL 3"
   ]
  },
  {
   "cell_type": "code",
   "execution_count": 38,
   "metadata": {},
   "outputs": [
    {
     "data": {
      "text/plain": [
       "((2551, 30), (2551, 7))"
      ]
     },
     "execution_count": 38,
     "metadata": {},
     "output_type": "execute_result"
    }
   ],
   "source": [
    "# preparing the data\n",
    "windows,horizons = make_windows(30,7,prices)\n",
    "windows.shape,horizons.shape "
   ]
  },
  {
   "cell_type": "code",
   "execution_count": 39,
   "metadata": {},
   "outputs": [
    {
     "data": {
      "text/plain": [
       "((2040, 30), (511, 30), (2040, 7), (511, 7))"
      ]
     },
     "execution_count": 39,
     "metadata": {},
     "output_type": "execute_result"
    }
   ],
   "source": [
    "# splitting into train and test data\n",
    "train_win = windows[:int(len(windows)*0.8)][:]\n",
    "train_hor = horizons[:int(len(windows)*0.8)][:]\n",
    "test_win = windows[int(len(windows)*0.8):][:]\n",
    "test_hor = horizons[int(len(windows)*0.8):][:]\n",
    "train_win.shape,test_win.shape,train_hor.shape,test_hor.shape"
   ]
  },
  {
   "cell_type": "code",
   "execution_count": 40,
   "metadata": {},
   "outputs": [
    {
     "name": "stdout",
     "output_type": "stream",
     "text": [
      "Epoch 1/100\n",
      "15/16 [===========================>..] - ETA: 0s - loss: 2871.0974 - mae: 2871.0974 - mse: 26352334.0000INFO:tensorflow:Assets written to: model3.ckpt\\assets\n",
      "16/16 [==============================] - 1s 29ms/step - loss: 2772.6780 - mae: 2772.6780 - mse: 25159018.0000 - val_loss: 9750.0039 - val_mae: 9750.0039 - val_mse: 279465696.0000\n",
      "Epoch 2/100\n",
      "16/16 [==============================] - ETA: 0s - loss: 795.8112 - mae: 795.8112 - mse: 2584786.0000  INFO:tensorflow:Assets written to: model3.ckpt\\assets\n",
      "16/16 [==============================] - 0s 24ms/step - loss: 795.8112 - mae: 795.8112 - mse: 2584786.0000 - val_loss: 4851.4346 - val_mae: 4851.4346 - val_mse: 48702684.0000\n",
      "Epoch 3/100\n",
      " 1/16 [>.............................] - ETA: 0s - loss: 584.2061 - mae: 584.2061 - mse: 1123437.6250INFO:tensorflow:Assets written to: model3.ckpt\\assets\n",
      "16/16 [==============================] - 0s 23ms/step - loss: 518.1537 - mae: 518.1537 - mse: 1023233.1875 - val_loss: 3750.1208 - val_mae: 3750.1208 - val_mse: 28786302.0000\n",
      "Epoch 4/100\n",
      " 1/16 [>.............................] - ETA: 0s - loss: 449.3214 - mae: 449.3214 - mse: 684074.5000INFO:tensorflow:Assets written to: model3.ckpt\\assets\n",
      "16/16 [==============================] - 0s 24ms/step - loss: 449.2865 - mae: 449.2865 - mse: 785346.4375 - val_loss: 3289.0754 - val_mae: 3289.0754 - val_mse: 22551414.0000\n",
      "Epoch 5/100\n",
      " 1/16 [>.............................] - ETA: 0s - loss: 518.1454 - mae: 518.1454 - mse: 1083536.0000INFO:tensorflow:Assets written to: model3.ckpt\\assets\n",
      "16/16 [==============================] - 0s 24ms/step - loss: 422.0651 - mae: 422.0651 - mse: 709638.0000 - val_loss: 3231.2822 - val_mae: 3231.2822 - val_mse: 21829580.0000\n",
      "Epoch 6/100\n",
      " 1/16 [>.............................] - ETA: 0s - loss: 473.3820 - mae: 473.3820 - mse: 1005116.5625INFO:tensorflow:Assets written to: model3.ckpt\\assets\n",
      "16/16 [==============================] - 0s 24ms/step - loss: 408.9080 - mae: 408.9080 - mse: 671154.5625 - val_loss: 3116.5884 - val_mae: 3116.5884 - val_mse: 20587850.0000\n",
      "Epoch 7/100\n",
      " 1/16 [>.............................] - ETA: 0s - loss: 366.6786 - mae: 366.6786 - mse: 456730.6250INFO:tensorflow:Assets written to: model3.ckpt\\assets\n",
      "16/16 [==============================] - 0s 23ms/step - loss: 396.1298 - mae: 396.1298 - mse: 629960.3125 - val_loss: 2973.8250 - val_mae: 2973.8250 - val_mse: 19013306.0000\n",
      "Epoch 8/100\n",
      " 1/16 [>.............................] - ETA: 0s - loss: 388.1009 - mae: 388.1009 - mse: 725518.8750INFO:tensorflow:Assets written to: model3.ckpt\\assets\n",
      "16/16 [==============================] - 0s 23ms/step - loss: 389.3856 - mae: 389.3856 - mse: 607859.6250 - val_loss: 2972.9907 - val_mae: 2972.9907 - val_mse: 18896138.0000\n",
      "Epoch 9/100\n",
      "16/16 [==============================] - 0s 4ms/step - loss: 392.8950 - mae: 392.8950 - mse: 610520.1250 - val_loss: 2991.6592 - val_mae: 2991.6592 - val_mse: 18867484.0000\n",
      "Epoch 10/100\n",
      " 1/16 [>.............................] - ETA: 0s - loss: 330.3540 - mae: 330.3540 - mse: 393822.0000INFO:tensorflow:Assets written to: model3.ckpt\\assets\n",
      "16/16 [==============================] - 0s 23ms/step - loss: 376.0689 - mae: 376.0689 - mse: 572943.1250 - val_loss: 2893.5725 - val_mae: 2893.5725 - val_mse: 18032448.0000\n",
      "Epoch 11/100\n",
      " 1/16 [>.............................] - ETA: 0s - loss: 371.2672 - mae: 371.2672 - mse: 579295.8750INFO:tensorflow:Assets written to: model3.ckpt\\assets\n",
      "16/16 [==============================] - 0s 29ms/step - loss: 374.1138 - mae: 374.1138 - mse: 564573.0000 - val_loss: 2887.2239 - val_mae: 2887.2239 - val_mse: 17619784.0000\n",
      "Epoch 12/100\n",
      " 1/16 [>.............................] - ETA: 0s - loss: 351.4073 - mae: 351.4073 - mse: 554500.4375INFO:tensorflow:Assets written to: model3.ckpt\\assets\n",
      "16/16 [==============================] - 0s 23ms/step - loss: 368.0149 - mae: 368.0149 - mse: 548256.6875 - val_loss: 2811.9458 - val_mae: 2811.9458 - val_mse: 16927100.0000\n",
      "Epoch 13/100\n",
      " 1/16 [>.............................] - ETA: 0s - loss: 462.6649 - mae: 462.6649 - mse: 875306.1875INFO:tensorflow:Assets written to: model3.ckpt\\assets\n",
      "16/16 [==============================] - 0s 23ms/step - loss: 359.0707 - mae: 359.0707 - mse: 529244.0625 - val_loss: 2747.4031 - val_mae: 2747.4031 - val_mse: 16369833.0000\n",
      "Epoch 14/100\n",
      " 1/16 [>.............................] - ETA: 0s - loss: 374.8607 - mae: 374.8607 - mse: 706851.1875INFO:tensorflow:Assets written to: model3.ckpt\\assets\n",
      "16/16 [==============================] - 0s 24ms/step - loss: 352.2362 - mae: 352.2362 - mse: 511960.5312 - val_loss: 2730.3557 - val_mae: 2730.3557 - val_mse: 16092613.0000\n",
      "Epoch 15/100\n",
      " 1/16 [>.............................] - ETA: 0s - loss: 315.9019 - mae: 315.9019 - mse: 519132.8438INFO:tensorflow:Assets written to: model3.ckpt\\assets\n",
      "16/16 [==============================] - 0s 24ms/step - loss: 349.3427 - mae: 349.3427 - mse: 505304.8438 - val_loss: 2703.3684 - val_mae: 2703.3684 - val_mse: 15905211.0000\n",
      "Epoch 16/100\n",
      "16/16 [==============================] - 0s 4ms/step - loss: 346.0284 - mae: 346.0284 - mse: 497397.3438 - val_loss: 2709.4971 - val_mae: 2709.4971 - val_mse: 16119950.0000\n",
      "Epoch 17/100\n",
      "16/16 [==============================] - 0s 4ms/step - loss: 346.3813 - mae: 346.3813 - mse: 492325.4688 - val_loss: 2709.6057 - val_mae: 2709.6057 - val_mse: 15463672.0000\n",
      "Epoch 18/100\n",
      " 1/16 [>.............................] - ETA: 0s - loss: 296.9168 - mae: 296.9168 - mse: 372533.0000INFO:tensorflow:Assets written to: model3.ckpt\\assets\n",
      "16/16 [==============================] - 0s 25ms/step - loss: 343.0523 - mae: 343.0523 - mse: 480664.0312 - val_loss: 2677.6863 - val_mae: 2677.6863 - val_mse: 15159099.0000\n",
      "Epoch 19/100\n",
      " 1/16 [>.............................] - ETA: 0s - loss: 323.9117 - mae: 323.9117 - mse: 476825.1875INFO:tensorflow:Assets written to: model3.ckpt\\assets\n",
      "16/16 [==============================] - 0s 23ms/step - loss: 338.0573 - mae: 338.0573 - mse: 469889.0938 - val_loss: 2588.4426 - val_mae: 2588.4426 - val_mse: 14822525.0000\n",
      "Epoch 20/100\n",
      "16/16 [==============================] - 0s 5ms/step - loss: 332.6713 - mae: 332.6713 - mse: 462348.7500 - val_loss: 2644.5251 - val_mae: 2644.5251 - val_mse: 15028165.0000\n",
      "Epoch 21/100\n",
      " 1/16 [>.............................] - ETA: 0s - loss: 242.0034 - mae: 242.0034 - mse: 260816.1875INFO:tensorflow:Assets written to: model3.ckpt\\assets\n",
      "16/16 [==============================] - 0s 23ms/step - loss: 333.2867 - mae: 333.2867 - mse: 458115.0625 - val_loss: 2567.2097 - val_mae: 2567.2097 - val_mse: 14507800.0000\n",
      "Epoch 22/100\n",
      "16/16 [==============================] - 0s 4ms/step - loss: 330.0445 - mae: 330.0445 - mse: 453107.2500 - val_loss: 2567.7021 - val_mae: 2567.7021 - val_mse: 14247100.0000\n",
      "Epoch 23/100\n",
      "16/16 [==============================] - 0s 4ms/step - loss: 331.2318 - mae: 331.2318 - mse: 451108.6875 - val_loss: 2611.8418 - val_mae: 2611.8418 - val_mse: 15282793.0000\n",
      "Epoch 24/100\n",
      " 1/16 [>.............................] - ETA: 0s - loss: 283.0638 - mae: 283.0638 - mse: 297300.7812INFO:tensorflow:Assets written to: model3.ckpt\\assets\n",
      "16/16 [==============================] - 0s 23ms/step - loss: 337.3654 - mae: 337.3654 - mse: 462151.6562 - val_loss: 2511.1772 - val_mae: 2511.1772 - val_mse: 13988776.0000\n",
      "Epoch 25/100\n",
      "16/16 [==============================] - 0s 4ms/step - loss: 327.8631 - mae: 327.8631 - mse: 442118.0625 - val_loss: 2693.2021 - val_mae: 2693.2021 - val_mse: 14983068.0000\n",
      "Epoch 26/100\n",
      "16/16 [==============================] - 0s 4ms/step - loss: 323.8070 - mae: 323.8070 - mse: 434506.3438 - val_loss: 2577.0918 - val_mae: 2577.0918 - val_mse: 14134136.0000\n",
      "Epoch 27/100\n",
      "16/16 [==============================] - 0s 4ms/step - loss: 325.8156 - mae: 325.8156 - mse: 441041.3125 - val_loss: 2533.1775 - val_mae: 2533.1775 - val_mse: 13764031.0000\n",
      "Epoch 28/100\n",
      " 1/16 [>.............................] - ETA: 0s - loss: 337.1511 - mae: 337.1511 - mse: 632913.1250INFO:tensorflow:Assets written to: model3.ckpt\\assets\n",
      "16/16 [==============================] - 0s 23ms/step - loss: 318.2257 - mae: 318.2257 - mse: 427360.9375 - val_loss: 2471.5935 - val_mae: 2471.5935 - val_mse: 13388125.0000\n",
      "Epoch 29/100\n"
     ]
    },
    {
     "name": "stdout",
     "output_type": "stream",
     "text": [
      "16/16 [==============================] - 0s 4ms/step - loss: 318.2491 - mae: 318.2491 - mse: 427780.3438 - val_loss: 2519.9170 - val_mae: 2519.9170 - val_mse: 13606207.0000\n",
      "Epoch 30/100\n",
      "16/16 [==============================] - 0s 4ms/step - loss: 315.6877 - mae: 315.6877 - mse: 419905.6250 - val_loss: 2501.7117 - val_mae: 2501.7117 - val_mse: 13476185.0000\n",
      "Epoch 31/100\n",
      "16/16 [==============================] - 0s 5ms/step - loss: 313.8221 - mae: 313.8221 - mse: 416444.5000 - val_loss: 2504.7009 - val_mae: 2504.7009 - val_mse: 13377692.0000\n",
      "Epoch 32/100\n",
      " 1/16 [>.............................] - ETA: 0s - loss: 317.6903 - mae: 317.6903 - mse: 354003.7500INFO:tensorflow:Assets written to: model3.ckpt\\assets\n",
      "16/16 [==============================] - 0s 22ms/step - loss: 314.4783 - mae: 314.4783 - mse: 416633.5000 - val_loss: 2444.0632 - val_mae: 2444.0632 - val_mse: 13330236.0000\n",
      "Epoch 33/100\n",
      "16/16 [==============================] - 0s 5ms/step - loss: 319.5028 - mae: 319.5028 - mse: 418836.0625 - val_loss: 2517.9036 - val_mae: 2517.9036 - val_mse: 13638943.0000\n",
      "Epoch 34/100\n",
      " 1/16 [>.............................] - ETA: 0s - loss: 315.5408 - mae: 315.5408 - mse: 379768.2500INFO:tensorflow:Assets written to: model3.ckpt\\assets\n",
      "16/16 [==============================] - 0s 24ms/step - loss: 316.6780 - mae: 316.6780 - mse: 420926.0000 - val_loss: 2417.8401 - val_mae: 2417.8401 - val_mse: 12880686.0000\n",
      "Epoch 35/100\n",
      "16/16 [==============================] - 0s 4ms/step - loss: 318.1864 - mae: 318.1864 - mse: 423737.2500 - val_loss: 2572.5701 - val_mae: 2572.5701 - val_mse: 14008476.0000\n",
      "Epoch 36/100\n",
      "16/16 [==============================] - 0s 4ms/step - loss: 319.4513 - mae: 319.4513 - mse: 420975.0625 - val_loss: 2440.8110 - val_mae: 2440.8110 - val_mse: 12908124.0000\n",
      "Epoch 37/100\n",
      "16/16 [==============================] - 0s 4ms/step - loss: 308.0986 - mae: 308.0986 - mse: 402299.0938 - val_loss: 2529.3743 - val_mae: 2529.3743 - val_mse: 13411259.0000\n",
      "Epoch 38/100\n",
      "16/16 [==============================] - 0s 4ms/step - loss: 318.4192 - mae: 318.4192 - mse: 414428.3750 - val_loss: 2468.1165 - val_mae: 2468.1165 - val_mse: 12998598.0000\n",
      "Epoch 39/100\n",
      "16/16 [==============================] - 0s 4ms/step - loss: 314.3165 - mae: 314.3165 - mse: 409097.2812 - val_loss: 2431.4275 - val_mae: 2431.4275 - val_mse: 12951999.0000\n",
      "Epoch 40/100\n",
      " 1/16 [>.............................] - ETA: 0s - loss: 304.2179 - mae: 304.2179 - mse: 327038.1875INFO:tensorflow:Assets written to: model3.ckpt\\assets\n",
      "16/16 [==============================] - 0s 23ms/step - loss: 307.8396 - mae: 307.8396 - mse: 398755.1875 - val_loss: 2394.8279 - val_mae: 2394.8279 - val_mse: 12701803.0000\n",
      "Epoch 41/100\n",
      " 1/16 [>.............................] - ETA: 0s - loss: 375.0668 - mae: 375.0668 - mse: 629382.0000INFO:tensorflow:Assets written to: model3.ckpt\\assets\n",
      "16/16 [==============================] - 0s 24ms/step - loss: 308.5643 - mae: 308.5643 - mse: 401029.5000 - val_loss: 2373.4497 - val_mae: 2373.4497 - val_mse: 12555861.0000\n",
      "Epoch 42/100\n",
      "16/16 [==============================] - 0s 4ms/step - loss: 308.5258 - mae: 308.5258 - mse: 398005.6250 - val_loss: 2454.6667 - val_mae: 2454.6667 - val_mse: 12947440.0000\n",
      "Epoch 43/100\n",
      "16/16 [==============================] - 0s 4ms/step - loss: 305.4184 - mae: 305.4184 - mse: 393418.4688 - val_loss: 2401.5293 - val_mae: 2401.5293 - val_mse: 12493473.0000\n",
      "Epoch 44/100\n",
      "16/16 [==============================] - 0s 4ms/step - loss: 305.0935 - mae: 305.0935 - mse: 391647.6562 - val_loss: 2414.5347 - val_mae: 2414.5347 - val_mse: 12598783.0000\n",
      "Epoch 45/100\n",
      "16/16 [==============================] - 0s 4ms/step - loss: 309.5138 - mae: 309.5138 - mse: 398895.4375 - val_loss: 2555.6533 - val_mae: 2555.6533 - val_mse: 13329346.0000\n",
      "Epoch 46/100\n",
      "16/16 [==============================] - 0s 4ms/step - loss: 312.9906 - mae: 312.9906 - mse: 397476.1875 - val_loss: 2437.1956 - val_mae: 2437.1956 - val_mse: 12677873.0000\n",
      "Epoch 47/100\n",
      "16/16 [==============================] - 0s 4ms/step - loss: 303.5764 - mae: 303.5764 - mse: 388848.3750 - val_loss: 2384.9609 - val_mae: 2384.9609 - val_mse: 12340601.0000\n",
      "Epoch 48/100\n",
      "16/16 [==============================] - 0s 4ms/step - loss: 301.5481 - mae: 301.5481 - mse: 383288.1875 - val_loss: 2480.9688 - val_mae: 2480.9688 - val_mse: 12840131.0000\n",
      "Epoch 49/100\n",
      " 1/16 [>.............................] - ETA: 0s - loss: 350.5409 - mae: 350.5409 - mse: 460675.4062INFO:tensorflow:Assets written to: model3.ckpt\\assets\n",
      "16/16 [==============================] - 0s 22ms/step - loss: 303.5321 - mae: 303.5321 - mse: 385680.9375 - val_loss: 2340.5312 - val_mae: 2340.5312 - val_mse: 12098298.0000\n",
      "Epoch 50/100\n",
      "16/16 [==============================] - 0s 4ms/step - loss: 303.8412 - mae: 303.8412 - mse: 389851.8125 - val_loss: 2357.0691 - val_mae: 2357.0691 - val_mse: 12520010.0000\n",
      "Epoch 51/100\n",
      "16/16 [==============================] - 0s 4ms/step - loss: 307.3103 - mae: 307.3103 - mse: 391815.9062 - val_loss: 2473.7617 - val_mae: 2473.7617 - val_mse: 12702911.0000\n",
      "Epoch 52/100\n",
      "16/16 [==============================] - 0s 4ms/step - loss: 308.2026 - mae: 308.2026 - mse: 384523.3750 - val_loss: 2430.1929 - val_mae: 2430.1929 - val_mse: 12557417.0000\n",
      "Epoch 53/100\n",
      "16/16 [==============================] - 0s 4ms/step - loss: 301.6264 - mae: 301.6264 - mse: 383230.7500 - val_loss: 2391.3330 - val_mae: 2391.3330 - val_mse: 12292427.0000\n",
      "Epoch 54/100\n",
      " 1/16 [>.............................] - ETA: 0s - loss: 223.0434 - mae: 223.0434 - mse: 178900.1250INFO:tensorflow:Assets written to: model3.ckpt\\assets\n",
      "16/16 [==============================] - 0s 23ms/step - loss: 306.0962 - mae: 306.0962 - mse: 387757.8750 - val_loss: 2339.0808 - val_mae: 2339.0808 - val_mse: 11941988.0000\n",
      "Epoch 55/100\n",
      "16/16 [==============================] - 0s 5ms/step - loss: 300.4895 - mae: 300.4895 - mse: 377766.8438 - val_loss: 2382.9177 - val_mae: 2382.9177 - val_mse: 12129967.0000\n",
      "Epoch 56/100\n",
      " 1/16 [>.............................] - ETA: 0s - loss: 302.7208 - mae: 302.7208 - mse: 337232.5312INFO:tensorflow:Assets written to: model3.ckpt\\assets\n",
      "16/16 [==============================] - 0s 25ms/step - loss: 299.0459 - mae: 299.0459 - mse: 377695.2812 - val_loss: 2315.4065 - val_mae: 2315.4065 - val_mse: 11797520.0000\n",
      "Epoch 57/100\n",
      "16/16 [==============================] - 0s 4ms/step - loss: 301.6114 - mae: 301.6114 - mse: 377401.9375 - val_loss: 2318.5320 - val_mae: 2318.5320 - val_mse: 11863134.0000\n",
      "Epoch 58/100\n",
      "16/16 [==============================] - 0s 5ms/step - loss: 295.0646 - mae: 295.0646 - mse: 374920.3125 - val_loss: 2352.4814 - val_mae: 2352.4814 - val_mse: 11993523.0000\n",
      "Epoch 59/100\n",
      " 1/16 [>.............................] - ETA: 0s - loss: 310.2839 - mae: 310.2839 - mse: 280560.5625INFO:tensorflow:Assets written to: model3.ckpt\\assets\n",
      "16/16 [==============================] - 1s 34ms/step - loss: 296.2722 - mae: 296.2722 - mse: 374022.2812 - val_loss: 2308.2646 - val_mae: 2308.2646 - val_mse: 11906100.0000\n",
      "Epoch 60/100\n",
      "16/16 [==============================] - 0s 5ms/step - loss: 301.9180 - mae: 301.9180 - mse: 380820.4062 - val_loss: 2320.3391 - val_mae: 2320.3391 - val_mse: 11972467.0000\n",
      "Epoch 61/100\n",
      "16/16 [==============================] - 0s 6ms/step - loss: 296.1636 - mae: 296.1636 - mse: 372247.0938 - val_loss: 2344.0837 - val_mae: 2344.0837 - val_mse: 11905852.0000\n",
      "Epoch 62/100\n",
      "16/16 [==============================] - 0s 6ms/step - loss: 300.2198 - mae: 300.2198 - mse: 375392.1875 - val_loss: 2311.0818 - val_mae: 2311.0818 - val_mse: 11658392.0000\n",
      "Epoch 63/100\n",
      "16/16 [==============================] - 0s 4ms/step - loss: 299.5335 - mae: 299.5335 - mse: 370361.5000 - val_loss: 2319.9741 - val_mae: 2319.9741 - val_mse: 11777611.0000\n",
      "Epoch 64/100\n",
      "16/16 [==============================] - 0s 4ms/step - loss: 304.0215 - mae: 304.0215 - mse: 376856.9688 - val_loss: 2319.4626 - val_mae: 2319.4626 - val_mse: 11950164.0000\n",
      "Epoch 65/100\n",
      "16/16 [==============================] - 0s 4ms/step - loss: 304.9453 - mae: 304.9453 - mse: 381146.8438 - val_loss: 2319.8906 - val_mae: 2319.8906 - val_mse: 11949959.0000\n",
      "Epoch 66/100\n"
     ]
    },
    {
     "name": "stdout",
     "output_type": "stream",
     "text": [
      " 1/16 [>.............................] - ETA: 0s - loss: 309.3243 - mae: 309.3243 - mse: 316013.7188INFO:tensorflow:Assets written to: model3.ckpt\\assets\n",
      "16/16 [==============================] - 0s 23ms/step - loss: 296.9988 - mae: 296.9988 - mse: 370106.8125 - val_loss: 2289.7974 - val_mae: 2289.7974 - val_mse: 11541330.0000\n",
      "Epoch 67/100\n",
      "16/16 [==============================] - 0s 4ms/step - loss: 294.6481 - mae: 294.6481 - mse: 365707.4062 - val_loss: 2328.7566 - val_mae: 2328.7566 - val_mse: 11724354.0000\n",
      "Epoch 68/100\n",
      "16/16 [==============================] - 0s 5ms/step - loss: 294.5917 - mae: 294.5917 - mse: 365878.6250 - val_loss: 2301.4031 - val_mae: 2301.4031 - val_mse: 11516634.0000\n",
      "Epoch 69/100\n",
      "16/16 [==============================] - 0s 4ms/step - loss: 298.7109 - mae: 298.7109 - mse: 373056.1875 - val_loss: 2474.0303 - val_mae: 2474.0303 - val_mse: 12593930.0000\n",
      "Epoch 70/100\n",
      "16/16 [==============================] - 0s 5ms/step - loss: 298.6616 - mae: 298.6616 - mse: 369194.1562 - val_loss: 2358.7043 - val_mae: 2358.7043 - val_mse: 11920747.0000\n",
      "Epoch 71/100\n",
      "16/16 [==============================] - 0s 5ms/step - loss: 293.4753 - mae: 293.4753 - mse: 363110.4062 - val_loss: 2309.0583 - val_mae: 2309.0583 - val_mse: 11507042.0000\n",
      "Epoch 72/100\n",
      "16/16 [==============================] - 0s 5ms/step - loss: 295.3351 - mae: 295.3351 - mse: 363711.2812 - val_loss: 2303.8450 - val_mae: 2303.8450 - val_mse: 11660170.0000\n",
      "Epoch 73/100\n",
      "16/16 [==============================] - 0s 4ms/step - loss: 292.8014 - mae: 292.8014 - mse: 364261.2812 - val_loss: 2475.7009 - val_mae: 2475.7009 - val_mse: 12387418.0000\n",
      "Epoch 74/100\n",
      " 1/16 [>.............................] - ETA: 0s - loss: 304.9699 - mae: 304.9699 - mse: 345432.1562INFO:tensorflow:Assets written to: model3.ckpt\\assets\n",
      "16/16 [==============================] - 0s 24ms/step - loss: 297.5949 - mae: 297.5949 - mse: 367674.8438 - val_loss: 2268.9626 - val_mae: 2268.9626 - val_mse: 11383704.0000\n",
      "Epoch 75/100\n",
      "16/16 [==============================] - 0s 5ms/step - loss: 292.2041 - mae: 292.2041 - mse: 363594.6250 - val_loss: 2294.8779 - val_mae: 2294.8779 - val_mse: 11427988.0000\n",
      "Epoch 76/100\n",
      "16/16 [==============================] - 0s 4ms/step - loss: 290.3424 - mae: 290.3424 - mse: 360471.3438 - val_loss: 2278.2544 - val_mae: 2278.2544 - val_mse: 11308300.0000\n",
      "Epoch 77/100\n",
      " 1/16 [>.............................] - ETA: 0s - loss: 258.4340 - mae: 258.4340 - mse: 340119.0000INFO:tensorflow:Assets written to: model3.ckpt\\assets\n",
      "16/16 [==============================] - 0s 25ms/step - loss: 292.3036 - mae: 292.3036 - mse: 361601.9688 - val_loss: 2267.0693 - val_mae: 2267.0693 - val_mse: 11324053.0000\n",
      "Epoch 78/100\n",
      " 1/16 [>.............................] - ETA: 0s - loss: 235.8787 - mae: 235.8787 - mse: 205469.9375INFO:tensorflow:Assets written to: model3.ckpt\\assets\n",
      "16/16 [==============================] - 0s 27ms/step - loss: 289.2628 - mae: 289.2628 - mse: 356067.5625 - val_loss: 2259.8479 - val_mae: 2259.8479 - val_mse: 11324961.0000\n",
      "Epoch 79/100\n",
      "16/16 [==============================] - 0s 5ms/step - loss: 292.8443 - mae: 292.8443 - mse: 358623.2500 - val_loss: 2293.1980 - val_mae: 2293.1980 - val_mse: 11852728.0000\n",
      "Epoch 80/100\n",
      "16/16 [==============================] - 0s 5ms/step - loss: 295.0385 - mae: 295.0385 - mse: 364912.0938 - val_loss: 2270.3364 - val_mae: 2270.3364 - val_mse: 11353076.0000\n",
      "Epoch 81/100\n",
      "16/16 [==============================] - 0s 4ms/step - loss: 302.6721 - mae: 302.6721 - mse: 370987.0000 - val_loss: 2303.2661 - val_mae: 2303.2661 - val_mse: 11788343.0000\n",
      "Epoch 82/100\n",
      "16/16 [==============================] - 0s 4ms/step - loss: 296.3636 - mae: 296.3636 - mse: 363383.6250 - val_loss: 2287.4526 - val_mae: 2287.4526 - val_mse: 11285565.0000\n",
      "Epoch 83/100\n",
      "16/16 [==============================] - 0s 4ms/step - loss: 297.4510 - mae: 297.4510 - mse: 370566.8125 - val_loss: 2364.1335 - val_mae: 2364.1335 - val_mse: 11684416.0000\n",
      "Epoch 84/100\n",
      "16/16 [==============================] - 0s 5ms/step - loss: 294.5987 - mae: 294.5987 - mse: 364674.0938 - val_loss: 2271.4390 - val_mae: 2271.4390 - val_mse: 11239305.0000\n",
      "Epoch 85/100\n",
      "16/16 [==============================] - 0s 5ms/step - loss: 291.9126 - mae: 291.9126 - mse: 359191.4062 - val_loss: 2329.6721 - val_mae: 2329.6721 - val_mse: 11515285.0000\n",
      "Epoch 86/100\n",
      " 1/16 [>.............................] - ETA: 0s - loss: 289.5808 - mae: 289.5808 - mse: 370193.2500INFO:tensorflow:Assets written to: model3.ckpt\\assets\n",
      "16/16 [==============================] - 0s 25ms/step - loss: 292.3833 - mae: 292.3833 - mse: 357630.3438 - val_loss: 2224.3013 - val_mae: 2224.3013 - val_mse: 11043641.0000\n",
      "Epoch 87/100\n",
      "16/16 [==============================] - 0s 5ms/step - loss: 289.3244 - mae: 289.3244 - mse: 358231.5938 - val_loss: 2413.7642 - val_mae: 2413.7642 - val_mse: 11905176.0000\n",
      "Epoch 88/100\n",
      "16/16 [==============================] - 0s 5ms/step - loss: 292.6013 - mae: 292.6013 - mse: 356680.5000 - val_loss: 2240.2371 - val_mae: 2240.2371 - val_mse: 11172078.0000\n",
      "Epoch 89/100\n",
      "16/16 [==============================] - 0s 4ms/step - loss: 286.8538 - mae: 286.8538 - mse: 353228.0312 - val_loss: 2406.3003 - val_mae: 2406.3003 - val_mse: 11939380.0000\n",
      "Epoch 90/100\n",
      " 1/16 [>.............................] - ETA: 0s - loss: 299.0264 - mae: 299.0264 - mse: 278178.0938INFO:tensorflow:Assets written to: model3.ckpt\\assets\n",
      "16/16 [==============================] - 0s 26ms/step - loss: 288.5093 - mae: 288.5093 - mse: 353577.7500 - val_loss: 2220.9062 - val_mae: 2220.9062 - val_mse: 10973673.0000\n",
      "Epoch 91/100\n",
      "16/16 [==============================] - 0s 5ms/step - loss: 289.4883 - mae: 289.4883 - mse: 351178.9688 - val_loss: 2262.4155 - val_mae: 2262.4155 - val_mse: 11552677.0000\n",
      "Epoch 92/100\n",
      "16/16 [==============================] - 0s 4ms/step - loss: 290.4302 - mae: 290.4302 - mse: 353758.1875 - val_loss: 2303.9297 - val_mae: 2303.9297 - val_mse: 11281620.0000\n",
      "Epoch 93/100\n",
      "16/16 [==============================] - 0s 5ms/step - loss: 285.8728 - mae: 285.8728 - mse: 347406.1250 - val_loss: 2273.9976 - val_mae: 2273.9976 - val_mse: 11255982.0000\n",
      "Epoch 94/100\n",
      "16/16 [==============================] - 0s 5ms/step - loss: 290.0018 - mae: 290.0018 - mse: 347179.7812 - val_loss: 2292.9893 - val_mae: 2292.9893 - val_mse: 11504141.0000\n",
      "Epoch 95/100\n",
      "16/16 [==============================] - 0s 5ms/step - loss: 287.5880 - mae: 287.5880 - mse: 352126.4688 - val_loss: 2253.0576 - val_mae: 2253.0576 - val_mse: 11562202.0000\n",
      "Epoch 96/100\n",
      "16/16 [==============================] - 0s 4ms/step - loss: 289.2390 - mae: 289.2390 - mse: 353314.9062 - val_loss: 2255.5752 - val_mae: 2255.5752 - val_mse: 11177977.0000\n",
      "Epoch 97/100\n",
      "16/16 [==============================] - 0s 4ms/step - loss: 296.5604 - mae: 296.5604 - mse: 359887.6562 - val_loss: 2285.2002 - val_mae: 2285.2002 - val_mse: 11322923.0000\n",
      "Epoch 98/100\n",
      "16/16 [==============================] - 0s 5ms/step - loss: 291.5320 - mae: 291.5320 - mse: 350404.3750 - val_loss: 2368.5046 - val_mae: 2368.5046 - val_mse: 11568980.0000\n",
      "Epoch 99/100\n",
      "16/16 [==============================] - 0s 5ms/step - loss: 288.1110 - mae: 288.1110 - mse: 348170.1562 - val_loss: 2235.5459 - val_mae: 2235.5459 - val_mse: 10965053.0000\n",
      "Epoch 100/100\n",
      "16/16 [==============================] - 0s 5ms/step - loss: 282.7359 - mae: 282.7359 - mse: 341909.3750 - val_loss: 2246.2046 - val_mae: 2246.2046 - val_mse: 11016629.0000\n"
     ]
    }
   ],
   "source": [
    "# building model\n",
    "model3 = tf.keras.Sequential([\n",
    "    tf.keras.layers.Dense(128,activation=\"relu\"),\n",
    "    tf.keras.layers.Dense(7)\n",
    "],name=\"model3\")\n",
    "model3.compile(optimizer = tf.keras.optimizers.Adam(), loss = \"mae\", metrics=[\"mae\", \"mse\"])\n",
    "history3 = model3.fit(train_win, \n",
    "                    train_hor, \n",
    "                    epochs = 100,\n",
    "                    batch_size = 128,\n",
    "                    validation_data = (test_win,test_hor),\n",
    "                    callbacks = [create_model_checkpoint(\"model3.ckpt\")])"
   ]
  },
  {
   "cell_type": "code",
   "execution_count": 41,
   "metadata": {},
   "outputs": [],
   "source": [
    "# loading the best performing model\n",
    "model3 = tf.keras.models.load_model(\"model3.ckpt\")"
   ]
  },
  {
   "cell_type": "markdown",
   "metadata": {},
   "source": [
    "# EVALUATING MODEL3"
   ]
  },
  {
   "cell_type": "code",
   "execution_count": 42,
   "metadata": {},
   "outputs": [
    {
     "name": "stdout",
     "output_type": "stream",
     "text": [
      "16/16 [==============================] - 0s 2ms/step - loss: 2220.9060 - mae: 2220.9060 - mse: 10973673.0000\n"
     ]
    },
    {
     "data": {
      "text/plain": [
       "[2220.906005859375, 2220.906005859375, 10973673.0]"
      ]
     },
     "execution_count": 42,
     "metadata": {},
     "output_type": "execute_result"
    }
   ],
   "source": [
    "model3.evaluate(test_win,test_hor)"
   ]
  },
  {
   "cell_type": "code",
   "execution_count": 43,
   "metadata": {},
   "outputs": [
    {
     "data": {
      "text/plain": [
       "(511, 7)"
      ]
     },
     "execution_count": 43,
     "metadata": {},
     "output_type": "execute_result"
    }
   ],
   "source": [
    "pred3 = tf.squeeze(model3.predict(test_win)).numpy()\n",
    "pred3.shape"
   ]
  },
  {
   "cell_type": "code",
   "execution_count": 44,
   "metadata": {},
   "outputs": [
    {
     "data": {
      "text/plain": [
       "{'MEAN ABSOLUTE ERROR': 2220.9062,\n",
       " 'MEAN SQUARED ERROR': 10973673.0,\n",
       " 'ROOT MEAN SQUARED ERROR': 3312.6536,\n",
       " 'MEAN ABSOLUTE PERCENTAGE ERROR': 5.845532}"
      ]
     },
     "execution_count": 44,
     "metadata": {},
     "output_type": "execute_result"
    }
   ],
   "source": [
    "model3_report = model_report(test_hor,pred3)\n",
    "model3_report"
   ]
  },
  {
   "cell_type": "markdown",
   "metadata": {},
   "source": [
    "# MODEL4"
   ]
  },
  {
   "cell_type": "code",
   "execution_count": 45,
   "metadata": {},
   "outputs": [
    {
     "data": {
      "text/plain": [
       "((2580, 7), (2580,))"
      ]
     },
     "execution_count": 45,
     "metadata": {},
     "output_type": "execute_result"
    }
   ],
   "source": [
    "# preparing the data\n",
    "windows, horizons = make_windows(7,1,prices)\n",
    "windows.shape, horizons.shape"
   ]
  },
  {
   "cell_type": "code",
   "execution_count": 46,
   "metadata": {},
   "outputs": [
    {
     "data": {
      "text/plain": [
       "((2064, 7), (516, 7), (2064,), (516,))"
      ]
     },
     "execution_count": 46,
     "metadata": {},
     "output_type": "execute_result"
    }
   ],
   "source": [
    "# splitting into train and test data\n",
    "train_win = windows[:int(len(windows)*0.8)]\n",
    "train_hor = horizons[:int(len(windows)*0.8)]\n",
    "test_win = windows[int(len(windows)*0.8):]\n",
    "test_hor = horizons[int(len(windows)*0.8):]\n",
    "train_win.shape,test_win.shape,train_hor.shape,test_hor.shape"
   ]
  },
  {
   "cell_type": "code",
   "execution_count": 47,
   "metadata": {},
   "outputs": [
    {
     "name": "stdout",
     "output_type": "stream",
     "text": [
      "Epoch 1/100\n",
      "17/17 [==============================] - ETA: 0s - loss: 3796.1934 - mae: 3796.1934 - mse: 25116348.0000INFO:tensorflow:Assets written to: model4.ckpt\\assets\n",
      "17/17 [==============================] - 9s 46ms/step - loss: 3796.1934 - mae: 3796.1934 - mse: 25116348.0000 - val_loss: 19256.7480 - val_mae: 19256.7480 - val_mse: 540117248.0000\n",
      "Epoch 2/100\n",
      "17/17 [==============================] - 0s 6ms/step - loss: 3780.3689 - mae: 3780.3689 - mse: 24981110.0000 - val_loss: 21140.1895 - val_mae: 21140.1895 - val_mse: 630923392.0000\n",
      "Epoch 3/100\n",
      "17/17 [==============================] - 0s 6ms/step - loss: 3780.2268 - mae: 3780.2268 - mse: 25038508.0000 - val_loss: 20061.2402 - val_mae: 20061.2402 - val_mse: 577846464.0000\n",
      "Epoch 4/100\n",
      "17/17 [==============================] - 0s 6ms/step - loss: 3782.0107 - mae: 3782.0107 - mse: 24769900.0000 - val_loss: 20285.6426 - val_mae: 20285.6426 - val_mse: 588660224.0000\n",
      "Epoch 5/100\n",
      "17/17 [==============================] - 0s 6ms/step - loss: 3778.4988 - mae: 3778.4988 - mse: 24852334.0000 - val_loss: 20044.3574 - val_mae: 20044.3574 - val_mse: 577037248.0000\n",
      "Epoch 6/100\n",
      "17/17 [==============================] - 0s 6ms/step - loss: 3770.0662 - mae: 3770.0662 - mse: 24607626.0000 - val_loss: 20716.4688 - val_mae: 20716.4688 - val_mse: 609753664.0000\n",
      "Epoch 7/100\n",
      "17/17 [==============================] - 0s 6ms/step - loss: 3777.3821 - mae: 3777.3821 - mse: 24912158.0000 - val_loss: 19822.3672 - val_mae: 19822.3672 - val_mse: 566461888.0000\n",
      "Epoch 8/100\n",
      "17/17 [==============================] - 0s 6ms/step - loss: 3776.9546 - mae: 3776.9546 - mse: 24883500.0000 - val_loss: 20238.3457 - val_mae: 20238.3457 - val_mse: 586368576.0000\n",
      "Epoch 9/100\n",
      "17/17 [==============================] - 0s 6ms/step - loss: 3765.0938 - mae: 3765.0938 - mse: 24640208.0000 - val_loss: 20048.0391 - val_mae: 20048.0391 - val_mse: 577236288.0000\n",
      "Epoch 10/100\n",
      "17/17 [==============================] - 0s 6ms/step - loss: 3779.6533 - mae: 3779.6533 - mse: 24778100.0000 - val_loss: 19833.4531 - val_mae: 19833.4531 - val_mse: 567013632.0000\n",
      "Epoch 11/100\n",
      "17/17 [==============================] - 0s 6ms/step - loss: 3780.8123 - mae: 3780.8123 - mse: 24812812.0000 - val_loss: 20718.0098 - val_mae: 20718.0098 - val_mse: 609842624.0000\n",
      "Epoch 12/100\n",
      "15/17 [=========================>....] - ETA: 0s - loss: 3779.7607 - mae: 3779.7607 - mse: 25072298.0000INFO:tensorflow:Assets written to: model4.ckpt\\assets\n",
      "17/17 [==============================] - 0s 31ms/step - loss: 3777.2678 - mae: 3777.2678 - mse: 25049014.0000 - val_loss: 18897.2402 - val_mae: 18897.2402 - val_mse: 523667520.0000\n",
      "Epoch 13/100\n",
      "17/17 [==============================] - 0s 6ms/step - loss: 3779.5168 - mae: 3779.5168 - mse: 24628164.0000 - val_loss: 21792.1523 - val_mae: 21792.1523 - val_mse: 664330944.0000\n",
      "Epoch 14/100\n",
      "17/17 [==============================] - 0s 6ms/step - loss: 3782.4829 - mae: 3782.4829 - mse: 25125260.0000 - val_loss: 19076.4336 - val_mae: 19076.4336 - val_mse: 531789600.0000\n",
      "Epoch 15/100\n",
      "17/17 [==============================] - 0s 6ms/step - loss: 3788.9944 - mae: 3788.9944 - mse: 24637250.0000 - val_loss: 21284.4395 - val_mae: 21284.4395 - val_mse: 638239552.0000\n",
      "Epoch 16/100\n",
      "17/17 [==============================] - 0s 6ms/step - loss: 3779.4297 - mae: 3779.4297 - mse: 24976922.0000 - val_loss: 19785.4297 - val_mae: 19785.4297 - val_mse: 564694848.0000\n",
      "Epoch 17/100\n",
      "17/17 [==============================] - 0s 6ms/step - loss: 3776.7920 - mae: 3776.7920 - mse: 24859382.0000 - val_loss: 20449.2910 - val_mae: 20449.2910 - val_mse: 596606016.0000\n",
      "Epoch 18/100\n",
      "17/17 [==============================] - 0s 6ms/step - loss: 3774.8591 - mae: 3774.8591 - mse: 24718870.0000 - val_loss: 19633.2070 - val_mae: 19633.2070 - val_mse: 557522304.0000\n",
      "Epoch 19/100\n",
      "17/17 [==============================] - 0s 6ms/step - loss: 3778.9780 - mae: 3778.9780 - mse: 24855282.0000 - val_loss: 21134.7031 - val_mae: 21134.7031 - val_mse: 630650176.0000\n",
      "Epoch 20/100\n",
      "17/17 [==============================] - 0s 6ms/step - loss: 3777.3088 - mae: 3777.3088 - mse: 24819782.0000 - val_loss: 19535.0879 - val_mae: 19535.0879 - val_mse: 552927680.0000\n",
      "Epoch 21/100\n",
      "17/17 [==============================] - 0s 6ms/step - loss: 3770.5972 - mae: 3770.5972 - mse: 24571994.0000 - val_loss: 20663.5352 - val_mae: 20663.5352 - val_mse: 607125120.0000\n",
      "Epoch 22/100\n",
      "17/17 [==============================] - 0s 6ms/step - loss: 3773.8953 - mae: 3773.8953 - mse: 24957668.0000 - val_loss: 20793.0078 - val_mae: 20793.0078 - val_mse: 613535744.0000\n",
      "Epoch 23/100\n",
      "17/17 [==============================] - 0s 6ms/step - loss: 3781.9548 - mae: 3781.9548 - mse: 24844330.0000 - val_loss: 20815.8457 - val_mae: 20815.8457 - val_mse: 614670848.0000\n",
      "Epoch 24/100\n",
      "17/17 [==============================] - 0s 6ms/step - loss: 3777.3823 - mae: 3777.3823 - mse: 24989170.0000 - val_loss: 19495.1172 - val_mae: 19495.1172 - val_mse: 551058560.0000\n",
      "Epoch 25/100\n",
      "17/17 [==============================] - 0s 6ms/step - loss: 3777.6484 - mae: 3777.6484 - mse: 24885908.0000 - val_loss: 19964.2305 - val_mae: 19964.2305 - val_mse: 573177152.0000\n",
      "Epoch 26/100\n",
      "17/17 [==============================] - 0s 6ms/step - loss: 3779.7817 - mae: 3779.7817 - mse: 24841858.0000 - val_loss: 20642.8047 - val_mae: 20642.8047 - val_mse: 606101312.0000\n",
      "Epoch 27/100\n",
      "17/17 [==============================] - 0s 5ms/step - loss: 3779.1128 - mae: 3779.1128 - mse: 24973670.0000 - val_loss: 20844.2207 - val_mae: 20844.2207 - val_mse: 616083136.0000\n",
      "Epoch 28/100\n",
      "17/17 [==============================] - 0s 5ms/step - loss: 3775.8630 - mae: 3775.8630 - mse: 24791596.0000 - val_loss: 20186.8594 - val_mae: 20186.8594 - val_mse: 583857472.0000\n",
      "Epoch 29/100\n",
      "17/17 [==============================] - 0s 5ms/step - loss: 3779.6211 - mae: 3779.6211 - mse: 24748738.0000 - val_loss: 21409.9707 - val_mae: 21409.9707 - val_mse: 644648000.0000\n",
      "Epoch 30/100\n",
      "17/17 [==============================] - 0s 6ms/step - loss: 3780.2363 - mae: 3780.2363 - mse: 24970738.0000 - val_loss: 20066.1230 - val_mae: 20066.1230 - val_mse: 578047296.0000\n",
      "Epoch 31/100\n",
      "17/17 [==============================] - 0s 6ms/step - loss: 3780.1125 - mae: 3780.1125 - mse: 24864590.0000 - val_loss: 21272.8750 - val_mae: 21272.8750 - val_mse: 637657600.0000\n",
      "Epoch 32/100\n",
      "17/17 [==============================] - 0s 6ms/step - loss: 3780.2322 - mae: 3780.2322 - mse: 24962770.0000 - val_loss: 19499.7715 - val_mae: 19499.7715 - val_mse: 551259840.0000\n",
      "Epoch 33/100\n",
      "17/17 [==============================] - 0s 6ms/step - loss: 3771.8906 - mae: 3771.8906 - mse: 24715412.0000 - val_loss: 20002.2266 - val_mae: 20002.2266 - val_mse: 574981568.0000\n",
      "Epoch 34/100\n",
      "17/17 [==============================] - 0s 6ms/step - loss: 3773.7073 - mae: 3773.7073 - mse: 24853948.0000 - val_loss: 19441.1426 - val_mae: 19441.1426 - val_mse: 548530112.0000\n",
      "Epoch 35/100\n",
      "17/17 [==============================] - 0s 5ms/step - loss: 3778.8511 - mae: 3778.8511 - mse: 24644364.0000 - val_loss: 19831.5234 - val_mae: 19831.5234 - val_mse: 566853440.0000\n",
      "Epoch 36/100\n",
      "17/17 [==============================] - 0s 5ms/step - loss: 3781.4102 - mae: 3781.4102 - mse: 24762470.0000 - val_loss: 20961.9668 - val_mae: 20961.9668 - val_mse: 621965632.0000\n",
      "Epoch 37/100\n",
      "17/17 [==============================] - 0s 5ms/step - loss: 3770.1943 - mae: 3770.1943 - mse: 24740792.0000 - val_loss: 19764.5781 - val_mae: 19764.5781 - val_mse: 563684288.0000\n",
      "Epoch 38/100\n",
      "17/17 [==============================] - 0s 5ms/step - loss: 3777.2358 - mae: 3777.2358 - mse: 24759668.0000 - val_loss: 20293.9512 - val_mae: 20293.9512 - val_mse: 589032512.0000\n",
      "Epoch 39/100\n",
      "17/17 [==============================] - 0s 5ms/step - loss: 3774.6470 - mae: 3774.6470 - mse: 24746914.0000 - val_loss: 20171.7969 - val_mae: 20171.7969 - val_mse: 583123648.0000\n",
      "Epoch 40/100\n",
      "17/17 [==============================] - 0s 5ms/step - loss: 3772.1677 - mae: 3772.1677 - mse: 24698576.0000 - val_loss: 21162.6836 - val_mae: 21162.6836 - val_mse: 632073920.0000\n",
      "Epoch 41/100\n",
      "17/17 [==============================] - 0s 5ms/step - loss: 3776.7300 - mae: 3776.7300 - mse: 24867870.0000 - val_loss: 19644.4863 - val_mae: 19644.4863 - val_mse: 558023104.0000\n"
     ]
    },
    {
     "name": "stdout",
     "output_type": "stream",
     "text": [
      "Epoch 42/100\n",
      "17/17 [==============================] - 0s 5ms/step - loss: 3775.0254 - mae: 3775.0254 - mse: 24771456.0000 - val_loss: 21218.4277 - val_mae: 21218.4277 - val_mse: 634897920.0000\n",
      "Epoch 43/100\n",
      "17/17 [==============================] - 0s 5ms/step - loss: 3782.7063 - mae: 3782.7063 - mse: 25079290.0000 - val_loss: 19249.3633 - val_mae: 19249.3633 - val_mse: 539653760.0000\n",
      "Epoch 44/100\n",
      "17/17 [==============================] - 0s 5ms/step - loss: 3776.0859 - mae: 3776.0859 - mse: 24738436.0000 - val_loss: 21398.4609 - val_mae: 21398.4609 - val_mse: 644068800.0000\n",
      "Epoch 45/100\n",
      "17/17 [==============================] - 0s 5ms/step - loss: 3772.8691 - mae: 3772.8691 - mse: 24763298.0000 - val_loss: 20244.6484 - val_mae: 20244.6484 - val_mse: 586638848.0000\n",
      "Epoch 46/100\n",
      "17/17 [==============================] - 0s 5ms/step - loss: 3777.4995 - mae: 3777.4995 - mse: 25022362.0000 - val_loss: 19073.1914 - val_mae: 19073.1914 - val_mse: 531584768.0000\n",
      "Epoch 47/100\n",
      "17/17 [==============================] - 0s 5ms/step - loss: 3777.2441 - mae: 3777.2441 - mse: 24598370.0000 - val_loss: 20988.8828 - val_mae: 20988.8828 - val_mse: 623316992.0000\n",
      "Epoch 48/100\n",
      "17/17 [==============================] - 0s 5ms/step - loss: 3773.5811 - mae: 3773.5811 - mse: 24793998.0000 - val_loss: 19858.1777 - val_mae: 19858.1777 - val_mse: 568110528.0000\n",
      "Epoch 49/100\n",
      "17/17 [==============================] - 0s 5ms/step - loss: 3774.5239 - mae: 3774.5239 - mse: 24666886.0000 - val_loss: 20296.4531 - val_mae: 20296.4531 - val_mse: 589152192.0000\n",
      "Epoch 50/100\n",
      "17/17 [==============================] - 0s 5ms/step - loss: 3774.1917 - mae: 3774.1917 - mse: 24722140.0000 - val_loss: 20231.8008 - val_mae: 20231.8008 - val_mse: 586020224.0000\n",
      "Epoch 51/100\n",
      "17/17 [==============================] - 0s 5ms/step - loss: 3774.1719 - mae: 3774.1719 - mse: 24775140.0000 - val_loss: 20121.0918 - val_mae: 20121.0918 - val_mse: 580678272.0000\n",
      "Epoch 52/100\n",
      "17/17 [==============================] - 0s 5ms/step - loss: 3781.0916 - mae: 3781.0916 - mse: 24931934.0000 - val_loss: 20663.4844 - val_mae: 20663.4844 - val_mse: 607120832.0000\n",
      "Epoch 53/100\n",
      "17/17 [==============================] - 0s 5ms/step - loss: 3776.5022 - mae: 3776.5022 - mse: 24882246.0000 - val_loss: 19825.5000 - val_mae: 19825.5000 - val_mse: 566558080.0000\n",
      "Epoch 54/100\n",
      "17/17 [==============================] - 0s 5ms/step - loss: 3774.5559 - mae: 3774.5559 - mse: 24695084.0000 - val_loss: 20297.3750 - val_mae: 20297.3750 - val_mse: 589195456.0000\n",
      "Epoch 55/100\n",
      "17/17 [==============================] - 0s 5ms/step - loss: 3771.0881 - mae: 3771.0881 - mse: 24771946.0000 - val_loss: 19775.0918 - val_mae: 19775.0918 - val_mse: 564169792.0000\n",
      "Epoch 56/100\n",
      "17/17 [==============================] - 0s 5ms/step - loss: 3769.5229 - mae: 3769.5229 - mse: 24646796.0000 - val_loss: 19794.4375 - val_mae: 19794.4375 - val_mse: 565084160.0000\n",
      "Epoch 57/100\n",
      "17/17 [==============================] - 0s 5ms/step - loss: 3772.8870 - mae: 3772.8870 - mse: 24798074.0000 - val_loss: 21578.9316 - val_mae: 21578.9316 - val_mse: 653340096.0000\n",
      "Epoch 58/100\n",
      "17/17 [==============================] - 0s 5ms/step - loss: 3775.9968 - mae: 3775.9968 - mse: 24860386.0000 - val_loss: 19073.3594 - val_mae: 19073.3594 - val_mse: 531578944.0000\n",
      "Epoch 59/100\n",
      "17/17 [==============================] - 0s 5ms/step - loss: 3773.4688 - mae: 3773.4688 - mse: 24578590.0000 - val_loss: 20928.6992 - val_mae: 20928.6992 - val_mse: 620305600.0000\n",
      "Epoch 60/100\n",
      "17/17 [==============================] - 0s 5ms/step - loss: 3771.1936 - mae: 3771.1936 - mse: 25021400.0000 - val_loss: 19815.9160 - val_mae: 19815.9160 - val_mse: 566098816.0000\n",
      "Epoch 61/100\n",
      "17/17 [==============================] - 0s 5ms/step - loss: 3763.1121 - mae: 3763.1121 - mse: 24663306.0000 - val_loss: 19030.8613 - val_mae: 19030.8613 - val_mse: 529643520.0000\n",
      "Epoch 62/100\n",
      "17/17 [==============================] - 0s 5ms/step - loss: 3768.1123 - mae: 3768.1123 - mse: 24587776.0000 - val_loss: 21793.9863 - val_mae: 21793.9863 - val_mse: 664469760.0000\n",
      "Epoch 63/100\n",
      "17/17 [==============================] - 0s 5ms/step - loss: 3782.8730 - mae: 3782.8730 - mse: 25471722.0000 - val_loss: 19669.8184 - val_mae: 19669.8184 - val_mse: 559199680.0000\n",
      "Epoch 64/100\n",
      "17/17 [==============================] - 0s 5ms/step - loss: 3784.1086 - mae: 3784.1086 - mse: 24576072.0000 - val_loss: 20469.1055 - val_mae: 20469.1055 - val_mse: 597561920.0000\n",
      "Epoch 65/100\n",
      "17/17 [==============================] - 0s 5ms/step - loss: 3765.9836 - mae: 3765.9836 - mse: 24845518.0000 - val_loss: 20699.2969 - val_mae: 20699.2969 - val_mse: 608893248.0000\n",
      "Epoch 66/100\n",
      "17/17 [==============================] - 0s 5ms/step - loss: 3777.7144 - mae: 3777.7144 - mse: 24598252.0000 - val_loss: 20360.1211 - val_mae: 20360.1211 - val_mse: 592244544.0000\n",
      "Epoch 67/100\n",
      "17/17 [==============================] - 0s 5ms/step - loss: 3779.0837 - mae: 3779.0837 - mse: 24888586.0000 - val_loss: 20159.7910 - val_mae: 20159.7910 - val_mse: 582536832.0000\n",
      "Epoch 68/100\n",
      "17/17 [==============================] - 0s 5ms/step - loss: 3777.8438 - mae: 3777.8438 - mse: 24842272.0000 - val_loss: 20879.8711 - val_mae: 20879.8711 - val_mse: 617868672.0000\n",
      "Epoch 69/100\n",
      "17/17 [==============================] - 0s 5ms/step - loss: 3779.1907 - mae: 3779.1907 - mse: 24668098.0000 - val_loss: 20109.4141 - val_mae: 20109.4141 - val_mse: 580108736.0000\n",
      "Epoch 70/100\n",
      "17/17 [==============================] - 0s 5ms/step - loss: 3776.5320 - mae: 3776.5320 - mse: 25126508.0000 - val_loss: 20101.6348 - val_mae: 20101.6348 - val_mse: 579734720.0000\n",
      "Epoch 71/100\n",
      "17/17 [==============================] - 0s 5ms/step - loss: 3779.8916 - mae: 3779.8916 - mse: 24636368.0000 - val_loss: 20168.5078 - val_mae: 20168.5078 - val_mse: 582954944.0000\n",
      "Epoch 72/100\n",
      "17/17 [==============================] - 0s 5ms/step - loss: 3778.9009 - mae: 3778.9009 - mse: 24983522.0000 - val_loss: 21002.2324 - val_mae: 21002.2324 - val_mse: 623997120.0000\n",
      "Epoch 73/100\n",
      "17/17 [==============================] - 0s 5ms/step - loss: 3773.4656 - mae: 3773.4656 - mse: 24728992.0000 - val_loss: 19889.5508 - val_mae: 19889.5508 - val_mse: 569590272.0000\n",
      "Epoch 74/100\n",
      "17/17 [==============================] - 0s 5ms/step - loss: 3775.4365 - mae: 3775.4365 - mse: 24999966.0000 - val_loss: 20199.3555 - val_mae: 20199.3555 - val_mse: 584444032.0000\n",
      "Epoch 75/100\n",
      "17/17 [==============================] - 0s 5ms/step - loss: 3779.7327 - mae: 3779.7327 - mse: 24490924.0000 - val_loss: 19796.3789 - val_mae: 19796.3789 - val_mse: 565167936.0000\n",
      "Epoch 76/100\n",
      "17/17 [==============================] - 0s 5ms/step - loss: 3770.5271 - mae: 3770.5271 - mse: 24964472.0000 - val_loss: 19603.8164 - val_mae: 19603.8164 - val_mse: 556095232.0000\n",
      "Epoch 77/100\n",
      "17/17 [==============================] - 0s 5ms/step - loss: 3787.9304 - mae: 3787.9304 - mse: 24504162.0000 - val_loss: 19700.6113 - val_mae: 19700.6113 - val_mse: 560646976.0000\n",
      "Epoch 78/100\n",
      "17/17 [==============================] - 0s 5ms/step - loss: 3777.5796 - mae: 3777.5796 - mse: 25060042.0000 - val_loss: 21055.5586 - val_mae: 21055.5586 - val_mse: 626684864.0000\n",
      "Epoch 79/100\n",
      "17/17 [==============================] - 0s 5ms/step - loss: 3767.0288 - mae: 3767.0288 - mse: 24620066.0000 - val_loss: 19064.8242 - val_mae: 19064.8242 - val_mse: 531183424.0000\n",
      "Epoch 80/100\n",
      "17/17 [==============================] - 0s 5ms/step - loss: 3771.8787 - mae: 3771.8787 - mse: 24658080.0000 - val_loss: 21327.9785 - val_mae: 21327.9785 - val_mse: 640487168.0000\n",
      "Epoch 81/100\n",
      "17/17 [==============================] - 0s 5ms/step - loss: 3777.5781 - mae: 3777.5781 - mse: 24921430.0000 - val_loss: 20190.1953 - val_mae: 20190.1953 - val_mse: 584004224.0000\n",
      "Epoch 82/100\n",
      "17/17 [==============================] - 0s 5ms/step - loss: 3772.8989 - mae: 3772.8989 - mse: 24948586.0000 - val_loss: 19827.7363 - val_mae: 19827.7363 - val_mse: 566656128.0000\n",
      "Epoch 83/100\n",
      "17/17 [==============================] - 0s 5ms/step - loss: 3777.3240 - mae: 3777.3240 - mse: 24690998.0000 - val_loss: 20257.5996 - val_mae: 20257.5996 - val_mse: 587264448.0000\n",
      "Epoch 84/100\n"
     ]
    },
    {
     "name": "stdout",
     "output_type": "stream",
     "text": [
      "17/17 [==============================] - 0s 5ms/step - loss: 3774.6243 - mae: 3774.6243 - mse: 24734084.0000 - val_loss: 20870.6719 - val_mae: 20870.6719 - val_mse: 617412416.0000\n",
      "Epoch 85/100\n",
      "17/17 [==============================] - 0s 5ms/step - loss: 3766.9968 - mae: 3766.9968 - mse: 24924376.0000 - val_loss: 19606.0293 - val_mae: 19606.0293 - val_mse: 556201216.0000\n",
      "Epoch 86/100\n",
      "17/17 [==============================] - 0s 6ms/step - loss: 3773.1680 - mae: 3773.1680 - mse: 24608784.0000 - val_loss: 20851.3301 - val_mae: 20851.3301 - val_mse: 616448320.0000\n",
      "Epoch 87/100\n",
      "17/17 [==============================] - 0s 6ms/step - loss: 3780.7136 - mae: 3780.7136 - mse: 25077718.0000 - val_loss: 19943.8926 - val_mae: 19943.8926 - val_mse: 572182464.0000\n",
      "Epoch 88/100\n",
      "17/17 [==============================] - 0s 5ms/step - loss: 3777.0591 - mae: 3777.0591 - mse: 24796542.0000 - val_loss: 20519.7930 - val_mae: 20519.7930 - val_mse: 600051456.0000\n",
      "Epoch 89/100\n",
      "17/17 [==============================] - 0s 5ms/step - loss: 3769.4539 - mae: 3769.4539 - mse: 24945096.0000 - val_loss: 20149.2676 - val_mae: 20149.2676 - val_mse: 582031104.0000\n",
      "Epoch 90/100\n",
      "17/17 [==============================] - 0s 5ms/step - loss: 3771.4927 - mae: 3771.4927 - mse: 24558968.0000 - val_loss: 20151.6504 - val_mae: 20151.6504 - val_mse: 582144704.0000\n",
      "Epoch 91/100\n",
      "17/17 [==============================] - 0s 7ms/step - loss: 3771.3154 - mae: 3771.3154 - mse: 24913368.0000 - val_loss: 19960.4570 - val_mae: 19960.4570 - val_mse: 572971520.0000\n",
      "Epoch 92/100\n",
      "17/17 [==============================] - 0s 5ms/step - loss: 3763.1917 - mae: 3763.1917 - mse: 24626624.0000 - val_loss: 19490.7109 - val_mae: 19490.7109 - val_mse: 550808512.0000\n",
      "Epoch 93/100\n",
      "17/17 [==============================] - 0s 5ms/step - loss: 3775.4219 - mae: 3775.4219 - mse: 24936678.0000 - val_loss: 20809.4648 - val_mae: 20809.4648 - val_mse: 614364992.0000\n",
      "Epoch 94/100\n",
      "17/17 [==============================] - 0s 5ms/step - loss: 3786.3118 - mae: 3786.3118 - mse: 24707550.0000 - val_loss: 20871.1973 - val_mae: 20871.1973 - val_mse: 617442560.0000\n",
      "Epoch 95/100\n",
      "17/17 [==============================] - 0s 5ms/step - loss: 3777.6370 - mae: 3777.6370 - mse: 25113110.0000 - val_loss: 19835.0469 - val_mae: 19835.0469 - val_mse: 566996032.0000\n",
      "Epoch 96/100\n",
      "17/17 [==============================] - 0s 5ms/step - loss: 3771.2334 - mae: 3771.2334 - mse: 24480172.0000 - val_loss: 19737.5254 - val_mae: 19737.5254 - val_mse: 562381568.0000\n",
      "Epoch 97/100\n",
      "17/17 [==============================] - 0s 5ms/step - loss: 3773.9314 - mae: 3773.9314 - mse: 24872100.0000 - val_loss: 20605.4473 - val_mae: 20605.4473 - val_mse: 604266880.0000\n",
      "Epoch 98/100\n",
      "17/17 [==============================] - 0s 5ms/step - loss: 3756.7605 - mae: 3756.7605 - mse: 24642532.0000 - val_loss: 19453.1504 - val_mae: 19453.1504 - val_mse: 549055936.0000\n",
      "Epoch 99/100\n",
      "17/17 [==============================] - 0s 6ms/step - loss: 3780.7927 - mae: 3780.7927 - mse: 24685892.0000 - val_loss: 20335.4824 - val_mae: 20335.4824 - val_mse: 591046144.0000\n",
      "Epoch 100/100\n",
      "17/17 [==============================] - 0s 5ms/step - loss: 3771.2900 - mae: 3771.2900 - mse: 24979142.0000 - val_loss: 19820.2754 - val_mae: 19820.2754 - val_mse: 566300032.0000\n"
     ]
    }
   ],
   "source": [
    "# building model\n",
    "# data should be in the form [batch_size, time_steps, ndims]\n",
    "model4 = tf.keras.Sequential([\n",
    "    tf.keras.layers.Lambda(lambda x : tf.expand_dims(x,axis=1)),\n",
    "    tf.keras.layers.Conv1D(128, kernel_size = 5, padding = \"causal\", activation = \"relu\"),\n",
    "    tf.keras.layers.Dense(1) #changing the default activation function\n",
    "],name = \"model4\")\n",
    "model4.compile(loss = \"mae\", optimizer = tf.keras.optimizers.Adam(), metrics = [\"mae\",\"mse\"])\n",
    "history4 = model4.fit(train_win,\n",
    "                      train_hor,\n",
    "                      batch_size = 128,\n",
    "                      epochs = 100,\n",
    "                      validation_data = (test_win,test_hor),\n",
    "                      callbacks = [create_model_checkpoint(\"model4.ckpt\")])"
   ]
  },
  {
   "cell_type": "markdown",
   "metadata": {},
   "source": [
    "# EVALUATING MODEL4"
   ]
  },
  {
   "cell_type": "code",
   "execution_count": 48,
   "metadata": {},
   "outputs": [],
   "source": [
    "model4 = tf.keras.models.load_model(\"model4.ckpt\")"
   ]
  },
  {
   "cell_type": "code",
   "execution_count": 49,
   "metadata": {},
   "outputs": [
    {
     "name": "stdout",
     "output_type": "stream",
     "text": [
      "17/17 [==============================] - 0s 2ms/step - loss: 18642.4316 - mae: 18642.4316 - mse: 448359840.0000\n"
     ]
    },
    {
     "data": {
      "text/plain": [
       "[18642.431640625, 18642.431640625, 448359840.0]"
      ]
     },
     "execution_count": 49,
     "metadata": {},
     "output_type": "execute_result"
    }
   ],
   "source": [
    "model4.evaluate(test_win,test_hor)"
   ]
  },
  {
   "cell_type": "code",
   "execution_count": 50,
   "metadata": {},
   "outputs": [
    {
     "data": {
      "text/plain": [
       "{'MEAN ABSOLUTE ERROR': 18642.43,\n",
       " 'MEAN SQUARED ERROR': 439573340.0,\n",
       " 'ROOT MEAN SQUARED ERROR': 20966.004,\n",
       " 'MEAN ABSOLUTE PERCENTAGE ERROR': 52.35763}"
      ]
     },
     "execution_count": 50,
     "metadata": {},
     "output_type": "execute_result"
    }
   ],
   "source": [
    "pred4 = tf.squeeze(model4.predict(test_win)).numpy()\n",
    "model4_report = model_report(test_hor,pred4)\n",
    "model4_report"
   ]
  },
  {
   "cell_type": "markdown",
   "metadata": {},
   "source": [
    "# PLOTTING THE PREDICTIONS OF MODEL4"
   ]
  },
  {
   "cell_type": "code",
   "execution_count": 51,
   "metadata": {},
   "outputs": [
    {
     "data": {
      "image/png": "[encoded data removed]",
      "text/plain": [
       "<Figure size 720x504 with 1 Axes>"
      ]
     },
     "metadata": {
      "needs_background": "light"
     },
     "output_type": "display_data"
    }
   ],
   "source": [
    "plt.figure(figsize=(10,7))\n",
    "plot_timeseries(timesteps[-int(len(test_win)):],test_hor,label=\"TEST DATA\")\n",
    "plot_timeseries(timesteps[-int(len(test_win)):],pred4,format='-',label=\"PREDICTIONS\")"
   ]
  },
  {
   "cell_type": "markdown",
   "metadata": {},
   "source": [
    "# MODEL5"
   ]
  },
  {
   "cell_type": "code",
   "execution_count": 52,
   "metadata": {},
   "outputs": [
    {
     "name": "stdout",
     "output_type": "stream",
     "text": [
      "WARNING:tensorflow:Layer lstm will not use cuDNN kernels since it doesn't meet the criteria. It will use a generic GPU kernel as fallback when running on GPU.\n",
      "INFO:tensorflow:Assets written to: model5.ckpt\\assets\n"
     ]
    },
    {
     "name": "stderr",
     "output_type": "stream",
     "text": [
      "WARNING:absl:<keras.layers.recurrent.LSTMCell object at 0x000001BE16CBE7C0> has the same name 'LSTMCell' as a built-in Keras object. Consider renaming <class 'keras.layers.recurrent.LSTMCell'> to avoid naming conflicts when loading with `tf.keras.models.load_model`. If renaming is not possible, pass the object in the `custom_objects` parameter of the load function.\n"
     ]
    },
    {
     "name": "stdout",
     "output_type": "stream",
     "text": [
      "INFO:tensorflow:Assets written to: model5.ckpt\\assets\n"
     ]
    },
    {
     "name": "stderr",
     "output_type": "stream",
     "text": [
      "INFO:tensorflow:Assets written to: model5.ckpt\\assets\n",
      "WARNING:absl:<keras.layers.recurrent.LSTMCell object at 0x000001BE16CBE7C0> has the same name 'LSTMCell' as a built-in Keras object. Consider renaming <class 'keras.layers.recurrent.LSTMCell'> to avoid naming conflicts when loading with `tf.keras.models.load_model`. If renaming is not possible, pass the object in the `custom_objects` parameter of the load function.\n"
     ]
    },
    {
     "name": "stdout",
     "output_type": "stream",
     "text": [
      "INFO:tensorflow:Assets written to: model5.ckpt\\assets\n"
     ]
    },
    {
     "name": "stderr",
     "output_type": "stream",
     "text": [
      "INFO:tensorflow:Assets written to: model5.ckpt\\assets\n",
      "WARNING:absl:<keras.layers.recurrent.LSTMCell object at 0x000001BE16CBE7C0> has the same name 'LSTMCell' as a built-in Keras object. Consider renaming <class 'keras.layers.recurrent.LSTMCell'> to avoid naming conflicts when loading with `tf.keras.models.load_model`. If renaming is not possible, pass the object in the `custom_objects` parameter of the load function.\n"
     ]
    },
    {
     "name": "stdout",
     "output_type": "stream",
     "text": [
      "INFO:tensorflow:Assets written to: model5.ckpt\\assets\n"
     ]
    },
    {
     "name": "stderr",
     "output_type": "stream",
     "text": [
      "INFO:tensorflow:Assets written to: model5.ckpt\\assets\n",
      "WARNING:absl:<keras.layers.recurrent.LSTMCell object at 0x000001BE16CBE7C0> has the same name 'LSTMCell' as a built-in Keras object. Consider renaming <class 'keras.layers.recurrent.LSTMCell'> to avoid naming conflicts when loading with `tf.keras.models.load_model`. If renaming is not possible, pass the object in the `custom_objects` parameter of the load function.\n"
     ]
    },
    {
     "name": "stdout",
     "output_type": "stream",
     "text": [
      "INFO:tensorflow:Assets written to: model5.ckpt\\assets\n"
     ]
    },
    {
     "name": "stderr",
     "output_type": "stream",
     "text": [
      "INFO:tensorflow:Assets written to: model5.ckpt\\assets\n",
      "WARNING:absl:<keras.layers.recurrent.LSTMCell object at 0x000001BE16CBE7C0> has the same name 'LSTMCell' as a built-in Keras object. Consider renaming <class 'keras.layers.recurrent.LSTMCell'> to avoid naming conflicts when loading with `tf.keras.models.load_model`. If renaming is not possible, pass the object in the `custom_objects` parameter of the load function.\n"
     ]
    },
    {
     "name": "stdout",
     "output_type": "stream",
     "text": [
      "INFO:tensorflow:Assets written to: model5.ckpt\\assets\n"
     ]
    },
    {
     "name": "stderr",
     "output_type": "stream",
     "text": [
      "INFO:tensorflow:Assets written to: model5.ckpt\\assets\n",
      "WARNING:absl:<keras.layers.recurrent.LSTMCell object at 0x000001BE16CBE7C0> has the same name 'LSTMCell' as a built-in Keras object. Consider renaming <class 'keras.layers.recurrent.LSTMCell'> to avoid naming conflicts when loading with `tf.keras.models.load_model`. If renaming is not possible, pass the object in the `custom_objects` parameter of the load function.\n"
     ]
    },
    {
     "name": "stdout",
     "output_type": "stream",
     "text": [
      "INFO:tensorflow:Assets written to: model5.ckpt\\assets\n"
     ]
    },
    {
     "name": "stderr",
     "output_type": "stream",
     "text": [
      "INFO:tensorflow:Assets written to: model5.ckpt\\assets\n",
      "WARNING:absl:<keras.layers.recurrent.LSTMCell object at 0x000001BE16CBE7C0> has the same name 'LSTMCell' as a built-in Keras object. Consider renaming <class 'keras.layers.recurrent.LSTMCell'> to avoid naming conflicts when loading with `tf.keras.models.load_model`. If renaming is not possible, pass the object in the `custom_objects` parameter of the load function.\n"
     ]
    },
    {
     "name": "stdout",
     "output_type": "stream",
     "text": [
      "INFO:tensorflow:Assets written to: model5.ckpt\\assets\n"
     ]
    },
    {
     "name": "stderr",
     "output_type": "stream",
     "text": [
      "INFO:tensorflow:Assets written to: model5.ckpt\\assets\n",
      "WARNING:absl:<keras.layers.recurrent.LSTMCell object at 0x000001BE16CBE7C0> has the same name 'LSTMCell' as a built-in Keras object. Consider renaming <class 'keras.layers.recurrent.LSTMCell'> to avoid naming conflicts when loading with `tf.keras.models.load_model`. If renaming is not possible, pass the object in the `custom_objects` parameter of the load function.\n"
     ]
    },
    {
     "name": "stdout",
     "output_type": "stream",
     "text": [
      "INFO:tensorflow:Assets written to: model5.ckpt\\assets\n"
     ]
    },
    {
     "name": "stderr",
     "output_type": "stream",
     "text": [
      "INFO:tensorflow:Assets written to: model5.ckpt\\assets\n",
      "WARNING:absl:<keras.layers.recurrent.LSTMCell object at 0x000001BE16CBE7C0> has the same name 'LSTMCell' as a built-in Keras object. Consider renaming <class 'keras.layers.recurrent.LSTMCell'> to avoid naming conflicts when loading with `tf.keras.models.load_model`. If renaming is not possible, pass the object in the `custom_objects` parameter of the load function.\n"
     ]
    },
    {
     "name": "stdout",
     "output_type": "stream",
     "text": [
      "INFO:tensorflow:Assets written to: model5.ckpt\\assets\n"
     ]
    },
    {
     "name": "stderr",
     "output_type": "stream",
     "text": [
      "INFO:tensorflow:Assets written to: model5.ckpt\\assets\n",
      "WARNING:absl:<keras.layers.recurrent.LSTMCell object at 0x000001BE16CBE7C0> has the same name 'LSTMCell' as a built-in Keras object. Consider renaming <class 'keras.layers.recurrent.LSTMCell'> to avoid naming conflicts when loading with `tf.keras.models.load_model`. If renaming is not possible, pass the object in the `custom_objects` parameter of the load function.\n"
     ]
    },
    {
     "name": "stdout",
     "output_type": "stream",
     "text": [
      "INFO:tensorflow:Assets written to: model5.ckpt\\assets\n"
     ]
    },
    {
     "name": "stderr",
     "output_type": "stream",
     "text": [
      "INFO:tensorflow:Assets written to: model5.ckpt\\assets\n",
      "WARNING:absl:<keras.layers.recurrent.LSTMCell object at 0x000001BE16CBE7C0> has the same name 'LSTMCell' as a built-in Keras object. Consider renaming <class 'keras.layers.recurrent.LSTMCell'> to avoid naming conflicts when loading with `tf.keras.models.load_model`. If renaming is not possible, pass the object in the `custom_objects` parameter of the load function.\n"
     ]
    },
    {
     "name": "stdout",
     "output_type": "stream",
     "text": [
      "INFO:tensorflow:Assets written to: model5.ckpt\\assets\n"
     ]
    },
    {
     "name": "stderr",
     "output_type": "stream",
     "text": [
      "INFO:tensorflow:Assets written to: model5.ckpt\\assets\n",
      "WARNING:absl:<keras.layers.recurrent.LSTMCell object at 0x000001BE16CBE7C0> has the same name 'LSTMCell' as a built-in Keras object. Consider renaming <class 'keras.layers.recurrent.LSTMCell'> to avoid naming conflicts when loading with `tf.keras.models.load_model`. If renaming is not possible, pass the object in the `custom_objects` parameter of the load function.\n"
     ]
    },
    {
     "name": "stdout",
     "output_type": "stream",
     "text": [
      "INFO:tensorflow:Assets written to: model5.ckpt\\assets\n"
     ]
    },
    {
     "name": "stderr",
     "output_type": "stream",
     "text": [
      "INFO:tensorflow:Assets written to: model5.ckpt\\assets\n",
      "WARNING:absl:<keras.layers.recurrent.LSTMCell object at 0x000001BE16CBE7C0> has the same name 'LSTMCell' as a built-in Keras object. Consider renaming <class 'keras.layers.recurrent.LSTMCell'> to avoid naming conflicts when loading with `tf.keras.models.load_model`. If renaming is not possible, pass the object in the `custom_objects` parameter of the load function.\n"
     ]
    },
    {
     "name": "stdout",
     "output_type": "stream",
     "text": [
      "INFO:tensorflow:Assets written to: model5.ckpt\\assets\n"
     ]
    },
    {
     "name": "stderr",
     "output_type": "stream",
     "text": [
      "INFO:tensorflow:Assets written to: model5.ckpt\\assets\n",
      "WARNING:absl:<keras.layers.recurrent.LSTMCell object at 0x000001BE16CBE7C0> has the same name 'LSTMCell' as a built-in Keras object. Consider renaming <class 'keras.layers.recurrent.LSTMCell'> to avoid naming conflicts when loading with `tf.keras.models.load_model`. If renaming is not possible, pass the object in the `custom_objects` parameter of the load function.\n"
     ]
    },
    {
     "name": "stdout",
     "output_type": "stream",
     "text": [
      "INFO:tensorflow:Assets written to: model5.ckpt\\assets\n"
     ]
    },
    {
     "name": "stderr",
     "output_type": "stream",
     "text": [
      "INFO:tensorflow:Assets written to: model5.ckpt\\assets\n",
      "WARNING:absl:<keras.layers.recurrent.LSTMCell object at 0x000001BE16CBE7C0> has the same name 'LSTMCell' as a built-in Keras object. Consider renaming <class 'keras.layers.recurrent.LSTMCell'> to avoid naming conflicts when loading with `tf.keras.models.load_model`. If renaming is not possible, pass the object in the `custom_objects` parameter of the load function.\n"
     ]
    },
    {
     "name": "stdout",
     "output_type": "stream",
     "text": [
      "INFO:tensorflow:Assets written to: model5.ckpt\\assets\n"
     ]
    },
    {
     "name": "stderr",
     "output_type": "stream",
     "text": [
      "INFO:tensorflow:Assets written to: model5.ckpt\\assets\n",
      "WARNING:absl:<keras.layers.recurrent.LSTMCell object at 0x000001BE16CBE7C0> has the same name 'LSTMCell' as a built-in Keras object. Consider renaming <class 'keras.layers.recurrent.LSTMCell'> to avoid naming conflicts when loading with `tf.keras.models.load_model`. If renaming is not possible, pass the object in the `custom_objects` parameter of the load function.\n"
     ]
    },
    {
     "name": "stdout",
     "output_type": "stream",
     "text": [
      "INFO:tensorflow:Assets written to: model5.ckpt\\assets\n"
     ]
    },
    {
     "name": "stderr",
     "output_type": "stream",
     "text": [
      "INFO:tensorflow:Assets written to: model5.ckpt\\assets\n",
      "WARNING:absl:<keras.layers.recurrent.LSTMCell object at 0x000001BE16CBE7C0> has the same name 'LSTMCell' as a built-in Keras object. Consider renaming <class 'keras.layers.recurrent.LSTMCell'> to avoid naming conflicts when loading with `tf.keras.models.load_model`. If renaming is not possible, pass the object in the `custom_objects` parameter of the load function.\n"
     ]
    },
    {
     "name": "stdout",
     "output_type": "stream",
     "text": [
      "INFO:tensorflow:Assets written to: model5.ckpt\\assets\n"
     ]
    },
    {
     "name": "stderr",
     "output_type": "stream",
     "text": [
      "INFO:tensorflow:Assets written to: model5.ckpt\\assets\n",
      "WARNING:absl:<keras.layers.recurrent.LSTMCell object at 0x000001BE16CBE7C0> has the same name 'LSTMCell' as a built-in Keras object. Consider renaming <class 'keras.layers.recurrent.LSTMCell'> to avoid naming conflicts when loading with `tf.keras.models.load_model`. If renaming is not possible, pass the object in the `custom_objects` parameter of the load function.\n"
     ]
    },
    {
     "name": "stdout",
     "output_type": "stream",
     "text": [
      "INFO:tensorflow:Assets written to: model5.ckpt\\assets\n"
     ]
    },
    {
     "name": "stderr",
     "output_type": "stream",
     "text": [
      "INFO:tensorflow:Assets written to: model5.ckpt\\assets\n",
      "WARNING:absl:<keras.layers.recurrent.LSTMCell object at 0x000001BE16CBE7C0> has the same name 'LSTMCell' as a built-in Keras object. Consider renaming <class 'keras.layers.recurrent.LSTMCell'> to avoid naming conflicts when loading with `tf.keras.models.load_model`. If renaming is not possible, pass the object in the `custom_objects` parameter of the load function.\n"
     ]
    },
    {
     "name": "stdout",
     "output_type": "stream",
     "text": [
      "INFO:tensorflow:Assets written to: model5.ckpt\\assets\n"
     ]
    },
    {
     "name": "stderr",
     "output_type": "stream",
     "text": [
      "INFO:tensorflow:Assets written to: model5.ckpt\\assets\n",
      "WARNING:absl:<keras.layers.recurrent.LSTMCell object at 0x000001BE16CBE7C0> has the same name 'LSTMCell' as a built-in Keras object. Consider renaming <class 'keras.layers.recurrent.LSTMCell'> to avoid naming conflicts when loading with `tf.keras.models.load_model`. If renaming is not possible, pass the object in the `custom_objects` parameter of the load function.\n"
     ]
    },
    {
     "name": "stdout",
     "output_type": "stream",
     "text": [
      "INFO:tensorflow:Assets written to: model5.ckpt\\assets\n"
     ]
    },
    {
     "name": "stderr",
     "output_type": "stream",
     "text": [
      "INFO:tensorflow:Assets written to: model5.ckpt\\assets\n",
      "WARNING:absl:<keras.layers.recurrent.LSTMCell object at 0x000001BE16CBE7C0> has the same name 'LSTMCell' as a built-in Keras object. Consider renaming <class 'keras.layers.recurrent.LSTMCell'> to avoid naming conflicts when loading with `tf.keras.models.load_model`. If renaming is not possible, pass the object in the `custom_objects` parameter of the load function.\n"
     ]
    },
    {
     "name": "stdout",
     "output_type": "stream",
     "text": [
      "INFO:tensorflow:Assets written to: model5.ckpt\\assets\n"
     ]
    },
    {
     "name": "stderr",
     "output_type": "stream",
     "text": [
      "INFO:tensorflow:Assets written to: model5.ckpt\\assets\n",
      "WARNING:absl:<keras.layers.recurrent.LSTMCell object at 0x000001BE16CBE7C0> has the same name 'LSTMCell' as a built-in Keras object. Consider renaming <class 'keras.layers.recurrent.LSTMCell'> to avoid naming conflicts when loading with `tf.keras.models.load_model`. If renaming is not possible, pass the object in the `custom_objects` parameter of the load function.\n"
     ]
    },
    {
     "name": "stdout",
     "output_type": "stream",
     "text": [
      "INFO:tensorflow:Assets written to: model5.ckpt\\assets\n"
     ]
    },
    {
     "name": "stderr",
     "output_type": "stream",
     "text": [
      "INFO:tensorflow:Assets written to: model5.ckpt\\assets\n",
      "WARNING:absl:<keras.layers.recurrent.LSTMCell object at 0x000001BE16CBE7C0> has the same name 'LSTMCell' as a built-in Keras object. Consider renaming <class 'keras.layers.recurrent.LSTMCell'> to avoid naming conflicts when loading with `tf.keras.models.load_model`. If renaming is not possible, pass the object in the `custom_objects` parameter of the load function.\n"
     ]
    },
    {
     "name": "stdout",
     "output_type": "stream",
     "text": [
      "INFO:tensorflow:Assets written to: model5.ckpt\\assets\n"
     ]
    },
    {
     "name": "stderr",
     "output_type": "stream",
     "text": [
      "INFO:tensorflow:Assets written to: model5.ckpt\\assets\n",
      "WARNING:absl:<keras.layers.recurrent.LSTMCell object at 0x000001BE16CBE7C0> has the same name 'LSTMCell' as a built-in Keras object. Consider renaming <class 'keras.layers.recurrent.LSTMCell'> to avoid naming conflicts when loading with `tf.keras.models.load_model`. If renaming is not possible, pass the object in the `custom_objects` parameter of the load function.\n"
     ]
    },
    {
     "name": "stdout",
     "output_type": "stream",
     "text": [
      "INFO:tensorflow:Assets written to: model5.ckpt\\assets\n"
     ]
    },
    {
     "name": "stderr",
     "output_type": "stream",
     "text": [
      "INFO:tensorflow:Assets written to: model5.ckpt\\assets\n",
      "WARNING:absl:<keras.layers.recurrent.LSTMCell object at 0x000001BE16CBE7C0> has the same name 'LSTMCell' as a built-in Keras object. Consider renaming <class 'keras.layers.recurrent.LSTMCell'> to avoid naming conflicts when loading with `tf.keras.models.load_model`. If renaming is not possible, pass the object in the `custom_objects` parameter of the load function.\n"
     ]
    },
    {
     "name": "stdout",
     "output_type": "stream",
     "text": [
      "INFO:tensorflow:Assets written to: model5.ckpt\\assets\n"
     ]
    },
    {
     "name": "stderr",
     "output_type": "stream",
     "text": [
      "INFO:tensorflow:Assets written to: model5.ckpt\\assets\n",
      "WARNING:absl:<keras.layers.recurrent.LSTMCell object at 0x000001BE16CBE7C0> has the same name 'LSTMCell' as a built-in Keras object. Consider renaming <class 'keras.layers.recurrent.LSTMCell'> to avoid naming conflicts when loading with `tf.keras.models.load_model`. If renaming is not possible, pass the object in the `custom_objects` parameter of the load function.\n"
     ]
    },
    {
     "name": "stdout",
     "output_type": "stream",
     "text": [
      "INFO:tensorflow:Assets written to: model5.ckpt\\assets\n"
     ]
    },
    {
     "name": "stderr",
     "output_type": "stream",
     "text": [
      "INFO:tensorflow:Assets written to: model5.ckpt\\assets\n",
      "WARNING:absl:<keras.layers.recurrent.LSTMCell object at 0x000001BE16CBE7C0> has the same name 'LSTMCell' as a built-in Keras object. Consider renaming <class 'keras.layers.recurrent.LSTMCell'> to avoid naming conflicts when loading with `tf.keras.models.load_model`. If renaming is not possible, pass the object in the `custom_objects` parameter of the load function.\n"
     ]
    },
    {
     "name": "stdout",
     "output_type": "stream",
     "text": [
      "INFO:tensorflow:Assets written to: model5.ckpt\\assets\n"
     ]
    },
    {
     "name": "stderr",
     "output_type": "stream",
     "text": [
      "INFO:tensorflow:Assets written to: model5.ckpt\\assets\n",
      "WARNING:absl:<keras.layers.recurrent.LSTMCell object at 0x000001BE16CBE7C0> has the same name 'LSTMCell' as a built-in Keras object. Consider renaming <class 'keras.layers.recurrent.LSTMCell'> to avoid naming conflicts when loading with `tf.keras.models.load_model`. If renaming is not possible, pass the object in the `custom_objects` parameter of the load function.\n"
     ]
    },
    {
     "name": "stdout",
     "output_type": "stream",
     "text": [
      "INFO:tensorflow:Assets written to: model5.ckpt\\assets\n"
     ]
    },
    {
     "name": "stderr",
     "output_type": "stream",
     "text": [
      "INFO:tensorflow:Assets written to: model5.ckpt\\assets\n",
      "WARNING:absl:<keras.layers.recurrent.LSTMCell object at 0x000001BE16CBE7C0> has the same name 'LSTMCell' as a built-in Keras object. Consider renaming <class 'keras.layers.recurrent.LSTMCell'> to avoid naming conflicts when loading with `tf.keras.models.load_model`. If renaming is not possible, pass the object in the `custom_objects` parameter of the load function.\n"
     ]
    },
    {
     "name": "stdout",
     "output_type": "stream",
     "text": [
      "INFO:tensorflow:Assets written to: model5.ckpt\\assets\n"
     ]
    },
    {
     "name": "stderr",
     "output_type": "stream",
     "text": [
      "INFO:tensorflow:Assets written to: model5.ckpt\\assets\n",
      "WARNING:absl:<keras.layers.recurrent.LSTMCell object at 0x000001BE16CBE7C0> has the same name 'LSTMCell' as a built-in Keras object. Consider renaming <class 'keras.layers.recurrent.LSTMCell'> to avoid naming conflicts when loading with `tf.keras.models.load_model`. If renaming is not possible, pass the object in the `custom_objects` parameter of the load function.\n"
     ]
    },
    {
     "name": "stdout",
     "output_type": "stream",
     "text": [
      "INFO:tensorflow:Assets written to: model5.ckpt\\assets\n"
     ]
    },
    {
     "name": "stderr",
     "output_type": "stream",
     "text": [
      "INFO:tensorflow:Assets written to: model5.ckpt\\assets\n",
      "WARNING:absl:<keras.layers.recurrent.LSTMCell object at 0x000001BE16CBE7C0> has the same name 'LSTMCell' as a built-in Keras object. Consider renaming <class 'keras.layers.recurrent.LSTMCell'> to avoid naming conflicts when loading with `tf.keras.models.load_model`. If renaming is not possible, pass the object in the `custom_objects` parameter of the load function.\n"
     ]
    },
    {
     "name": "stdout",
     "output_type": "stream",
     "text": [
      "INFO:tensorflow:Assets written to: model5.ckpt\\assets\n"
     ]
    },
    {
     "name": "stderr",
     "output_type": "stream",
     "text": [
      "INFO:tensorflow:Assets written to: model5.ckpt\\assets\n",
      "WARNING:absl:<keras.layers.recurrent.LSTMCell object at 0x000001BE16CBE7C0> has the same name 'LSTMCell' as a built-in Keras object. Consider renaming <class 'keras.layers.recurrent.LSTMCell'> to avoid naming conflicts when loading with `tf.keras.models.load_model`. If renaming is not possible, pass the object in the `custom_objects` parameter of the load function.\n"
     ]
    },
    {
     "name": "stdout",
     "output_type": "stream",
     "text": [
      "INFO:tensorflow:Assets written to: model5.ckpt\\assets\n"
     ]
    },
    {
     "name": "stderr",
     "output_type": "stream",
     "text": [
      "INFO:tensorflow:Assets written to: model5.ckpt\\assets\n",
      "WARNING:absl:<keras.layers.recurrent.LSTMCell object at 0x000001BE16CBE7C0> has the same name 'LSTMCell' as a built-in Keras object. Consider renaming <class 'keras.layers.recurrent.LSTMCell'> to avoid naming conflicts when loading with `tf.keras.models.load_model`. If renaming is not possible, pass the object in the `custom_objects` parameter of the load function.\n"
     ]
    },
    {
     "name": "stdout",
     "output_type": "stream",
     "text": [
      "INFO:tensorflow:Assets written to: model5.ckpt\\assets\n"
     ]
    },
    {
     "name": "stderr",
     "output_type": "stream",
     "text": [
      "INFO:tensorflow:Assets written to: model5.ckpt\\assets\n",
      "WARNING:absl:<keras.layers.recurrent.LSTMCell object at 0x000001BE16CBE7C0> has the same name 'LSTMCell' as a built-in Keras object. Consider renaming <class 'keras.layers.recurrent.LSTMCell'> to avoid naming conflicts when loading with `tf.keras.models.load_model`. If renaming is not possible, pass the object in the `custom_objects` parameter of the load function.\n"
     ]
    },
    {
     "name": "stdout",
     "output_type": "stream",
     "text": [
      "INFO:tensorflow:Assets written to: model5.ckpt\\assets\n"
     ]
    },
    {
     "name": "stderr",
     "output_type": "stream",
     "text": [
      "INFO:tensorflow:Assets written to: model5.ckpt\\assets\n",
      "WARNING:absl:<keras.layers.recurrent.LSTMCell object at 0x000001BE16CBE7C0> has the same name 'LSTMCell' as a built-in Keras object. Consider renaming <class 'keras.layers.recurrent.LSTMCell'> to avoid naming conflicts when loading with `tf.keras.models.load_model`. If renaming is not possible, pass the object in the `custom_objects` parameter of the load function.\n"
     ]
    },
    {
     "name": "stdout",
     "output_type": "stream",
     "text": [
      "INFO:tensorflow:Assets written to: model5.ckpt\\assets\n"
     ]
    },
    {
     "name": "stderr",
     "output_type": "stream",
     "text": [
      "INFO:tensorflow:Assets written to: model5.ckpt\\assets\n",
      "WARNING:absl:<keras.layers.recurrent.LSTMCell object at 0x000001BE16CBE7C0> has the same name 'LSTMCell' as a built-in Keras object. Consider renaming <class 'keras.layers.recurrent.LSTMCell'> to avoid naming conflicts when loading with `tf.keras.models.load_model`. If renaming is not possible, pass the object in the `custom_objects` parameter of the load function.\n"
     ]
    },
    {
     "name": "stdout",
     "output_type": "stream",
     "text": [
      "INFO:tensorflow:Assets written to: model5.ckpt\\assets\n"
     ]
    },
    {
     "name": "stderr",
     "output_type": "stream",
     "text": [
      "INFO:tensorflow:Assets written to: model5.ckpt\\assets\n",
      "WARNING:absl:<keras.layers.recurrent.LSTMCell object at 0x000001BE16CBE7C0> has the same name 'LSTMCell' as a built-in Keras object. Consider renaming <class 'keras.layers.recurrent.LSTMCell'> to avoid naming conflicts when loading with `tf.keras.models.load_model`. If renaming is not possible, pass the object in the `custom_objects` parameter of the load function.\n"
     ]
    },
    {
     "name": "stdout",
     "output_type": "stream",
     "text": [
      "INFO:tensorflow:Assets written to: model5.ckpt\\assets\n"
     ]
    },
    {
     "name": "stderr",
     "output_type": "stream",
     "text": [
      "INFO:tensorflow:Assets written to: model5.ckpt\\assets\n",
      "WARNING:absl:<keras.layers.recurrent.LSTMCell object at 0x000001BE16CBE7C0> has the same name 'LSTMCell' as a built-in Keras object. Consider renaming <class 'keras.layers.recurrent.LSTMCell'> to avoid naming conflicts when loading with `tf.keras.models.load_model`. If renaming is not possible, pass the object in the `custom_objects` parameter of the load function.\n"
     ]
    },
    {
     "name": "stdout",
     "output_type": "stream",
     "text": [
      "INFO:tensorflow:Assets written to: model5.ckpt\\assets\n"
     ]
    },
    {
     "name": "stderr",
     "output_type": "stream",
     "text": [
      "INFO:tensorflow:Assets written to: model5.ckpt\\assets\n",
      "WARNING:absl:<keras.layers.recurrent.LSTMCell object at 0x000001BE16CBE7C0> has the same name 'LSTMCell' as a built-in Keras object. Consider renaming <class 'keras.layers.recurrent.LSTMCell'> to avoid naming conflicts when loading with `tf.keras.models.load_model`. If renaming is not possible, pass the object in the `custom_objects` parameter of the load function.\n"
     ]
    },
    {
     "name": "stdout",
     "output_type": "stream",
     "text": [
      "INFO:tensorflow:Assets written to: model5.ckpt\\assets\n"
     ]
    },
    {
     "name": "stderr",
     "output_type": "stream",
     "text": [
      "INFO:tensorflow:Assets written to: model5.ckpt\\assets\n",
      "WARNING:absl:<keras.layers.recurrent.LSTMCell object at 0x000001BE16CBE7C0> has the same name 'LSTMCell' as a built-in Keras object. Consider renaming <class 'keras.layers.recurrent.LSTMCell'> to avoid naming conflicts when loading with `tf.keras.models.load_model`. If renaming is not possible, pass the object in the `custom_objects` parameter of the load function.\n"
     ]
    },
    {
     "name": "stdout",
     "output_type": "stream",
     "text": [
      "INFO:tensorflow:Assets written to: model5.ckpt\\assets\n"
     ]
    },
    {
     "name": "stderr",
     "output_type": "stream",
     "text": [
      "INFO:tensorflow:Assets written to: model5.ckpt\\assets\n",
      "WARNING:absl:<keras.layers.recurrent.LSTMCell object at 0x000001BE16CBE7C0> has the same name 'LSTMCell' as a built-in Keras object. Consider renaming <class 'keras.layers.recurrent.LSTMCell'> to avoid naming conflicts when loading with `tf.keras.models.load_model`. If renaming is not possible, pass the object in the `custom_objects` parameter of the load function.\n"
     ]
    },
    {
     "name": "stdout",
     "output_type": "stream",
     "text": [
      "INFO:tensorflow:Assets written to: model5.ckpt\\assets\n"
     ]
    },
    {
     "name": "stderr",
     "output_type": "stream",
     "text": [
      "INFO:tensorflow:Assets written to: model5.ckpt\\assets\n",
      "WARNING:absl:<keras.layers.recurrent.LSTMCell object at 0x000001BE16CBE7C0> has the same name 'LSTMCell' as a built-in Keras object. Consider renaming <class 'keras.layers.recurrent.LSTMCell'> to avoid naming conflicts when loading with `tf.keras.models.load_model`. If renaming is not possible, pass the object in the `custom_objects` parameter of the load function.\n"
     ]
    },
    {
     "name": "stdout",
     "output_type": "stream",
     "text": [
      "INFO:tensorflow:Assets written to: model5.ckpt\\assets\n"
     ]
    },
    {
     "name": "stderr",
     "output_type": "stream",
     "text": [
      "INFO:tensorflow:Assets written to: model5.ckpt\\assets\n",
      "WARNING:absl:<keras.layers.recurrent.LSTMCell object at 0x000001BE16CBE7C0> has the same name 'LSTMCell' as a built-in Keras object. Consider renaming <class 'keras.layers.recurrent.LSTMCell'> to avoid naming conflicts when loading with `tf.keras.models.load_model`. If renaming is not possible, pass the object in the `custom_objects` parameter of the load function.\n"
     ]
    },
    {
     "name": "stdout",
     "output_type": "stream",
     "text": [
      "INFO:tensorflow:Assets written to: model5.ckpt\\assets\n"
     ]
    },
    {
     "name": "stderr",
     "output_type": "stream",
     "text": [
      "INFO:tensorflow:Assets written to: model5.ckpt\\assets\n",
      "WARNING:absl:<keras.layers.recurrent.LSTMCell object at 0x000001BE16CBE7C0> has the same name 'LSTMCell' as a built-in Keras object. Consider renaming <class 'keras.layers.recurrent.LSTMCell'> to avoid naming conflicts when loading with `tf.keras.models.load_model`. If renaming is not possible, pass the object in the `custom_objects` parameter of the load function.\n"
     ]
    },
    {
     "name": "stdout",
     "output_type": "stream",
     "text": [
      "INFO:tensorflow:Assets written to: model5.ckpt\\assets\n"
     ]
    },
    {
     "name": "stderr",
     "output_type": "stream",
     "text": [
      "INFO:tensorflow:Assets written to: model5.ckpt\\assets\n",
      "WARNING:absl:<keras.layers.recurrent.LSTMCell object at 0x000001BE16CBE7C0> has the same name 'LSTMCell' as a built-in Keras object. Consider renaming <class 'keras.layers.recurrent.LSTMCell'> to avoid naming conflicts when loading with `tf.keras.models.load_model`. If renaming is not possible, pass the object in the `custom_objects` parameter of the load function.\n"
     ]
    },
    {
     "name": "stdout",
     "output_type": "stream",
     "text": [
      "INFO:tensorflow:Assets written to: model5.ckpt\\assets\n"
     ]
    },
    {
     "name": "stderr",
     "output_type": "stream",
     "text": [
      "INFO:tensorflow:Assets written to: model5.ckpt\\assets\n",
      "WARNING:absl:<keras.layers.recurrent.LSTMCell object at 0x000001BE16CBE7C0> has the same name 'LSTMCell' as a built-in Keras object. Consider renaming <class 'keras.layers.recurrent.LSTMCell'> to avoid naming conflicts when loading with `tf.keras.models.load_model`. If renaming is not possible, pass the object in the `custom_objects` parameter of the load function.\n"
     ]
    },
    {
     "name": "stdout",
     "output_type": "stream",
     "text": [
      "INFO:tensorflow:Assets written to: model5.ckpt\\assets\n"
     ]
    },
    {
     "name": "stderr",
     "output_type": "stream",
     "text": [
      "INFO:tensorflow:Assets written to: model5.ckpt\\assets\n",
      "WARNING:absl:<keras.layers.recurrent.LSTMCell object at 0x000001BE16CBE7C0> has the same name 'LSTMCell' as a built-in Keras object. Consider renaming <class 'keras.layers.recurrent.LSTMCell'> to avoid naming conflicts when loading with `tf.keras.models.load_model`. If renaming is not possible, pass the object in the `custom_objects` parameter of the load function.\n"
     ]
    },
    {
     "name": "stdout",
     "output_type": "stream",
     "text": [
      "INFO:tensorflow:Assets written to: model5.ckpt\\assets\n"
     ]
    },
    {
     "name": "stderr",
     "output_type": "stream",
     "text": [
      "INFO:tensorflow:Assets written to: model5.ckpt\\assets\n",
      "WARNING:absl:<keras.layers.recurrent.LSTMCell object at 0x000001BE16CBE7C0> has the same name 'LSTMCell' as a built-in Keras object. Consider renaming <class 'keras.layers.recurrent.LSTMCell'> to avoid naming conflicts when loading with `tf.keras.models.load_model`. If renaming is not possible, pass the object in the `custom_objects` parameter of the load function.\n"
     ]
    },
    {
     "name": "stdout",
     "output_type": "stream",
     "text": [
      "INFO:tensorflow:Assets written to: model5.ckpt\\assets\n"
     ]
    },
    {
     "name": "stderr",
     "output_type": "stream",
     "text": [
      "INFO:tensorflow:Assets written to: model5.ckpt\\assets\n",
      "WARNING:absl:<keras.layers.recurrent.LSTMCell object at 0x000001BE16CBE7C0> has the same name 'LSTMCell' as a built-in Keras object. Consider renaming <class 'keras.layers.recurrent.LSTMCell'> to avoid naming conflicts when loading with `tf.keras.models.load_model`. If renaming is not possible, pass the object in the `custom_objects` parameter of the load function.\n"
     ]
    },
    {
     "name": "stdout",
     "output_type": "stream",
     "text": [
      "INFO:tensorflow:Assets written to: model5.ckpt\\assets\n"
     ]
    },
    {
     "name": "stderr",
     "output_type": "stream",
     "text": [
      "INFO:tensorflow:Assets written to: model5.ckpt\\assets\n",
      "WARNING:absl:<keras.layers.recurrent.LSTMCell object at 0x000001BE16CBE7C0> has the same name 'LSTMCell' as a built-in Keras object. Consider renaming <class 'keras.layers.recurrent.LSTMCell'> to avoid naming conflicts when loading with `tf.keras.models.load_model`. If renaming is not possible, pass the object in the `custom_objects` parameter of the load function.\n"
     ]
    },
    {
     "name": "stdout",
     "output_type": "stream",
     "text": [
      "INFO:tensorflow:Assets written to: model5.ckpt\\assets\n"
     ]
    },
    {
     "name": "stderr",
     "output_type": "stream",
     "text": [
      "INFO:tensorflow:Assets written to: model5.ckpt\\assets\n",
      "WARNING:absl:<keras.layers.recurrent.LSTMCell object at 0x000001BE16CBE7C0> has the same name 'LSTMCell' as a built-in Keras object. Consider renaming <class 'keras.layers.recurrent.LSTMCell'> to avoid naming conflicts when loading with `tf.keras.models.load_model`. If renaming is not possible, pass the object in the `custom_objects` parameter of the load function.\n"
     ]
    },
    {
     "name": "stdout",
     "output_type": "stream",
     "text": [
      "INFO:tensorflow:Assets written to: model5.ckpt\\assets\n"
     ]
    },
    {
     "name": "stderr",
     "output_type": "stream",
     "text": [
      "INFO:tensorflow:Assets written to: model5.ckpt\\assets\n",
      "WARNING:absl:<keras.layers.recurrent.LSTMCell object at 0x000001BE16CBE7C0> has the same name 'LSTMCell' as a built-in Keras object. Consider renaming <class 'keras.layers.recurrent.LSTMCell'> to avoid naming conflicts when loading with `tf.keras.models.load_model`. If renaming is not possible, pass the object in the `custom_objects` parameter of the load function.\n"
     ]
    },
    {
     "name": "stdout",
     "output_type": "stream",
     "text": [
      "INFO:tensorflow:Assets written to: model5.ckpt\\assets\n"
     ]
    },
    {
     "name": "stderr",
     "output_type": "stream",
     "text": [
      "INFO:tensorflow:Assets written to: model5.ckpt\\assets\n",
      "WARNING:absl:<keras.layers.recurrent.LSTMCell object at 0x000001BE16CBE7C0> has the same name 'LSTMCell' as a built-in Keras object. Consider renaming <class 'keras.layers.recurrent.LSTMCell'> to avoid naming conflicts when loading with `tf.keras.models.load_model`. If renaming is not possible, pass the object in the `custom_objects` parameter of the load function.\n"
     ]
    },
    {
     "name": "stdout",
     "output_type": "stream",
     "text": [
      "INFO:tensorflow:Assets written to: model5.ckpt\\assets\n"
     ]
    },
    {
     "name": "stderr",
     "output_type": "stream",
     "text": [
      "INFO:tensorflow:Assets written to: model5.ckpt\\assets\n",
      "WARNING:absl:<keras.layers.recurrent.LSTMCell object at 0x000001BE16CBE7C0> has the same name 'LSTMCell' as a built-in Keras object. Consider renaming <class 'keras.layers.recurrent.LSTMCell'> to avoid naming conflicts when loading with `tf.keras.models.load_model`. If renaming is not possible, pass the object in the `custom_objects` parameter of the load function.\n"
     ]
    },
    {
     "name": "stdout",
     "output_type": "stream",
     "text": [
      "INFO:tensorflow:Assets written to: model5.ckpt\\assets\n"
     ]
    },
    {
     "name": "stderr",
     "output_type": "stream",
     "text": [
      "INFO:tensorflow:Assets written to: model5.ckpt\\assets\n",
      "WARNING:absl:<keras.layers.recurrent.LSTMCell object at 0x000001BE16CBE7C0> has the same name 'LSTMCell' as a built-in Keras object. Consider renaming <class 'keras.layers.recurrent.LSTMCell'> to avoid naming conflicts when loading with `tf.keras.models.load_model`. If renaming is not possible, pass the object in the `custom_objects` parameter of the load function.\n"
     ]
    },
    {
     "name": "stdout",
     "output_type": "stream",
     "text": [
      "INFO:tensorflow:Assets written to: model5.ckpt\\assets\n"
     ]
    },
    {
     "name": "stderr",
     "output_type": "stream",
     "text": [
      "INFO:tensorflow:Assets written to: model5.ckpt\\assets\n",
      "WARNING:absl:<keras.layers.recurrent.LSTMCell object at 0x000001BE16CBE7C0> has the same name 'LSTMCell' as a built-in Keras object. Consider renaming <class 'keras.layers.recurrent.LSTMCell'> to avoid naming conflicts when loading with `tf.keras.models.load_model`. If renaming is not possible, pass the object in the `custom_objects` parameter of the load function.\n"
     ]
    },
    {
     "name": "stdout",
     "output_type": "stream",
     "text": [
      "INFO:tensorflow:Assets written to: model5.ckpt\\assets\n"
     ]
    },
    {
     "name": "stderr",
     "output_type": "stream",
     "text": [
      "INFO:tensorflow:Assets written to: model5.ckpt\\assets\n",
      "WARNING:absl:<keras.layers.recurrent.LSTMCell object at 0x000001BE16CBE7C0> has the same name 'LSTMCell' as a built-in Keras object. Consider renaming <class 'keras.layers.recurrent.LSTMCell'> to avoid naming conflicts when loading with `tf.keras.models.load_model`. If renaming is not possible, pass the object in the `custom_objects` parameter of the load function.\n"
     ]
    },
    {
     "name": "stdout",
     "output_type": "stream",
     "text": [
      "INFO:tensorflow:Assets written to: model5.ckpt\\assets\n"
     ]
    },
    {
     "name": "stderr",
     "output_type": "stream",
     "text": [
      "INFO:tensorflow:Assets written to: model5.ckpt\\assets\n",
      "WARNING:absl:<keras.layers.recurrent.LSTMCell object at 0x000001BE16CBE7C0> has the same name 'LSTMCell' as a built-in Keras object. Consider renaming <class 'keras.layers.recurrent.LSTMCell'> to avoid naming conflicts when loading with `tf.keras.models.load_model`. If renaming is not possible, pass the object in the `custom_objects` parameter of the load function.\n"
     ]
    },
    {
     "name": "stdout",
     "output_type": "stream",
     "text": [
      "INFO:tensorflow:Assets written to: model5.ckpt\\assets\n"
     ]
    },
    {
     "name": "stderr",
     "output_type": "stream",
     "text": [
      "INFO:tensorflow:Assets written to: model5.ckpt\\assets\n",
      "WARNING:absl:<keras.layers.recurrent.LSTMCell object at 0x000001BE16CBE7C0> has the same name 'LSTMCell' as a built-in Keras object. Consider renaming <class 'keras.layers.recurrent.LSTMCell'> to avoid naming conflicts when loading with `tf.keras.models.load_model`. If renaming is not possible, pass the object in the `custom_objects` parameter of the load function.\n"
     ]
    },
    {
     "name": "stdout",
     "output_type": "stream",
     "text": [
      "INFO:tensorflow:Assets written to: model5.ckpt\\assets\n"
     ]
    },
    {
     "name": "stderr",
     "output_type": "stream",
     "text": [
      "INFO:tensorflow:Assets written to: model5.ckpt\\assets\n",
      "WARNING:absl:<keras.layers.recurrent.LSTMCell object at 0x000001BE16CBE7C0> has the same name 'LSTMCell' as a built-in Keras object. Consider renaming <class 'keras.layers.recurrent.LSTMCell'> to avoid naming conflicts when loading with `tf.keras.models.load_model`. If renaming is not possible, pass the object in the `custom_objects` parameter of the load function.\n"
     ]
    },
    {
     "name": "stdout",
     "output_type": "stream",
     "text": [
      "INFO:tensorflow:Assets written to: model5.ckpt\\assets\n"
     ]
    },
    {
     "name": "stderr",
     "output_type": "stream",
     "text": [
      "INFO:tensorflow:Assets written to: model5.ckpt\\assets\n",
      "WARNING:absl:<keras.layers.recurrent.LSTMCell object at 0x000001BE16CBE7C0> has the same name 'LSTMCell' as a built-in Keras object. Consider renaming <class 'keras.layers.recurrent.LSTMCell'> to avoid naming conflicts when loading with `tf.keras.models.load_model`. If renaming is not possible, pass the object in the `custom_objects` parameter of the load function.\n"
     ]
    }
   ],
   "source": [
    "# data is same as above\n",
    "# input also has to be in the same form\n",
    "model5 = tf.keras.Sequential([\n",
    "    tf.keras.layers.Lambda(lambda x : tf.expand_dims(x,axis=1)),\n",
    "    tf.keras.layers.LSTM(128,activation = \"relu\"),\n",
    "    tf.keras.layers.Dense(1)\n",
    "])\n",
    "model5.compile(loss=\"mae\",optimizer = tf.keras.optimizers.Adam(), metrics=[\"mae\",\"mse\"])\n",
    "history5 = model5.fit(train_win,\n",
    "                      train_hor,\n",
    "                      epochs = 100,\n",
    "                      batch_size = 128,\n",
    "                      verbose = 0,\n",
    "                      validation_data = (test_win,test_hor),\n",
    "                      callbacks = [create_model_checkpoint(\"model5.ckpt\")])"
   ]
  },
  {
   "cell_type": "markdown",
   "metadata": {},
   "source": [
    "# EVALUATING MODEL5"
   ]
  },
  {
   "cell_type": "code",
   "execution_count": 53,
   "metadata": {},
   "outputs": [
    {
     "name": "stdout",
     "output_type": "stream",
     "text": [
      "WARNING:tensorflow:Layer lstm will not use cuDNN kernels since it doesn't meet the criteria. It will use a generic GPU kernel as fallback when running on GPU.\n"
     ]
    },
    {
     "name": "stderr",
     "output_type": "stream",
     "text": [
      "WARNING:tensorflow:Layer lstm will not use cuDNN kernels since it doesn't meet the criteria. It will use a generic GPU kernel as fallback when running on GPU.\n"
     ]
    }
   ],
   "source": [
    "model5 = tf.keras.models.load_model(\"model5.ckpt\")"
   ]
  },
  {
   "cell_type": "code",
   "execution_count": 54,
   "metadata": {},
   "outputs": [
    {
     "name": "stdout",
     "output_type": "stream",
     "text": [
      "17/17 [==============================] - 0s 3ms/step - loss: 1114.3325 - mae: 1114.3325 - mse: 2743902.7500\n"
     ]
    },
    {
     "data": {
      "text/plain": [
       "[1114.33251953125, 1114.33251953125, 2743902.75]"
      ]
     },
     "execution_count": 54,
     "metadata": {},
     "output_type": "execute_result"
    }
   ],
   "source": [
    "model5.evaluate(test_win, test_hor)"
   ]
  },
  {
   "cell_type": "code",
   "execution_count": 55,
   "metadata": {},
   "outputs": [
    {
     "data": {
      "text/plain": [
       "array([9112.25 , 9088.219, 9251.534, 9254.448, 9389.934, 9308.558,\n",
       "       9301.402, 9263.414, 9273.714, 9250.396], dtype=float32)"
      ]
     },
     "execution_count": 55,
     "metadata": {},
     "output_type": "execute_result"
    }
   ],
   "source": [
    "pred5 = tf.squeeze(model5.predict(test_win)).numpy()\n",
    "pred5[:10]"
   ]
  },
  {
   "cell_type": "code",
   "execution_count": 56,
   "metadata": {},
   "outputs": [
    {
     "data": {
      "text/plain": [
       "{'MEAN ABSOLUTE ERROR': 1114.3326,\n",
       " 'MEAN SQUARED ERROR': 2743902.8,\n",
       " 'ROOT MEAN SQUARED ERROR': 1656.473,\n",
       " 'MEAN ABSOLUTE PERCENTAGE ERROR': 2.9406936}"
      ]
     },
     "execution_count": 56,
     "metadata": {},
     "output_type": "execute_result"
    }
   ],
   "source": [
    "model5_report = model_report(test_hor,pred5)\n",
    "model5_report"
   ]
  },
  {
   "cell_type": "markdown",
   "metadata": {},
   "source": [
    "# PLOTTING THE PREDICTIOONS OF MODEL5"
   ]
  },
  {
   "cell_type": "code",
   "execution_count": 57,
   "metadata": {},
   "outputs": [
    {
     "data": {
      "image/png": "[encoded data removed]",
      "text/plain": [
       "<Figure size 720x504 with 1 Axes>"
      ]
     },
     "metadata": {
      "needs_background": "light"
     },
     "output_type": "display_data"
    }
   ],
   "source": [
    "plt.figure(figsize=(10,7))\n",
    "plot_timeseries(timesteps[-int(len(test_hor)):],test_hor,label =\"TEST DATA\")\n",
    "plot_timeseries(timesteps[-int(len(test_hor)):],pred5,format = '-',label =\"PREDICTIONS\")"
   ]
  },
  {
   "cell_type": "markdown",
   "metadata": {},
   "source": [
    "# COMPARING RESULTS OF ALL UNIVARIATE TIME SERIES MODELS"
   ]
  },
  {
   "cell_type": "code",
   "execution_count": 58,
   "metadata": {},
   "outputs": [
    {
     "data": {
      "text/plain": [
       "Text(0.5, 1.0, 'COMPARISON OF MAE OF ALL MODELS')"
      ]
     },
     "execution_count": 58,
     "metadata": {},
     "output_type": "execute_result"
    },
    {
     "data": {
      "image/png": "[encoded data removed]",
      "text/plain": [
       "<Figure size 720x504 with 1 Axes>"
      ]
     },
     "metadata": {
      "needs_background": "light"
     },
     "output_type": "display_data"
    }
   ],
   "source": [
    "pd.DataFrame({\n",
    "    \"NAIVE MODEL\":model1_report[\"MEAN ABSOLUTE ERROR\"],\n",
    "    \"DENSE(7,1)\":model2_report[\"MEAN ABSOLUTE ERROR\"],\n",
    "    \"DENSE(30,7)\":model3_report[\"MEAN ABSOLUTE ERROR\"],\n",
    "    \"CONV1D\":model4_report[\"MEAN ABSOLUTE ERROR\"],\n",
    "    \"LSTM\":model5_report[\"MEAN ABSOLUTE ERROR\"]\n",
    "},index = [\"MEAN ABSOLUTE ERROR\"]).plot(kind = \"bar\",figsize=(10,7))\n",
    "plt.title(\"COMPARISON OF MAE OF ALL MODELS\")"
   ]
  },
  {
   "cell_type": "markdown",
   "metadata": {},
   "source": [
    "# MULTIVARIATE TIME SERIES\n",
    "* PREPARING THE DATA\n",
    "* TRAINING A DENSE MODEL"
   ]
  },
  {
   "cell_type": "markdown",
   "metadata": {},
   "source": [
    "# PREPARING THE DATA"
   ]
  },
  {
   "cell_type": "code",
   "execution_count": 59,
   "metadata": {},
   "outputs": [],
   "source": [
    "# block reward data is going to be the second variable\n",
    "block_reward1 = 50\n",
    "block_reward2 = 25\n",
    "block_reward3 = 12.25\n",
    "block_reward4 = 6.25"
   ]
  },
  {
   "cell_type": "code",
   "execution_count": 60,
   "metadata": {},
   "outputs": [],
   "source": [
    "block_reward_2_datetime = np.datetime64(\"2012-11-28\")\n",
    "block_reward_3_datetime = np.datetime64(\"2016-07-09\")\n",
    "block_reward_4_datetime = np.datetime64(\"2020-05-11\")"
   ]
  },
  {
   "cell_type": "code",
   "execution_count": 61,
   "metadata": {},
   "outputs": [
    {
     "data": {
      "text/plain": [
       "(613, 2015)"
      ]
     },
     "execution_count": 61,
     "metadata": {},
     "output_type": "execute_result"
    }
   ],
   "source": [
    "block_reward_days2 = (block_reward_3_datetime - df_cp.index[0]).days\n",
    "block_reward_days3 = (block_reward_4_datetime - df_cp.index[0]).days\n",
    "block_reward_days2, block_reward_days3\n",
    "# this means that from day 0 to 613 a block reward of 25 was given, from 613 to 2015 \n",
    "# block reward of 12.5 was given and from 2015 to the end a block reward of 6.25 was given"
   ]
  },
  {
   "cell_type": "code",
   "execution_count": 88,
   "metadata": {},
   "outputs": [
    {
     "data": {
      "text/html": [
       "<div>\n",
       "<style scoped>\n",
       "    .dataframe tbody tr th:only-of-type {\n",
       "        vertical-align: middle;\n",
       "    }\n",
       "\n",
       "    .dataframe tbody tr th {\n",
       "        vertical-align: top;\n",
       "    }\n",
       "\n",
       "    .dataframe thead th {\n",
       "        text-align: right;\n",
       "    }\n",
       "</style>\n",
       "<table border=\"1\" class=\"dataframe\">\n",
       "  <thead>\n",
       "    <tr style=\"text-align: right;\">\n",
       "      <th></th>\n",
       "      <th>Price</th>\n",
       "      <th>block reward</th>\n",
       "    </tr>\n",
       "    <tr>\n",
       "      <th>Date</th>\n",
       "      <th></th>\n",
       "      <th></th>\n",
       "    </tr>\n",
       "  </thead>\n",
       "  <tbody>\n",
       "    <tr>\n",
       "      <th>2014-11-04</th>\n",
       "      <td>324.467934</td>\n",
       "      <td>25</td>\n",
       "    </tr>\n",
       "    <tr>\n",
       "      <th>2014-11-05</th>\n",
       "      <td>328.644408</td>\n",
       "      <td>25</td>\n",
       "    </tr>\n",
       "    <tr>\n",
       "      <th>2014-11-06</th>\n",
       "      <td>337.921358</td>\n",
       "      <td>25</td>\n",
       "    </tr>\n",
       "    <tr>\n",
       "      <th>2014-11-07</th>\n",
       "      <td>348.992860</td>\n",
       "      <td>25</td>\n",
       "    </tr>\n",
       "    <tr>\n",
       "      <th>2014-11-08</th>\n",
       "      <td>341.459753</td>\n",
       "      <td>25</td>\n",
       "    </tr>\n",
       "    <tr>\n",
       "      <th>...</th>\n",
       "      <td>...</td>\n",
       "      <td>...</td>\n",
       "    </tr>\n",
       "    <tr>\n",
       "      <th>2021-11-29</th>\n",
       "      <td>57303.185972</td>\n",
       "      <td>6.25</td>\n",
       "    </tr>\n",
       "    <tr>\n",
       "      <th>2021-11-30</th>\n",
       "      <td>57834.357549</td>\n",
       "      <td>6.25</td>\n",
       "    </tr>\n",
       "    <tr>\n",
       "      <th>2021-12-01</th>\n",
       "      <td>56973.182042</td>\n",
       "      <td>6.25</td>\n",
       "    </tr>\n",
       "    <tr>\n",
       "      <th>2021-12-02</th>\n",
       "      <td>57237.271634</td>\n",
       "      <td>6.25</td>\n",
       "    </tr>\n",
       "    <tr>\n",
       "      <th>2021-12-03</th>\n",
       "      <td>56524.829562</td>\n",
       "      <td>6.25</td>\n",
       "    </tr>\n",
       "  </tbody>\n",
       "</table>\n",
       "<p>2587 rows × 2 columns</p>\n",
       "</div>"
      ],
      "text/plain": [
       "                   Price block reward\n",
       "Date                                 \n",
       "2014-11-04    324.467934           25\n",
       "2014-11-05    328.644408           25\n",
       "2014-11-06    337.921358           25\n",
       "2014-11-07    348.992860           25\n",
       "2014-11-08    341.459753           25\n",
       "...                  ...          ...\n",
       "2021-11-29  57303.185972         6.25\n",
       "2021-11-30  57834.357549         6.25\n",
       "2021-12-01  56973.182042         6.25\n",
       "2021-12-02  57237.271634         6.25\n",
       "2021-12-03  56524.829562         6.25\n",
       "\n",
       "[2587 rows x 2 columns]"
      ]
     },
     "execution_count": 88,
     "metadata": {},
     "output_type": "execute_result"
    }
   ],
   "source": [
    "df_cp_block = df_cp.copy()\n",
    "df_cp_block[\"block reward\"] = None\n",
    "df_cp_block.iloc[:block_reward_days2,-1] = 25\n",
    "df_cp_block.iloc[block_reward_days2:block_reward_days3,-1] = 12.5\n",
    "df_cp_block.iloc[block_reward_days3:,-1] = 6.25\n",
    "df_cp_block"
   ]
  },
  {
   "cell_type": "markdown",
   "metadata": {},
   "source": [
    "# PLOTTING THE DATA"
   ]
  },
  {
   "cell_type": "code",
   "execution_count": 89,
   "metadata": {},
   "outputs": [
    {
     "data": {
      "text/plain": [
       "<AxesSubplot:xlabel='Date'>"
      ]
     },
     "execution_count": 89,
     "metadata": {},
     "output_type": "execute_result"
    },
    {
     "data": {
      "text/plain": [
       "<Figure size 720x504 with 0 Axes>"
      ]
     },
     "metadata": {},
     "output_type": "display_data"
    },
    {
     "data": {
      "image/png": "[encoded data removed]",
      "text/plain": [
       "<Figure size 432x288 with 1 Axes>"
      ]
     },
     "metadata": {
      "needs_background": "light"
     },
     "output_type": "display_data"
    }
   ],
   "source": [
    "from sklearn.preprocessing import minmax_scale\n",
    "plt.figure(figsize=(10,7))\n",
    "df_cp_block_scaled = pd.DataFrame(minmax_scale(df_cp_block[[\"Price\",\"block reward\"]]),\n",
    "                                  columns = df_cp_block.columns,\n",
    "                                  index = df_cp_block.index)\n",
    "df_cp_block_scaled.plot()"
   ]
  },
  {
   "cell_type": "markdown",
   "metadata": {},
   "source": [
    "# SPLITTING IN WINDOWS AND HORIZONS"
   ]
  },
  {
   "cell_type": "code",
   "execution_count": 90,
   "metadata": {},
   "outputs": [
    {
     "data": {
      "text/html": [
       "<div>\n",
       "<style scoped>\n",
       "    .dataframe tbody tr th:only-of-type {\n",
       "        vertical-align: middle;\n",
       "    }\n",
       "\n",
       "    .dataframe tbody tr th {\n",
       "        vertical-align: top;\n",
       "    }\n",
       "\n",
       "    .dataframe thead th {\n",
       "        text-align: right;\n",
       "    }\n",
       "</style>\n",
       "<table border=\"1\" class=\"dataframe\">\n",
       "  <thead>\n",
       "    <tr style=\"text-align: right;\">\n",
       "      <th></th>\n",
       "      <th>Price</th>\n",
       "      <th>block reward</th>\n",
       "      <th>Prices 0</th>\n",
       "      <th>Prices 1</th>\n",
       "      <th>Prices 2</th>\n",
       "      <th>Prices 3</th>\n",
       "      <th>Prices 4</th>\n",
       "      <th>Prices 5</th>\n",
       "      <th>Prices 6</th>\n",
       "    </tr>\n",
       "    <tr>\n",
       "      <th>Date</th>\n",
       "      <th></th>\n",
       "      <th></th>\n",
       "      <th></th>\n",
       "      <th></th>\n",
       "      <th></th>\n",
       "      <th></th>\n",
       "      <th></th>\n",
       "      <th></th>\n",
       "      <th></th>\n",
       "    </tr>\n",
       "  </thead>\n",
       "  <tbody>\n",
       "    <tr>\n",
       "      <th>2014-11-04</th>\n",
       "      <td>324.467934</td>\n",
       "      <td>25</td>\n",
       "      <td>324.467934</td>\n",
       "      <td>NaN</td>\n",
       "      <td>NaN</td>\n",
       "      <td>NaN</td>\n",
       "      <td>NaN</td>\n",
       "      <td>NaN</td>\n",
       "      <td>NaN</td>\n",
       "    </tr>\n",
       "    <tr>\n",
       "      <th>2014-11-05</th>\n",
       "      <td>328.644408</td>\n",
       "      <td>25</td>\n",
       "      <td>328.644408</td>\n",
       "      <td>324.467934</td>\n",
       "      <td>NaN</td>\n",
       "      <td>NaN</td>\n",
       "      <td>NaN</td>\n",
       "      <td>NaN</td>\n",
       "      <td>NaN</td>\n",
       "    </tr>\n",
       "    <tr>\n",
       "      <th>2014-11-06</th>\n",
       "      <td>337.921358</td>\n",
       "      <td>25</td>\n",
       "      <td>337.921358</td>\n",
       "      <td>328.644408</td>\n",
       "      <td>324.467934</td>\n",
       "      <td>NaN</td>\n",
       "      <td>NaN</td>\n",
       "      <td>NaN</td>\n",
       "      <td>NaN</td>\n",
       "    </tr>\n",
       "    <tr>\n",
       "      <th>2014-11-07</th>\n",
       "      <td>348.992860</td>\n",
       "      <td>25</td>\n",
       "      <td>348.992860</td>\n",
       "      <td>337.921358</td>\n",
       "      <td>328.644408</td>\n",
       "      <td>324.467934</td>\n",
       "      <td>NaN</td>\n",
       "      <td>NaN</td>\n",
       "      <td>NaN</td>\n",
       "    </tr>\n",
       "    <tr>\n",
       "      <th>2014-11-08</th>\n",
       "      <td>341.459753</td>\n",
       "      <td>25</td>\n",
       "      <td>341.459753</td>\n",
       "      <td>348.992860</td>\n",
       "      <td>337.921358</td>\n",
       "      <td>328.644408</td>\n",
       "      <td>324.467934</td>\n",
       "      <td>NaN</td>\n",
       "      <td>NaN</td>\n",
       "    </tr>\n",
       "    <tr>\n",
       "      <th>2014-11-09</th>\n",
       "      <td>344.745289</td>\n",
       "      <td>25</td>\n",
       "      <td>344.745289</td>\n",
       "      <td>341.459753</td>\n",
       "      <td>348.992860</td>\n",
       "      <td>337.921358</td>\n",
       "      <td>328.644408</td>\n",
       "      <td>324.467934</td>\n",
       "      <td>NaN</td>\n",
       "    </tr>\n",
       "    <tr>\n",
       "      <th>2014-11-10</th>\n",
       "      <td>357.239982</td>\n",
       "      <td>25</td>\n",
       "      <td>357.239982</td>\n",
       "      <td>344.745289</td>\n",
       "      <td>341.459753</td>\n",
       "      <td>348.992860</td>\n",
       "      <td>337.921358</td>\n",
       "      <td>328.644408</td>\n",
       "      <td>324.467934</td>\n",
       "    </tr>\n",
       "    <tr>\n",
       "      <th>2014-11-11</th>\n",
       "      <td>371.116917</td>\n",
       "      <td>25</td>\n",
       "      <td>371.116917</td>\n",
       "      <td>357.239982</td>\n",
       "      <td>344.745289</td>\n",
       "      <td>341.459753</td>\n",
       "      <td>348.992860</td>\n",
       "      <td>337.921358</td>\n",
       "      <td>328.644408</td>\n",
       "    </tr>\n",
       "    <tr>\n",
       "      <th>2014-11-12</th>\n",
       "      <td>366.664633</td>\n",
       "      <td>25</td>\n",
       "      <td>366.664633</td>\n",
       "      <td>371.116917</td>\n",
       "      <td>357.239982</td>\n",
       "      <td>344.745289</td>\n",
       "      <td>341.459753</td>\n",
       "      <td>348.992860</td>\n",
       "      <td>337.921358</td>\n",
       "    </tr>\n",
       "    <tr>\n",
       "      <th>2014-11-13</th>\n",
       "      <td>428.882925</td>\n",
       "      <td>25</td>\n",
       "      <td>428.882925</td>\n",
       "      <td>366.664633</td>\n",
       "      <td>371.116917</td>\n",
       "      <td>357.239982</td>\n",
       "      <td>344.745289</td>\n",
       "      <td>341.459753</td>\n",
       "      <td>348.992860</td>\n",
       "    </tr>\n",
       "  </tbody>\n",
       "</table>\n",
       "</div>"
      ],
      "text/plain": [
       "                 Price block reward    Prices 0    Prices 1    Prices 2  \\\n",
       "Date                                                                      \n",
       "2014-11-04  324.467934           25  324.467934         NaN         NaN   \n",
       "2014-11-05  328.644408           25  328.644408  324.467934         NaN   \n",
       "2014-11-06  337.921358           25  337.921358  328.644408  324.467934   \n",
       "2014-11-07  348.992860           25  348.992860  337.921358  328.644408   \n",
       "2014-11-08  341.459753           25  341.459753  348.992860  337.921358   \n",
       "2014-11-09  344.745289           25  344.745289  341.459753  348.992860   \n",
       "2014-11-10  357.239982           25  357.239982  344.745289  341.459753   \n",
       "2014-11-11  371.116917           25  371.116917  357.239982  344.745289   \n",
       "2014-11-12  366.664633           25  366.664633  371.116917  357.239982   \n",
       "2014-11-13  428.882925           25  428.882925  366.664633  371.116917   \n",
       "\n",
       "              Prices 3    Prices 4    Prices 5    Prices 6  \n",
       "Date                                                        \n",
       "2014-11-04         NaN         NaN         NaN         NaN  \n",
       "2014-11-05         NaN         NaN         NaN         NaN  \n",
       "2014-11-06         NaN         NaN         NaN         NaN  \n",
       "2014-11-07  324.467934         NaN         NaN         NaN  \n",
       "2014-11-08  328.644408  324.467934         NaN         NaN  \n",
       "2014-11-09  337.921358  328.644408  324.467934         NaN  \n",
       "2014-11-10  348.992860  337.921358  328.644408  324.467934  \n",
       "2014-11-11  341.459753  348.992860  337.921358  328.644408  \n",
       "2014-11-12  344.745289  341.459753  348.992860  337.921358  \n",
       "2014-11-13  357.239982  344.745289  341.459753  348.992860  "
      ]
     },
     "execution_count": 90,
     "metadata": {},
     "output_type": "execute_result"
    }
   ],
   "source": [
    "window_size = 7\n",
    "horizon = 1\n",
    "for i in range(window_size):\n",
    "    df_cp_block[f'Prices {i}'] = df_cp_block[\"Price\"].shift(periods = i)\n",
    "df_cp_block.head(10)"
   ]
  },
  {
   "cell_type": "code",
   "execution_count": 91,
   "metadata": {},
   "outputs": [],
   "source": [
    "x = df_cp_block.dropna().drop([\"Price\"],axis=1).astype(np.float32)\n",
    "y = df_cp_block.dropna()[\"Price\"].astype(np.float32)"
   ]
  },
  {
   "cell_type": "code",
   "execution_count": 94,
   "metadata": {},
   "outputs": [
    {
     "data": {
      "text/plain": [
       "((2064, 8), (2064,), (517, 8), (517,))"
      ]
     },
     "execution_count": 94,
     "metadata": {},
     "output_type": "execute_result"
    }
   ],
   "source": [
    "#splitting into training and testing data\n",
    "train_win = x[:int(len(x)*0.8)][:]\n",
    "test_win = x[int(len(x)*0.8):][:]\n",
    "train_hor = y[:int(len(x)*0.8)][:]\n",
    "test_hor = y[int(len(x)*0.8):][:]\n",
    "train_win.shape,train_hor.shape,test_win.shape,test_hor.shape"
   ]
  },
  {
   "cell_type": "markdown",
   "metadata": {},
   "source": [
    "# MODEL6"
   ]
  },
  {
   "cell_type": "code",
   "execution_count": 98,
   "metadata": {},
   "outputs": [
    {
     "name": "stdout",
     "output_type": "stream",
     "text": [
      "Epoch 1/100\n",
      "16/17 [===========================>..] - ETA: 0s - loss: 2414.4944 - mae: 2414.4944 - mse: 14552424.0000INFO:tensorflow:Assets written to: model6\\assets\n"
     ]
    },
    {
     "name": "stderr",
     "output_type": "stream",
     "text": [
      "INFO:tensorflow:Assets written to: model6\\assets\n"
     ]
    },
    {
     "name": "stdout",
     "output_type": "stream",
     "text": [
      "17/17 [==============================] - 1s 27ms/step - loss: 2398.9592 - mae: 2398.9592 - mse: 14444698.0000 - val_loss: 2888.7822 - val_mae: 2888.7822 - val_mse: 14826768.0000\n",
      "Epoch 2/100\n",
      "17/17 [==============================] - 0s 5ms/step - loss: 462.9113 - mae: 462.9113 - mse: 599183.0000 - val_loss: 2971.6338 - val_mae: 2971.6338 - val_mse: 13809322.0000\n",
      "Epoch 3/100\n",
      "17/17 [==============================] - ETA: 0s - loss: 223.1998 - mae: 223.1998 - mse: 177010.5938INFO:tensorflow:Assets written to: model6\\assets\n"
     ]
    },
    {
     "name": "stderr",
     "output_type": "stream",
     "text": [
      "INFO:tensorflow:Assets written to: model6\\assets\n"
     ]
    },
    {
     "name": "stdout",
     "output_type": "stream",
     "text": [
      "17/17 [==============================] - 0s 23ms/step - loss: 223.1998 - mae: 223.1998 - mse: 177010.5938 - val_loss: 1506.7377 - val_mae: 1506.7377 - val_mse: 4386474.0000\n",
      "Epoch 4/100\n",
      "16/17 [===========================>..] - ETA: 0s - loss: 180.6263 - mae: 180.6263 - mse: 136640.0000INFO:tensorflow:Assets written to: model6\\assets\n"
     ]
    },
    {
     "name": "stderr",
     "output_type": "stream",
     "text": [
      "INFO:tensorflow:Assets written to: model6\\assets\n"
     ]
    },
    {
     "name": "stdout",
     "output_type": "stream",
     "text": [
      "17/17 [==============================] - 0s 24ms/step - loss: 181.1416 - mae: 181.1416 - mse: 137079.2500 - val_loss: 1350.7345 - val_mae: 1350.7345 - val_mse: 3689753.5000\n",
      "Epoch 5/100\n",
      "17/17 [==============================] - ETA: 0s - loss: 171.3260 - mae: 171.3260 - mse: 125694.2734INFO:tensorflow:Assets written to: model6\\assets\n"
     ]
    },
    {
     "name": "stderr",
     "output_type": "stream",
     "text": [
      "INFO:tensorflow:Assets written to: model6\\assets\n"
     ]
    },
    {
     "name": "stdout",
     "output_type": "stream",
     "text": [
      "17/17 [==============================] - 0s 23ms/step - loss: 171.3260 - mae: 171.3260 - mse: 125694.2734 - val_loss: 1291.3738 - val_mae: 1291.3738 - val_mse: 3437019.2500\n",
      "Epoch 6/100\n",
      "15/17 [=========================>....] - ETA: 0s - loss: 168.7056 - mae: 168.7056 - mse: 119857.2500INFO:tensorflow:Assets written to: model6\\assets\n"
     ]
    },
    {
     "name": "stderr",
     "output_type": "stream",
     "text": [
      "INFO:tensorflow:Assets written to: model6\\assets\n"
     ]
    },
    {
     "name": "stdout",
     "output_type": "stream",
     "text": [
      "17/17 [==============================] - 0s 25ms/step - loss: 166.9896 - mae: 166.9896 - mse: 117659.1094 - val_loss: 1290.5530 - val_mae: 1290.5530 - val_mse: 3315105.7500\n",
      "Epoch 7/100\n",
      "17/17 [==============================] - 0s 5ms/step - loss: 180.0625 - mae: 180.0625 - mse: 124689.5312 - val_loss: 1343.4624 - val_mae: 1343.4624 - val_mse: 3456049.7500\n",
      "Epoch 8/100\n",
      "17/17 [==============================] - ETA: 0s - loss: 161.4871 - mae: 161.4871 - mse: 106929.1875INFO:tensorflow:Assets written to: model6\\assets\n"
     ]
    },
    {
     "name": "stderr",
     "output_type": "stream",
     "text": [
      "INFO:tensorflow:Assets written to: model6\\assets\n"
     ]
    },
    {
     "name": "stdout",
     "output_type": "stream",
     "text": [
      "17/17 [==============================] - 0s 24ms/step - loss: 161.4871 - mae: 161.4871 - mse: 106929.1875 - val_loss: 1165.9263 - val_mae: 1165.9263 - val_mse: 2915797.0000\n",
      "Epoch 9/100\n",
      "17/17 [==============================] - ETA: 0s - loss: 144.0855 - mae: 144.0855 - mse: 89803.1953INFO:tensorflow:Assets written to: model6\\assets\n"
     ]
    },
    {
     "name": "stderr",
     "output_type": "stream",
     "text": [
      "INFO:tensorflow:Assets written to: model6\\assets\n"
     ]
    },
    {
     "name": "stdout",
     "output_type": "stream",
     "text": [
      "17/17 [==============================] - 0s 24ms/step - loss: 144.0855 - mae: 144.0855 - mse: 89803.1953 - val_loss: 1071.2870 - val_mae: 1071.2870 - val_mse: 2414502.5000\n",
      "Epoch 10/100\n",
      "17/17 [==============================] - 0s 5ms/step - loss: 140.4917 - mae: 140.4917 - mse: 84786.7500 - val_loss: 1217.3114 - val_mae: 1217.3114 - val_mse: 2782215.0000\n",
      "Epoch 11/100\n",
      "17/17 [==============================] - ETA: 0s - loss: 131.9159 - mae: 131.9159 - mse: 74338.6172INFO:tensorflow:Assets written to: model6\\assets\n"
     ]
    },
    {
     "name": "stderr",
     "output_type": "stream",
     "text": [
      "INFO:tensorflow:Assets written to: model6\\assets\n"
     ]
    },
    {
     "name": "stdout",
     "output_type": "stream",
     "text": [
      "17/17 [==============================] - 0s 24ms/step - loss: 131.9159 - mae: 131.9159 - mse: 74338.6172 - val_loss: 959.2737 - val_mae: 959.2737 - val_mse: 1941835.2500\n",
      "Epoch 12/100\n",
      "17/17 [==============================] - ETA: 0s - loss: 122.6400 - mae: 122.6400 - mse: 65868.7891INFO:tensorflow:Assets written to: model6\\assets\n"
     ]
    },
    {
     "name": "stderr",
     "output_type": "stream",
     "text": [
      "INFO:tensorflow:Assets written to: model6\\assets\n"
     ]
    },
    {
     "name": "stdout",
     "output_type": "stream",
     "text": [
      "17/17 [==============================] - 0s 31ms/step - loss: 122.6400 - mae: 122.6400 - mse: 65868.7891 - val_loss: 954.7001 - val_mae: 954.7001 - val_mse: 1825383.8750\n",
      "Epoch 13/100\n",
      "16/17 [===========================>..] - ETA: 0s - loss: 118.0704 - mae: 118.0704 - mse: 59640.9961INFO:tensorflow:Assets written to: model6\\assets\n"
     ]
    },
    {
     "name": "stderr",
     "output_type": "stream",
     "text": [
      "INFO:tensorflow:Assets written to: model6\\assets\n"
     ]
    },
    {
     "name": "stdout",
     "output_type": "stream",
     "text": [
      "17/17 [==============================] - 0s 23ms/step - loss: 118.7826 - mae: 118.7826 - mse: 60052.4883 - val_loss: 872.9857 - val_mae: 872.9857 - val_mse: 1586773.3750\n",
      "Epoch 14/100\n",
      "17/17 [==============================] - 0s 5ms/step - loss: 112.0688 - mae: 112.0688 - mse: 55567.3711 - val_loss: 1007.5082 - val_mae: 1007.5082 - val_mse: 1915656.0000\n",
      "Epoch 15/100\n",
      "15/17 [=========================>....] - ETA: 0s - loss: 110.2054 - mae: 110.2054 - mse: 51834.6602INFO:tensorflow:Assets written to: model6\\assets\n"
     ]
    },
    {
     "name": "stderr",
     "output_type": "stream",
     "text": [
      "INFO:tensorflow:Assets written to: model6\\assets\n"
     ]
    },
    {
     "name": "stdout",
     "output_type": "stream",
     "text": [
      "17/17 [==============================] - 0s 24ms/step - loss: 109.9667 - mae: 109.9667 - mse: 51231.7734 - val_loss: 845.2344 - val_mae: 845.2344 - val_mse: 1557178.5000\n",
      "Epoch 16/100\n",
      "16/17 [===========================>..] - ETA: 0s - loss: 104.1168 - mae: 104.1168 - mse: 46856.8789INFO:tensorflow:Assets written to: model6\\assets\n"
     ]
    },
    {
     "name": "stderr",
     "output_type": "stream",
     "text": [
      "INFO:tensorflow:Assets written to: model6\\assets\n"
     ]
    },
    {
     "name": "stdout",
     "output_type": "stream",
     "text": [
      "17/17 [==============================] - 0s 24ms/step - loss: 104.8987 - mae: 104.8987 - mse: 47034.5312 - val_loss: 753.8067 - val_mae: 753.8067 - val_mse: 1202962.5000\n",
      "Epoch 17/100\n",
      "16/17 [===========================>..] - ETA: 0s - loss: 102.7586 - mae: 102.7586 - mse: 44415.3203INFO:tensorflow:Assets written to: model6\\assets\n"
     ]
    },
    {
     "name": "stderr",
     "output_type": "stream",
     "text": [
      "INFO:tensorflow:Assets written to: model6\\assets\n"
     ]
    },
    {
     "name": "stdout",
     "output_type": "stream",
     "text": [
      "17/17 [==============================] - 0s 23ms/step - loss: 102.5324 - mae: 102.5324 - mse: 44181.7188 - val_loss: 716.2845 - val_mae: 716.2845 - val_mse: 1094944.2500\n",
      "Epoch 18/100\n",
      "17/17 [==============================] - ETA: 0s - loss: 94.2329 - mae: 94.2329 - mse: 38444.2031  INFO:tensorflow:Assets written to: model6\\assets\n"
     ]
    },
    {
     "name": "stderr",
     "output_type": "stream",
     "text": [
      "INFO:tensorflow:Assets written to: model6\\assets\n"
     ]
    },
    {
     "name": "stdout",
     "output_type": "stream",
     "text": [
      "17/17 [==============================] - 0s 22ms/step - loss: 94.2329 - mae: 94.2329 - mse: 38444.2031 - val_loss: 700.3281 - val_mae: 700.3281 - val_mse: 1026900.8750\n",
      "Epoch 19/100\n",
      "17/17 [==============================] - 0s 4ms/step - loss: 90.2145 - mae: 90.2145 - mse: 34987.6289 - val_loss: 728.1251 - val_mae: 728.1251 - val_mse: 1145110.3750\n",
      "Epoch 20/100\n",
      " 1/17 [>.............................] - ETA: 0s - loss: 89.0124 - mae: 89.0124 - mse: 27071.4219INFO:tensorflow:Assets written to: model6\\assets\n"
     ]
    },
    {
     "name": "stderr",
     "output_type": "stream",
     "text": [
      "INFO:tensorflow:Assets written to: model6\\assets\n"
     ]
    },
    {
     "name": "stdout",
     "output_type": "stream",
     "text": [
      "17/17 [==============================] - 0s 24ms/step - loss: 92.8885 - mae: 92.8885 - mse: 35404.5781 - val_loss: 665.9138 - val_mae: 665.9138 - val_mse: 921803.8750\n",
      "Epoch 21/100\n",
      " 1/17 [>.............................] - ETA: 0s - loss: 102.8765 - mae: 102.8765 - mse: 34176.0859INFO:tensorflow:Assets written to: model6\\assets\n"
     ]
    },
    {
     "name": "stderr",
     "output_type": "stream",
     "text": [
      "INFO:tensorflow:Assets written to: model6\\assets\n"
     ]
    },
    {
     "name": "stdout",
     "output_type": "stream",
     "text": [
      "17/17 [==============================] - 0s 24ms/step - loss: 90.9767 - mae: 90.9767 - mse: 32624.8750 - val_loss: 609.4304 - val_mae: 609.4304 - val_mse: 798473.0000\n",
      "Epoch 22/100\n",
      "17/17 [==============================] - 0s 4ms/step - loss: 82.6189 - mae: 82.6189 - mse: 29612.7988 - val_loss: 686.5394 - val_mae: 686.5394 - val_mse: 939176.0000\n",
      "Epoch 23/100\n",
      " 1/17 [>.............................] - ETA: 0s - loss: 82.1217 - mae: 82.1217 - mse: 20042.4980INFO:tensorflow:Assets written to: model6\\assets\n"
     ]
    },
    {
     "name": "stderr",
     "output_type": "stream",
     "text": [
      "INFO:tensorflow:Assets written to: model6\\assets\n"
     ]
    },
    {
     "name": "stdout",
     "output_type": "stream",
     "text": [
      "17/17 [==============================] - 0s 22ms/step - loss: 80.0756 - mae: 80.0756 - mse: 27209.2422 - val_loss: 571.8015 - val_mae: 571.8015 - val_mse: 700593.1250\n",
      "Epoch 24/100\n",
      "17/17 [==============================] - 0s 4ms/step - loss: 73.3010 - mae: 73.3010 - mse: 24199.5137 - val_loss: 642.6355 - val_mae: 642.6355 - val_mse: 825171.5625\n",
      "Epoch 25/100\n",
      "17/17 [==============================] - 0s 4ms/step - loss: 75.8719 - mae: 75.8719 - mse: 23883.5859 - val_loss: 625.9077 - val_mae: 625.9077 - val_mse: 776525.6250\n",
      "Epoch 26/100\n",
      " 1/17 [>.............................] - ETA: 0s - loss: 60.4457 - mae: 60.4457 - mse: 12170.6787INFO:tensorflow:Assets written to: model6\\assets\n"
     ]
    },
    {
     "name": "stderr",
     "output_type": "stream",
     "text": [
      "INFO:tensorflow:Assets written to: model6\\assets\n"
     ]
    },
    {
     "name": "stdout",
     "output_type": "stream",
     "text": [
      "17/17 [==============================] - 0s 22ms/step - loss: 79.4946 - mae: 79.4946 - mse: 23455.0469 - val_loss: 496.3159 - val_mae: 496.3159 - val_mse: 536757.3750\n",
      "Epoch 27/100\n",
      " 1/17 [>.............................] - ETA: 0s - loss: 54.2107 - mae: 54.2107 - mse: 12459.3027INFO:tensorflow:Assets written to: model6\\assets\n"
     ]
    },
    {
     "name": "stderr",
     "output_type": "stream",
     "text": [
      "INFO:tensorflow:Assets written to: model6\\assets\n"
     ]
    },
    {
     "name": "stdout",
     "output_type": "stream",
     "text": [
      "17/17 [==============================] - 0s 23ms/step - loss: 65.2371 - mae: 65.2371 - mse: 18958.1562 - val_loss: 472.4680 - val_mae: 472.4680 - val_mse: 488377.1875\n",
      "Epoch 28/100\n",
      " 1/17 [>.............................] - ETA: 0s - loss: 70.3879 - mae: 70.3879 - mse: 19642.9746INFO:tensorflow:Assets written to: model6\\assets\n"
     ]
    },
    {
     "name": "stderr",
     "output_type": "stream",
     "text": [
      "INFO:tensorflow:Assets written to: model6\\assets\n"
     ]
    },
    {
     "name": "stdout",
     "output_type": "stream",
     "text": [
      "17/17 [==============================] - 0s 22ms/step - loss: 61.1645 - mae: 61.1645 - mse: 16605.3594 - val_loss: 451.5946 - val_mae: 451.5946 - val_mse: 445844.0000\n",
      "Epoch 29/100\n",
      " 1/17 [>.............................] - ETA: 0s - loss: 62.8772 - mae: 62.8772 - mse: 14706.2266INFO:tensorflow:Assets written to: model6\\assets\n"
     ]
    },
    {
     "name": "stderr",
     "output_type": "stream",
     "text": [
      "INFO:tensorflow:Assets written to: model6\\assets\n"
     ]
    },
    {
     "name": "stdout",
     "output_type": "stream",
     "text": [
      "17/17 [==============================] - 0s 23ms/step - loss: 56.4518 - mae: 56.4518 - mse: 13956.7783 - val_loss: 411.3920 - val_mae: 411.3920 - val_mse: 366409.1250\n",
      "Epoch 30/100\n",
      "17/17 [==============================] - 0s 4ms/step - loss: 54.2339 - mae: 54.2339 - mse: 12452.3066 - val_loss: 414.6499 - val_mae: 414.6499 - val_mse: 360963.6562\n",
      "Epoch 31/100\n",
      "17/17 [==============================] - 0s 4ms/step - loss: 52.1122 - mae: 52.1122 - mse: 11400.2910 - val_loss: 435.1379 - val_mae: 435.1379 - val_mse: 393267.1875\n",
      "Epoch 32/100\n",
      " 1/17 [>.............................] - ETA: 0s - loss: 66.5264 - mae: 66.5264 - mse: 14338.2988INFO:tensorflow:Assets written to: model6\\assets\n"
     ]
    },
    {
     "name": "stderr",
     "output_type": "stream",
     "text": [
      "INFO:tensorflow:Assets written to: model6\\assets\n"
     ]
    },
    {
     "name": "stdout",
     "output_type": "stream",
     "text": [
      "17/17 [==============================] - 0s 22ms/step - loss: 54.6507 - mae: 54.6507 - mse: 11313.9189 - val_loss: 337.6207 - val_mae: 337.6207 - val_mse: 254865.3906\n",
      "Epoch 33/100\n",
      " 1/17 [>.............................] - ETA: 0s - loss: 42.8693 - mae: 42.8693 - mse: 8529.3125INFO:tensorflow:Assets written to: model6\\assets\n"
     ]
    },
    {
     "name": "stderr",
     "output_type": "stream",
     "text": [
      "INFO:tensorflow:Assets written to: model6\\assets\n"
     ]
    },
    {
     "name": "stdout",
     "output_type": "stream",
     "text": [
      "17/17 [==============================] - 0s 22ms/step - loss: 48.9328 - mae: 48.9328 - mse: 9724.2539 - val_loss: 325.5435 - val_mae: 325.5435 - val_mse: 236377.4219\n",
      "Epoch 34/100\n",
      " 1/17 [>.............................] - ETA: 0s - loss: 44.2489 - mae: 44.2489 - mse: 16755.1133INFO:tensorflow:Assets written to: model6\\assets\n"
     ]
    },
    {
     "name": "stderr",
     "output_type": "stream",
     "text": [
      "INFO:tensorflow:Assets written to: model6\\assets\n"
     ]
    },
    {
     "name": "stdout",
     "output_type": "stream",
     "text": [
      "17/17 [==============================] - 0s 21ms/step - loss: 42.1417 - mae: 42.1417 - mse: 7860.6738 - val_loss: 310.8433 - val_mae: 310.8433 - val_mse: 213857.9531\n",
      "Epoch 35/100\n",
      " 1/17 [>.............................] - ETA: 0s - loss: 27.8234 - mae: 27.8234 - mse: 2796.5518INFO:tensorflow:Assets written to: model6\\assets\n"
     ]
    },
    {
     "name": "stderr",
     "output_type": "stream",
     "text": [
      "INFO:tensorflow:Assets written to: model6\\assets\n"
     ]
    },
    {
     "name": "stdout",
     "output_type": "stream",
     "text": [
      "17/17 [==============================] - 0s 22ms/step - loss: 45.5452 - mae: 45.5452 - mse: 8152.7637 - val_loss: 287.5854 - val_mae: 287.5854 - val_mse: 181350.5312\n",
      "Epoch 36/100\n",
      "17/17 [==============================] - 0s 4ms/step - loss: 38.2436 - mae: 38.2436 - mse: 6388.7939 - val_loss: 473.9712 - val_mae: 473.9712 - val_mse: 388684.8750\n",
      "Epoch 37/100\n",
      "17/17 [==============================] - 0s 4ms/step - loss: 66.3542 - mae: 66.3542 - mse: 13394.2939 - val_loss: 503.1904 - val_mae: 503.1904 - val_mse: 421585.5625\n",
      "Epoch 38/100\n",
      " 1/17 [>.............................] - ETA: 0s - loss: 54.1653 - mae: 54.1653 - mse: 7772.8604INFO:tensorflow:Assets written to: model6\\assets\n"
     ]
    },
    {
     "name": "stderr",
     "output_type": "stream",
     "text": [
      "INFO:tensorflow:Assets written to: model6\\assets\n"
     ]
    },
    {
     "name": "stdout",
     "output_type": "stream",
     "text": [
      "17/17 [==============================] - 0s 22ms/step - loss: 50.1679 - mae: 50.1679 - mse: 7943.5679 - val_loss: 267.5211 - val_mae: 267.5211 - val_mse: 152717.6094\n",
      "Epoch 39/100\n",
      "17/17 [==============================] - 0s 4ms/step - loss: 43.8154 - mae: 43.8154 - mse: 6677.1611 - val_loss: 289.5849 - val_mae: 289.5849 - val_mse: 172355.7656\n",
      "Epoch 40/100\n",
      " 1/17 [>.............................] - ETA: 0s - loss: 43.0447 - mae: 43.0447 - mse: 4987.5625INFO:tensorflow:Assets written to: model6\\assets\n"
     ]
    },
    {
     "name": "stderr",
     "output_type": "stream",
     "text": [
      "INFO:tensorflow:Assets written to: model6\\assets\n"
     ]
    },
    {
     "name": "stdout",
     "output_type": "stream",
     "text": [
      "17/17 [==============================] - 0s 22ms/step - loss: 41.8397 - mae: 41.8397 - mse: 6515.5596 - val_loss: 237.4967 - val_mae: 237.4967 - val_mse: 122616.8984\n",
      "Epoch 41/100\n",
      "17/17 [==============================] - 0s 4ms/step - loss: 45.0299 - mae: 45.0299 - mse: 6943.6870 - val_loss: 364.1942 - val_mae: 364.1942 - val_mse: 247201.2188\n",
      "Epoch 42/100\n",
      "17/17 [==============================] - 0s 4ms/step - loss: 53.7415 - mae: 53.7415 - mse: 8522.0420 - val_loss: 254.0163 - val_mae: 254.0163 - val_mse: 134522.6250\n",
      "Epoch 43/100\n",
      " 1/17 [>.............................] - ETA: 0s - loss: 36.9110 - mae: 36.9110 - mse: 5101.7207INFO:tensorflow:Assets written to: model6\\assets\n"
     ]
    },
    {
     "name": "stderr",
     "output_type": "stream",
     "text": [
      "INFO:tensorflow:Assets written to: model6\\assets\n"
     ]
    },
    {
     "name": "stdout",
     "output_type": "stream",
     "text": [
      "17/17 [==============================] - 0s 23ms/step - loss: 31.9547 - mae: 31.9547 - mse: 4283.3057 - val_loss: 225.2127 - val_mae: 225.2127 - val_mse: 107499.1484\n",
      "Epoch 44/100\n",
      " 1/17 [>.............................] - ETA: 0s - loss: 23.1001 - mae: 23.1001 - mse: 1682.4069INFO:tensorflow:Assets written to: model6\\assets\n"
     ]
    },
    {
     "name": "stderr",
     "output_type": "stream",
     "text": [
      "INFO:tensorflow:Assets written to: model6\\assets\n"
     ]
    },
    {
     "name": "stdout",
     "output_type": "stream",
     "text": [
      "17/17 [==============================] - 0s 23ms/step - loss: 28.8989 - mae: 28.8989 - mse: 3556.6575 - val_loss: 207.3592 - val_mae: 207.3592 - val_mse: 92926.5547\n",
      "Epoch 45/100\n",
      "17/17 [==============================] - 0s 4ms/step - loss: 26.8552 - mae: 26.8552 - mse: 3187.0723 - val_loss: 217.1571 - val_mae: 217.1571 - val_mse: 98426.1719\n",
      "Epoch 46/100\n",
      "17/17 [==============================] - 0s 4ms/step - loss: 27.1415 - mae: 27.1415 - mse: 3112.4333 - val_loss: 237.1108 - val_mae: 237.1108 - val_mse: 111754.3438\n",
      "Epoch 47/100\n",
      " 1/17 [>.............................] - ETA: 0s - loss: 22.6875 - mae: 22.6875 - mse: 2192.5078INFO:tensorflow:Assets written to: model6\\assets\n"
     ]
    },
    {
     "name": "stderr",
     "output_type": "stream",
     "text": [
      "INFO:tensorflow:Assets written to: model6\\assets\n"
     ]
    },
    {
     "name": "stdout",
     "output_type": "stream",
     "text": [
      "17/17 [==============================] - 0s 21ms/step - loss: 25.9623 - mae: 25.9623 - mse: 2736.0488 - val_loss: 190.3251 - val_mae: 190.3251 - val_mse: 76376.8359\n",
      "Epoch 48/100\n",
      "17/17 [==============================] - 0s 4ms/step - loss: 27.1181 - mae: 27.1181 - mse: 2788.8838 - val_loss: 214.0287 - val_mae: 214.0287 - val_mse: 91256.0078\n",
      "Epoch 49/100\n",
      " 1/17 [>.............................] - ETA: 0s - loss: 25.3278 - mae: 25.3278 - mse: 2488.7415INFO:tensorflow:Assets written to: model6\\assets\n"
     ]
    },
    {
     "name": "stderr",
     "output_type": "stream",
     "text": [
      "INFO:tensorflow:Assets written to: model6\\assets\n"
     ]
    },
    {
     "name": "stdout",
     "output_type": "stream",
     "text": [
      "17/17 [==============================] - 0s 30ms/step - loss: 30.7439 - mae: 30.7439 - mse: 3289.8433 - val_loss: 167.3333 - val_mae: 167.3333 - val_mse: 59370.6172\n",
      "Epoch 50/100\n",
      "17/17 [==============================] - 0s 4ms/step - loss: 25.7021 - mae: 25.7021 - mse: 2457.7288 - val_loss: 265.1208 - val_mae: 265.1208 - val_mse: 125989.4688\n",
      "Epoch 51/100\n",
      " 1/17 [>.............................] - ETA: 0s - loss: 32.6562 - mae: 32.6562 - mse: 2747.3423INFO:tensorflow:Assets written to: model6\\assets\n"
     ]
    },
    {
     "name": "stderr",
     "output_type": "stream",
     "text": [
      "INFO:tensorflow:Assets written to: model6\\assets\n"
     ]
    },
    {
     "name": "stdout",
     "output_type": "stream",
     "text": [
      "17/17 [==============================] - 0s 21ms/step - loss: 24.2173 - mae: 24.2173 - mse: 2210.3416 - val_loss: 155.3519 - val_mae: 155.3519 - val_mse: 50998.9023\n",
      "Epoch 52/100\n",
      "17/17 [==============================] - 0s 4ms/step - loss: 19.9358 - mae: 19.9358 - mse: 1686.0596 - val_loss: 190.1256 - val_mae: 190.1256 - val_mse: 70036.2031\n",
      "Epoch 53/100\n",
      "17/17 [==============================] - 0s 4ms/step - loss: 30.9896 - mae: 30.9896 - mse: 3099.6013 - val_loss: 390.8836 - val_mae: 390.8836 - val_mse: 229853.2656\n",
      "Epoch 54/100\n",
      "17/17 [==============================] - 0s 4ms/step - loss: 29.1670 - mae: 29.1670 - mse: 2694.5137 - val_loss: 265.5331 - val_mae: 265.5331 - val_mse: 119090.9062\n",
      "Epoch 55/100\n",
      "17/17 [==============================] - 0s 4ms/step - loss: 22.6812 - mae: 22.6812 - mse: 1810.0159 - val_loss: 194.1996 - val_mae: 194.1996 - val_mse: 69905.7266\n",
      "Epoch 56/100\n",
      " 1/17 [>.............................] - ETA: 0s - loss: 23.6083 - mae: 23.6083 - mse: 1943.8112INFO:tensorflow:Assets written to: model6\\assets\n"
     ]
    },
    {
     "name": "stderr",
     "output_type": "stream",
     "text": [
      "INFO:tensorflow:Assets written to: model6\\assets\n"
     ]
    },
    {
     "name": "stdout",
     "output_type": "stream",
     "text": [
      "17/17 [==============================] - 0s 22ms/step - loss: 18.2462 - mae: 18.2462 - mse: 1344.2902 - val_loss: 125.0756 - val_mae: 125.0756 - val_mse: 32817.3789\n",
      "Epoch 57/100\n",
      "17/17 [==============================] - 0s 4ms/step - loss: 25.4557 - mae: 25.4557 - mse: 2065.7380 - val_loss: 191.3081 - val_mae: 191.3081 - val_mse: 65693.8047\n",
      "Epoch 58/100\n",
      "17/17 [==============================] - 0s 4ms/step - loss: 27.4201 - mae: 27.4201 - mse: 2323.6895 - val_loss: 141.8403 - val_mae: 141.8403 - val_mse: 39815.5156\n",
      "Epoch 59/100\n",
      "17/17 [==============================] - 0s 4ms/step - loss: 27.2303 - mae: 27.2303 - mse: 2390.2766 - val_loss: 481.8388 - val_mae: 481.8388 - val_mse: 316661.8125\n",
      "Epoch 60/100\n",
      "17/17 [==============================] - 0s 4ms/step - loss: 72.5192 - mae: 72.5192 - mse: 13455.9971 - val_loss: 1077.3325 - val_mae: 1077.3325 - val_mse: 1494871.5000\n",
      "Epoch 61/100\n",
      "17/17 [==============================] - 0s 4ms/step - loss: 74.3729 - mae: 74.3729 - mse: 15792.7393 - val_loss: 326.3541 - val_mae: 326.3541 - val_mse: 156386.0156\n",
      "Epoch 62/100\n",
      " 1/17 [>.............................] - ETA: 0s - loss: 43.8267 - mae: 43.8267 - mse: 4180.8882INFO:tensorflow:Assets written to: model6\\assets\n"
     ]
    },
    {
     "name": "stderr",
     "output_type": "stream",
     "text": [
      "INFO:tensorflow:Assets written to: model6\\assets\n"
     ]
    },
    {
     "name": "stdout",
     "output_type": "stream",
     "text": [
      "17/17 [==============================] - 0s 23ms/step - loss: 26.7145 - mae: 26.7145 - mse: 2138.7263 - val_loss: 121.4414 - val_mae: 121.4414 - val_mse: 29497.4258\n",
      "Epoch 63/100\n",
      "17/17 [==============================] - 0s 4ms/step - loss: 23.6705 - mae: 23.6705 - mse: 1793.1595 - val_loss: 125.6214 - val_mae: 125.6214 - val_mse: 30939.9414\n",
      "Epoch 64/100\n",
      "17/17 [==============================] - 0s 4ms/step - loss: 21.2102 - mae: 21.2102 - mse: 1578.3828 - val_loss: 474.7516 - val_mae: 474.7516 - val_mse: 305783.5625\n",
      "Epoch 65/100\n",
      "17/17 [==============================] - 0s 4ms/step - loss: 47.2118 - mae: 47.2118 - mse: 5862.7046 - val_loss: 448.2853 - val_mae: 448.2853 - val_mse: 274146.3438\n",
      "Epoch 66/100\n",
      "17/17 [==============================] - 0s 4ms/step - loss: 28.0450 - mae: 28.0450 - mse: 2374.1392 - val_loss: 330.9438 - val_mae: 330.9438 - val_mse: 156699.5000\n",
      "Epoch 67/100\n",
      " 1/17 [>.............................] - ETA: 0s - loss: 40.5035 - mae: 40.5035 - mse: 4719.3857INFO:tensorflow:Assets written to: model6\\assets\n"
     ]
    },
    {
     "name": "stderr",
     "output_type": "stream",
     "text": [
      "INFO:tensorflow:Assets written to: model6\\assets\n"
     ]
    },
    {
     "name": "stdout",
     "output_type": "stream",
     "text": [
      "17/17 [==============================] - 0s 23ms/step - loss: 30.5812 - mae: 30.5812 - mse: 2551.3953 - val_loss: 99.0745 - val_mae: 99.0745 - val_mse: 19895.2188\n",
      "Epoch 68/100\n",
      " 1/17 [>.............................] - ETA: 0s - loss: 13.4552 - mae: 13.4552 - mse: 584.4015INFO:tensorflow:Assets written to: model6\\assets\n"
     ]
    },
    {
     "name": "stderr",
     "output_type": "stream",
     "text": [
      "INFO:tensorflow:Assets written to: model6\\assets\n"
     ]
    },
    {
     "name": "stdout",
     "output_type": "stream",
     "text": [
      "17/17 [==============================] - 0s 22ms/step - loss: 43.2664 - mae: 43.2664 - mse: 4836.5337 - val_loss: 91.6059 - val_mae: 91.6059 - val_mse: 17580.4961\n",
      "Epoch 69/100\n",
      "17/17 [==============================] - 0s 4ms/step - loss: 16.1289 - mae: 16.1289 - mse: 904.8958 - val_loss: 155.4846 - val_mae: 155.4846 - val_mse: 41712.2930\n",
      "Epoch 70/100\n",
      "17/17 [==============================] - 0s 4ms/step - loss: 18.7566 - mae: 18.7566 - mse: 1152.1781 - val_loss: 327.4518 - val_mae: 327.4518 - val_mse: 148223.9844\n",
      "Epoch 71/100\n",
      "17/17 [==============================] - 0s 4ms/step - loss: 31.9570 - mae: 31.9570 - mse: 2643.3230 - val_loss: 208.4242 - val_mae: 208.4242 - val_mse: 66500.4453\n",
      "Epoch 72/100\n",
      "17/17 [==============================] - 0s 4ms/step - loss: 25.6955 - mae: 25.6955 - mse: 1784.7192 - val_loss: 347.4318 - val_mae: 347.4318 - val_mse: 165002.6719\n",
      "Epoch 73/100\n",
      "17/17 [==============================] - 0s 4ms/step - loss: 46.1469 - mae: 46.1469 - mse: 4911.4688 - val_loss: 479.9393 - val_mae: 479.9393 - val_mse: 303427.6875\n",
      "Epoch 74/100\n",
      "17/17 [==============================] - 0s 4ms/step - loss: 49.1519 - mae: 49.1519 - mse: 5870.3784 - val_loss: 318.1025 - val_mae: 318.1025 - val_mse: 139219.6562\n",
      "Epoch 75/100\n",
      "17/17 [==============================] - 0s 4ms/step - loss: 22.4169 - mae: 22.4169 - mse: 1470.5348 - val_loss: 247.3701 - val_mae: 247.3701 - val_mse: 88232.7969\n",
      "Epoch 76/100\n",
      " 1/17 [>.............................] - ETA: 0s - loss: 29.9726 - mae: 29.9726 - mse: 1774.3157INFO:tensorflow:Assets written to: model6\\assets\n"
     ]
    },
    {
     "name": "stderr",
     "output_type": "stream",
     "text": [
      "INFO:tensorflow:Assets written to: model6\\assets\n"
     ]
    },
    {
     "name": "stdout",
     "output_type": "stream",
     "text": [
      "17/17 [==============================] - 0s 22ms/step - loss: 23.3337 - mae: 23.3337 - mse: 1461.2312 - val_loss: 77.7691 - val_mae: 77.7691 - val_mse: 12348.7139\n",
      "Epoch 77/100\n",
      " 1/17 [>.............................] - ETA: 0s - loss: 11.6459 - mae: 11.6459 - mse: 776.5244INFO:tensorflow:Assets written to: model6\\assets\n"
     ]
    },
    {
     "name": "stderr",
     "output_type": "stream",
     "text": [
      "INFO:tensorflow:Assets written to: model6\\assets\n"
     ]
    },
    {
     "name": "stdout",
     "output_type": "stream",
     "text": [
      "17/17 [==============================] - 0s 22ms/step - loss: 16.3297 - mae: 16.3297 - mse: 954.6659 - val_loss: 70.3911 - val_mae: 70.3911 - val_mse: 10317.1191\n",
      "Epoch 78/100\n",
      "17/17 [==============================] - 0s 4ms/step - loss: 20.4601 - mae: 20.4601 - mse: 1170.4092 - val_loss: 194.3378 - val_mae: 194.3378 - val_mse: 56054.6250\n",
      "Epoch 79/100\n",
      "17/17 [==============================] - 0s 4ms/step - loss: 36.5473 - mae: 36.5473 - mse: 3494.3633 - val_loss: 227.6997 - val_mae: 227.6997 - val_mse: 73811.3438\n",
      "Epoch 80/100\n",
      "17/17 [==============================] - 0s 4ms/step - loss: 44.2366 - mae: 44.2366 - mse: 4414.2656 - val_loss: 247.8554 - val_mae: 247.8554 - val_mse: 86111.6328\n",
      "Epoch 81/100\n",
      "17/17 [==============================] - 0s 4ms/step - loss: 55.2301 - mae: 55.2301 - mse: 7585.1714 - val_loss: 640.4884 - val_mae: 640.4884 - val_mse: 526512.4375\n",
      "Epoch 82/100\n",
      "17/17 [==============================] - 0s 4ms/step - loss: 43.6213 - mae: 43.6213 - mse: 4569.7485 - val_loss: 304.6683 - val_mae: 304.6683 - val_mse: 125487.2578\n",
      "Epoch 83/100\n",
      "17/17 [==============================] - 0s 4ms/step - loss: 42.8576 - mae: 42.8576 - mse: 4125.9717 - val_loss: 203.7205 - val_mae: 203.7205 - val_mse: 60532.2578\n",
      "Epoch 84/100\n",
      "17/17 [==============================] - 0s 4ms/step - loss: 20.9358 - mae: 20.9358 - mse: 1172.7944 - val_loss: 254.5079 - val_mae: 254.5079 - val_mse: 89833.6172\n",
      "Epoch 85/100\n",
      "17/17 [==============================] - 0s 4ms/step - loss: 32.5413 - mae: 32.5413 - mse: 2885.1675 - val_loss: 117.7057 - val_mae: 117.7057 - val_mse: 23574.5234\n",
      "Epoch 86/100\n",
      "17/17 [==============================] - 0s 4ms/step - loss: 12.1257 - mae: 12.1257 - mse: 504.9610 - val_loss: 436.1815 - val_mae: 436.1815 - val_mse: 247149.4062\n",
      "Epoch 87/100\n",
      "17/17 [==============================] - 0s 4ms/step - loss: 43.3561 - mae: 43.3561 - mse: 4220.6387 - val_loss: 74.3881 - val_mae: 74.3881 - val_mse: 10852.4590\n",
      "Epoch 88/100\n",
      "17/17 [==============================] - 0s 4ms/step - loss: 33.0886 - mae: 33.0886 - mse: 3010.6855 - val_loss: 383.8932 - val_mae: 383.8932 - val_mse: 192447.4375\n",
      "Epoch 89/100\n",
      "17/17 [==============================] - 0s 4ms/step - loss: 27.1615 - mae: 27.1615 - mse: 2070.4844 - val_loss: 131.1759 - val_mae: 131.1759 - val_mse: 27465.8828\n",
      "Epoch 90/100\n",
      "17/17 [==============================] - 0s 4ms/step - loss: 17.3553 - mae: 17.3553 - mse: 880.4590 - val_loss: 257.7083 - val_mae: 257.7083 - val_mse: 90038.0000\n",
      "Epoch 91/100\n",
      "17/17 [==============================] - 0s 4ms/step - loss: 27.0456 - mae: 27.0456 - mse: 1943.8207 - val_loss: 381.7557 - val_mae: 381.7557 - val_mse: 189483.0156\n",
      "Epoch 92/100\n",
      "17/17 [==============================] - 0s 4ms/step - loss: 26.4282 - mae: 26.4282 - mse: 1919.8741 - val_loss: 98.4463 - val_mae: 98.4463 - val_mse: 16496.3672\n",
      "Epoch 93/100\n",
      "17/17 [==============================] - 0s 5ms/step - loss: 20.8132 - mae: 20.8132 - mse: 1080.7330 - val_loss: 228.5991 - val_mae: 228.5991 - val_mse: 71046.0859\n",
      "Epoch 94/100\n",
      "17/17 [==============================] - 0s 4ms/step - loss: 17.0584 - mae: 17.0584 - mse: 936.7679 - val_loss: 272.7325 - val_mae: 272.7325 - val_mse: 99548.0781\n",
      "Epoch 95/100\n",
      " 1/17 [>.............................] - ETA: 0s - loss: 33.3766 - mae: 33.3766 - mse: 2209.7847INFO:tensorflow:Assets written to: model6\\assets\n"
     ]
    },
    {
     "name": "stderr",
     "output_type": "stream",
     "text": [
      "INFO:tensorflow:Assets written to: model6\\assets\n"
     ]
    },
    {
     "name": "stdout",
     "output_type": "stream",
     "text": [
      "17/17 [==============================] - 0s 22ms/step - loss: 18.3229 - mae: 18.3229 - mse: 889.8119 - val_loss: 47.4178 - val_mae: 47.4178 - val_mse: 4723.3721\n",
      "Epoch 96/100\n",
      "17/17 [==============================] - 0s 4ms/step - loss: 21.2838 - mae: 21.2838 - mse: 1562.0544 - val_loss: 480.0083 - val_mae: 480.0083 - val_mse: 295880.9375\n",
      "Epoch 97/100\n",
      "17/17 [==============================] - 0s 4ms/step - loss: 47.8921 - mae: 47.8921 - mse: 5391.7397 - val_loss: 272.7986 - val_mae: 272.7986 - val_mse: 97904.8594\n",
      "Epoch 98/100\n",
      "17/17 [==============================] - 0s 4ms/step - loss: 36.6617 - mae: 36.6617 - mse: 3064.6594 - val_loss: 407.1646 - val_mae: 407.1646 - val_mse: 213028.4375\n",
      "Epoch 99/100\n",
      "17/17 [==============================] - 0s 4ms/step - loss: 54.7281 - mae: 54.7281 - mse: 7108.9712 - val_loss: 152.5401 - val_mae: 152.5401 - val_mse: 33395.8242\n",
      "Epoch 100/100\n",
      "17/17 [==============================] - 0s 4ms/step - loss: 38.7336 - mae: 38.7336 - mse: 3817.3477 - val_loss: 179.2127 - val_mae: 179.2127 - val_mse: 44550.1484\n"
     ]
    }
   ],
   "source": [
    "model6 = tf.keras.Sequential([\n",
    "    tf.keras.layers.Dense(128,activation=\"relu\"),\n",
    "    tf.keras.layers.Dense(1)\n",
    "],name=\"model6\")\n",
    "model6.compile(loss = \"mae\", optimizer = tf.keras.optimizers.Adam(), metrics = [\"mae\",\"mse\"])\n",
    "history6 = model6.fit(train_win,\n",
    "                      train_hor,\n",
    "                      epochs = 100,\n",
    "                      validation_data = (test_win,test_hor),\n",
    "                       batch_size = 128,\n",
    "                      callbacks = [create_model_checkpoint(\"model6\")])"
   ]
  },
  {
   "cell_type": "markdown",
   "metadata": {},
   "source": [
    "# EVALUATING MODEL6"
   ]
  },
  {
   "cell_type": "code",
   "execution_count": 99,
   "metadata": {},
   "outputs": [],
   "source": [
    "model6 = tf.keras.models.load_model(\"model6\")"
   ]
  },
  {
   "cell_type": "code",
   "execution_count": 100,
   "metadata": {},
   "outputs": [
    {
     "name": "stdout",
     "output_type": "stream",
     "text": [
      "17/17 [==============================] - 0s 2ms/step - loss: 47.4177 - mae: 47.4177 - mse: 4723.3428\n"
     ]
    },
    {
     "data": {
      "text/plain": [
       "[47.41765213012695, 47.41765213012695, 4723.3427734375]"
      ]
     },
     "execution_count": 100,
     "metadata": {},
     "output_type": "execute_result"
    }
   ],
   "source": [
    "model6.evaluate(test_win, test_hor)"
   ]
  },
  {
   "cell_type": "code",
   "execution_count": 101,
   "metadata": {},
   "outputs": [
    {
     "data": {
      "text/plain": [
       "{'MEAN ABSOLUTE ERROR': 47.417652,\n",
       " 'MEAN SQUARED ERROR': 4723.3423,\n",
       " 'ROOT MEAN SQUARED ERROR': 68.72658,\n",
       " 'MEAN ABSOLUTE PERCENTAGE ERROR': 0.12513582}"
      ]
     },
     "execution_count": 101,
     "metadata": {},
     "output_type": "execute_result"
    }
   ],
   "source": [
    "pred6 = tf.squeeze(model6.predict(test_win)).numpy()\n",
    "model6_report = model_report(test_hor, pred6)\n",
    "model6_report"
   ]
  },
  {
   "cell_type": "markdown",
   "metadata": {},
   "source": [
    "# PLOTTING THE PREDICTIONS OF MODEL6"
   ]
  },
  {
   "cell_type": "code",
   "execution_count": 114,
   "metadata": {},
   "outputs": [
    {
     "data": {
      "image/png": "[encoded data removed]",
      "text/plain": [
       "<Figure size 720x504 with 1 Axes>"
      ]
     },
     "metadata": {
      "needs_background": "light"
     },
     "output_type": "display_data"
    }
   ],
   "source": [
    "plt.figure(figsize=(10,7))\n",
    "plot_timeseries(timesteps[-int(len(test_hor)):], test_hor.values, label = \"TEST DATA\")\n",
    "plot_timeseries(timesteps[-int(len(test_hor)):], pred6, format = '-',label = \"PREDICTIONS\")"
   ]
  },
  {
   "cell_type": "code",
   "execution_count": null,
   "metadata": {},
   "outputs": [],
   "source": []
  },
  {
   "cell_type": "code",
   "execution_count": null,
   "metadata": {},
   "outputs": [],
   "source": []
  },
  {
   "cell_type": "code",
   "execution_count": null,
   "metadata": {},
   "outputs": [],
   "source": []
  },
  {
   "cell_type": "code",
   "execution_count": null,
   "metadata": {},
   "outputs": [],
   "source": []
  },
  {
   "cell_type": "code",
   "execution_count": null,
   "metadata": {},
   "outputs": [],
   "source": []
  },
  {
   "cell_type": "code",
   "execution_count": null,
   "metadata": {},
   "outputs": [],
   "source": []
  },
  {
   "cell_type": "code",
   "execution_count": null,
   "metadata": {},
   "outputs": [],
   "source": []
  }
 ],
 "metadata": {
  "kernelspec": {
   "display_name": "env",
   "language": "python",
   "name": "env"
  },
  "language_info": {
   "codemirror_mode": {
    "name": "ipython",
    "version": 3
   },
   "file_extension": ".py",
   "mimetype": "text/x-python",
   "name": "python",
   "nbconvert_exporter": "python",
   "pygments_lexer": "ipython3",
   "version": "3.9.0"
  }
 },
 "nbformat": 4,
 "nbformat_minor": 4
}
