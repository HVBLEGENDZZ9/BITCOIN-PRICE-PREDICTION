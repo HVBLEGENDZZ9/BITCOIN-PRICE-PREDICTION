{
 "cells": [
  {
   "cell_type": "code",
   "execution_count": 2,
   "metadata": {},
   "outputs": [],
   "source": [
    "ensemble = {'MEAN ABSOLUTE ERROR': 1053.2626,\n",
    " 'MEAN SQUARED ERROR': 2528019.2,\n",
    " 'ROOT MEAN SQUARED ERROR': 1589.9746,\n",
    " 'MEAN ABSOLUTE PERCENTAGE ERROR': 2.77153}\n",
    "\n",
    "nbeats = {'MEAN ABSOLUTE ERROR': 1091.0695,\n",
    " 'MEAN SQUARED ERROR': 2649196.5,\n",
    " 'ROOT MEAN SQUARED ERROR': 1627.6353,\n",
    " 'MEAN ABSOLUTE PERCENTAGE ERROR': 2.894559}\n",
    "\n",
    "naive_forecast = {'MEAN ABSOLUTE ERROR': 1053.4937744140625,\n",
    " 'MEAN SQUARED ERROR': 2533305.0,\n",
    " 'ROOT MEAN SQUARED ERROR': 1591.6359508380049,\n",
    " 'MEAN ABSOLUTE PERCENTAGE ERROR': 2.783683044788772}\n",
    "\n",
    "dense_7_1 = {'MEAN ABSOLUTE ERROR': 1339.2299,\n",
    " 'MEAN SQUARED ERROR': 3366366.5,\n",
    " 'ROOT MEAN SQUARED ERROR': 1834.766,\n",
    " 'MEAN ABSOLUTE PERCENTAGE ERROR': 3.1417484}\n",
    "\n",
    "dense_30_1 = {'MEAN ABSOLUTE ERROR': 1247.9705,\n",
    " 'MEAN SQUARED ERROR': 3173892.0,\n",
    " 'ROOT MEAN SQUARED ERROR': 1781.542,\n",
    " 'MEAN ABSOLUTE PERCENTAGE ERROR': 3.3481154}\n",
    "\n",
    "dense_30_7 = {'MEAN ABSOLUTE ERROR': 2220.9062,\n",
    " 'MEAN SQUARED ERROR': 10973673.0,\n",
    " 'ROOT MEAN SQUARED ERROR': 3312.6536,\n",
    " 'MEAN ABSOLUTE PERCENTAGE ERROR': 5.845532}\n",
    "\n",
    "cnn1d = {'MEAN ABSOLUTE ERROR': 18642.43,\n",
    " 'MEAN SQUARED ERROR': 439573340.0,\n",
    " 'ROOT MEAN SQUARED ERROR': 20966.004,\n",
    " 'MEAN ABSOLUTE PERCENTAGE ERROR': 52.35763}\n",
    "\n",
    "lstm = {'MEAN ABSOLUTE ERROR': 1114.3326,\n",
    " 'MEAN SQUARED ERROR': 2743902.8,\n",
    " 'ROOT MEAN SQUARED ERROR': 1656.473,\n",
    " 'MEAN ABSOLUTE PERCENTAGE ERROR': 2.9406936}"
   ]
  },
  {
   "cell_type": "code",
   "execution_count": 9,
   "metadata": {},
   "outputs": [
    {
     "data": {
      "text/html": [
       "<div>\n",
       "<style scoped>\n",
       "    .dataframe tbody tr th:only-of-type {\n",
       "        vertical-align: middle;\n",
       "    }\n",
       "\n",
       "    .dataframe tbody tr th {\n",
       "        vertical-align: top;\n",
       "    }\n",
       "\n",
       "    .dataframe thead th {\n",
       "        text-align: right;\n",
       "    }\n",
       "</style>\n",
       "<table border=\"1\" class=\"dataframe\">\n",
       "  <thead>\n",
       "    <tr style=\"text-align: right;\">\n",
       "      <th></th>\n",
       "      <th>MEAN ABSOLUTE ERROR</th>\n",
       "    </tr>\n",
       "  </thead>\n",
       "  <tbody>\n",
       "    <tr>\n",
       "      <th>NAIVE MODEL</th>\n",
       "      <td>1053.493774</td>\n",
       "    </tr>\n",
       "    <tr>\n",
       "      <th>DENSE(7,1)</th>\n",
       "      <td>1339.229900</td>\n",
       "    </tr>\n",
       "    <tr>\n",
       "      <th>DENSE(30,7)</th>\n",
       "      <td>2220.906200</td>\n",
       "    </tr>\n",
       "    <tr>\n",
       "      <th>CONV1D</th>\n",
       "      <td>18642.430000</td>\n",
       "    </tr>\n",
       "    <tr>\n",
       "      <th>LSTM</th>\n",
       "      <td>1114.332600</td>\n",
       "    </tr>\n",
       "    <tr>\n",
       "      <th>NBEATS</th>\n",
       "      <td>1091.069500</td>\n",
       "    </tr>\n",
       "    <tr>\n",
       "      <th>ENSEMBLE</th>\n",
       "      <td>1053.262600</td>\n",
       "    </tr>\n",
       "  </tbody>\n",
       "</table>\n",
       "</div>"
      ],
      "text/plain": [
       "             MEAN ABSOLUTE ERROR\n",
       "NAIVE MODEL          1053.493774\n",
       "DENSE(7,1)           1339.229900\n",
       "DENSE(30,7)          2220.906200\n",
       "CONV1D              18642.430000\n",
       "LSTM                 1114.332600\n",
       "NBEATS               1091.069500\n",
       "ENSEMBLE             1053.262600"
      ]
     },
     "execution_count": 9,
     "metadata": {},
     "output_type": "execute_result"
    }
   ],
   "source": [
    "import matplotlib.pyplot as plt\n",
    "import pandas as pd\n",
    "df = pd.DataFrame({\n",
    "    \"NAIVE MODEL\":naive_forecast[\"MEAN ABSOLUTE ERROR\"],\n",
    "    \"DENSE(7,1)\":dense_7_1[\"MEAN ABSOLUTE ERROR\"],\n",
    "    \"DENSE(30,7)\":dense_30_7[\"MEAN ABSOLUTE ERROR\"],\n",
    "    \"CONV1D\":cnn1d[\"MEAN ABSOLUTE ERROR\"],\n",
    "    \"LSTM\":lstm[\"MEAN ABSOLUTE ERROR\"],\n",
    "    \"NBEATS\":nbeats[\"MEAN ABSOLUTE ERROR\"],\n",
    "    \"ENSEMBLE\":ensemble['MEAN ABSOLUTE ERROR']\n",
    "},index = [\"MEAN ABSOLUTE ERROR\"])\n",
    "df = df.transpose()\n",
    "df"
   ]
  },
  {
   "cell_type": "code",
   "execution_count": 21,
   "metadata": {},
   "outputs": [
    {
     "data": {
      "text/plain": [
       "<Figure size 360x216 with 0 Axes>"
      ]
     },
     "metadata": {},
     "output_type": "display_data"
    },
    {
     "data": {
      "image/png": "[encoded data removed]",
      "text/plain": [
       "<Figure size 792x360 with 1 Axes>"
      ]
     },
     "metadata": {
      "needs_background": "light"
     },
     "output_type": "display_data"
    }
   ],
   "source": [
    "import numpy as np\n",
    "plt.figure(figsize=(5,3))\n",
    "fig,ax = plt.subplots(figsize=(11,5))\n",
    "scores = plt.barh(df.index,df[\"MEAN ABSOLUTE ERROR\"],height = 0.2,color='blue')\n",
    "plt.xlabel(\"MEAN ABSOLUTE ERROR\")\n",
    "plt.ylabel(\"MODEL NAMES\")\n",
    "plt.title(\"MAE\")\n",
    "for i, v in enumerate(df[\"MEAN ABSOLUTE ERROR\"]):\n",
    "  ax.text(v + 0.001 , i , str(np.round(v,decimals=2)), color='blue', fontweight='bold')"
   ]
  }
 ],
 "metadata": {
  "kernelspec": {
   "display_name": "env",
   "language": "python",
   "name": "env"
  },
  "language_info": {
   "codemirror_mode": {
    "name": "ipython",
    "version": 3
   },
   "file_extension": ".py",
   "mimetype": "text/x-python",
   "name": "python",
   "nbconvert_exporter": "python",
   "pygments_lexer": "ipython3",
   "version": "3.9.0"
  }
 },
 "nbformat": 4,
 "nbformat_minor": 4
}
